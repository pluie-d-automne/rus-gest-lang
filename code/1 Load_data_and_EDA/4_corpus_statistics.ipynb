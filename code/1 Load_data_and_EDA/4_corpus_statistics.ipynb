{
 "cells": [
  {
   "cell_type": "code",
   "execution_count": 1,
   "metadata": {},
   "outputs": [],
   "source": [
    "import os\n",
    "import json\n",
    "import pandas as pd\n",
    "annotations_path = 'C:/Users/pdkud/Documents/Learning/Магистратура МФТИ/RSL_corpus/annotations'"
   ]
  },
  {
   "cell_type": "code",
   "execution_count": 16,
   "metadata": {},
   "outputs": [],
   "source": [
    "annotations = [f for f in os.listdir(annotations_path) if f != 'description.csv' and 'bad' not in f]"
   ]
  },
  {
   "cell_type": "code",
   "execution_count": 24,
   "metadata": {},
   "outputs": [],
   "source": [
    "translations_list = list()\n",
    "for filename in annotations:\n",
    "    translations_dict = dict()\n",
    "    with open(annotations_path+'/'+filename, 'r') as f:\n",
    "        data = json.load(f)\n",
    "        for r in data:\n",
    "            translations_dict[(r[1], r[2])] = r[0]\n",
    "    translations_list.append([filename, translations_dict])"
   ]
  },
  {
   "cell_type": "code",
   "execution_count": 25,
   "metadata": {},
   "outputs": [],
   "source": [
    "translations_cnt = sum([len(x[1]) for x in translations_list])"
   ]
  },
  {
   "cell_type": "code",
   "execution_count": 27,
   "metadata": {},
   "outputs": [
    {
     "name": "stdout",
     "output_type": "stream",
     "text": [
      "Общее кол-во слов и файлов, выделенных на основе аннотации: 51743\n"
     ]
    }
   ],
   "source": [
    "print(f\"Общее кол-во слов и файлов, выделенных на основе аннотации: {translations_cnt}\")"
   ]
  },
  {
   "cell_type": "code",
   "execution_count": 26,
   "metadata": {},
   "outputs": [],
   "source": [
    "translations = pd.read_excel('C:/Users/pdkud/Documents/Learning/Магистратура МФТИ/RSL_corpus/translations.xlsx')\n",
    "translations['LENGTH'] = translations['TRANSLATION'].str.split(' ').str.len()"
   ]
  },
  {
   "cell_type": "code",
   "execution_count": 60,
   "metadata": {},
   "outputs": [],
   "source": [
    "translations['CLEANED'] = translations.TRANSLATION.str.lower()\\\n",
    "    .str.replace(\"[.?!,:.\\\"–=#\\^]\", \"\", regex=True)\\\n",
    "    .str.replace(\"clf\", \"\").str.replace(\"indx\", \"\").str.replace(\"1ps\", \"\")\\\n",
    "    .str.replace(\"du\", \"\").str.replace(\"fut\", \"\").str.replace(\"imp\", \"\")\\\n",
    "    .str.replace(\"loc\", \"\").str.replace(\"ord\", \"\").str.replace(\"past\", \"\")\\\n",
    "    .str.replace(\"pi\", \"\").str.replace(\"pres\", \"\").str.replace(\"prtcl\", \"\")"
   ]
  },
  {
   "cell_type": "code",
   "execution_count": 61,
   "metadata": {},
   "outputs": [
    {
     "data": {
      "text/plain": [
       "5230"
      ]
     },
     "execution_count": 61,
     "metadata": {},
     "output_type": "execute_result"
    }
   ],
   "source": [
    "# Уникальные глоссы\n",
    "len(set(translations[translations['LENGTH']==1.0].CLEANED))"
   ]
  },
  {
   "cell_type": "code",
   "execution_count": 63,
   "metadata": {},
   "outputs": [
    {
     "data": {
      "text/plain": [
       "7877"
      ]
     },
     "execution_count": 63,
     "metadata": {},
     "output_type": "execute_result"
    }
   ],
   "source": [
    "# Уникальные фразы\n",
    "len(set(translations[translations['LENGTH'] > 1.0].CLEANED))"
   ]
  },
  {
   "cell_type": "code",
   "execution_count": 54,
   "metadata": {},
   "outputs": [
    {
     "data": {
      "text/plain": [
       "8                                кот\n",
       "9                   смотретьвбинокль\n",
       "10                           глазеет\n",
       "13                   камерадвигаться\n",
       "14                  смотретьвбинокль\n",
       "                    ...             \n",
       "51695                      множество\n",
       "51696                           лечь\n",
       "51697    человеклежатьопускатьсявниз\n",
       "51698                        этажтри\n",
       "51699                           indx\n",
       "Name: CLEANED, Length: 42918, dtype: object"
      ]
     },
     "execution_count": 54,
     "metadata": {},
     "output_type": "execute_result"
    }
   ],
   "source": [
    "translations[translations['LENGTH']==1.0].CLEANED"
   ]
  },
  {
   "cell_type": "code",
   "execution_count": 77,
   "metadata": {},
   "outputs": [],
   "source": [
    "description = pd.read_csv(\n",
    "    'C:/Users/pdkud/Documents/Learning/Магистратура МФТИ/RSL_corpus/annotations/description.csv',\n",
    "    encoding = 'latin-1',\n",
    "    delimiter=';')"
   ]
  },
  {
   "cell_type": "code",
   "execution_count": 75,
   "metadata": {},
   "outputs": [
    {
     "data": {
      "text/plain": [
       "40"
      ]
     },
     "execution_count": 75,
     "metadata": {},
     "output_type": "execute_result"
    }
   ],
   "source": [
    "len(set(description.respondent_id))"
   ]
  },
  {
   "cell_type": "code",
   "execution_count": 81,
   "metadata": {},
   "outputs": [
    {
     "data": {
      "text/plain": [
       "array(['Íîâîñèáèðñê', 'Ìîñêâà', 'Óçáåêèñòàí'], dtype=object)"
      ]
     },
     "execution_count": 81,
     "metadata": {},
     "output_type": "execute_result"
    }
   ],
   "source": [
    "description.item_city.unique()"
   ]
  }
 ],
 "metadata": {
  "kernelspec": {
   "display_name": "Python 3",
   "language": "python",
   "name": "python3"
  },
  "language_info": {
   "codemirror_mode": {
    "name": "ipython",
    "version": 3
   },
   "file_extension": ".py",
   "mimetype": "text/x-python",
   "name": "python",
   "nbconvert_exporter": "python",
   "pygments_lexer": "ipython3",
   "version": "3.10.5"
  },
  "orig_nbformat": 4
 },
 "nbformat": 4,
 "nbformat_minor": 2
}

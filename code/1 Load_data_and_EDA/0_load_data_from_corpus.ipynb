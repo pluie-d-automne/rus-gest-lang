{
 "cells": [
  {
   "cell_type": "code",
   "execution_count": 184,
   "metadata": {},
   "outputs": [],
   "source": [
    "#!pip install selenium"
   ]
  },
  {
   "cell_type": "code",
   "execution_count": 395,
   "metadata": {},
   "outputs": [],
   "source": [
    "from selenium import webdriver\n",
    "from selenium.webdriver.edge.options import Options\n",
    "from selenium.webdriver.common.keys import Keys\n",
    "from selenium.webdriver.common.by import By\n",
    "import json\n",
    "import urllib.request\n",
    "import os\n",
    "\n",
    "MAIN_URL = \"http://rsl.nstu.ru/\"\n",
    "login_name = ''\n",
    "login_pwd = ''\n",
    "\n",
    "video_path = ''\n",
    "annotations_path = ''"
   ]
  },
  {
   "cell_type": "code",
   "execution_count": 396,
   "metadata": {},
   "outputs": [],
   "source": [
    "# Вспомогательные функции\n",
    "def elan_data_to_json(elan_data):\n",
    "    elan_data_words = elan_data.split(';')[2]\n",
    "    elan_data_words = elan_data_words[elan_data_words.index('['):]\n",
    "    elan_data_words = ''.join(elan_data_words.split(\"\\n\"))\n",
    "    elan_data_words_list = list()\n",
    "    for x in elan_data_words.split('],['):\n",
    "        word = x.replace(\"[\",\"\").replace(\"]\",\"\").replace('\"','').split(',')\n",
    "        if len(word)>2:\n",
    "            word = [','.join(word[0:-2]), int(word[-2]), int(word[-1])]\n",
    "        elan_data_words_list.append(word)\n",
    "    return json.dumps(elan_data_words_list, ensure_ascii=False).encode(\"utf-8\").decode()"
   ]
  },
  {
   "cell_type": "code",
   "execution_count": 397,
   "metadata": {},
   "outputs": [
    {
     "data": {
      "text/plain": [
       "[<selenium.webdriver.remote.webelement.WebElement (session=\"95a2a27b9ef99343e6fde2a962ce1cb1\", element=\"E6BA697AE92F1E80BAE5A96AEF212A09_element_9\")>,\n",
       " <selenium.webdriver.remote.webelement.WebElement (session=\"95a2a27b9ef99343e6fde2a962ce1cb1\", element=\"E6BA697AE92F1E80BAE5A96AEF212A09_element_10\")>]"
      ]
     },
     "execution_count": 397,
     "metadata": {},
     "output_type": "execute_result"
    }
   ],
   "source": [
    "# Вход на страницу с данными\n",
    "options = Options()\n",
    "driver = webdriver.Edge(options=options)\n",
    "driver.get(MAIN_URL+'/login')\n",
    "assert \"Корпус русского жестового языка\" in driver.title\n",
    "elem = driver.find_element(By.NAME, 'LoginForm[username]')\n",
    "elem.clear()\n",
    "elem.send_keys(login_name)\n",
    "elem.send_keys(Keys.RETURN)\n",
    "elem = driver.find_element(By.NAME, 'LoginForm[password]')\n",
    "elem.clear()\n",
    "elem.send_keys(login_pwd)\n",
    "elem.send_keys(Keys.RETURN)\n",
    "driver.find_elements(By.XPATH, '//button')"
   ]
  },
  {
   "cell_type": "code",
   "execution_count": 398,
   "metadata": {},
   "outputs": [
    {
     "name": "stderr",
     "output_type": "stream",
     "text": [
      "C:\\Users\\pdkud\\AppData\\Local\\Temp\\ipykernel_23296\\5122669.py:55: DeprecationWarning: invalid escape sequence '\\/'\n",
      "  myfile = f.read().decode('unicode-escape')\n"
     ]
    }
   ],
   "source": [
    "cities = [\"Новосибирск\", \"Москва\", \"Узбекистан\"]\n",
    "months = [\"Январь\", \"Февраль\", \"Март\", \"Апрель\", \"Май\", \"Июнь\", \"Июль\", \"Август\", \"Сентябрь\", \"Октябрь\", \"Ноябрь\", \"Декабрь\"]\n",
    "\n",
    "description = 'item_name;item_type;item_city;item_theme;item_year;item_month;respondent_id\\n'\n",
    "\n",
    "for i in range(1,13,1):\n",
    "    CURRENT_URL = MAIN_URL + f'/data/index/ajax/yw0/Metadata_page/{i}'\n",
    "    driver.get(CURRENT_URL)\n",
    "    current_table = driver.find_element(By.TAG_NAME, \"tbody\")\n",
    "    table_data = current_table.text\n",
    "    table_data = table_data.split(\"\\n\")\n",
    "    video_links = driver.find_elements(By.XPATH, \"//a[@title='Просмотреть']\")\n",
    "    video_links = [x.get_property('href') for x in video_links if 'id' in x.get_property('href')]\n",
    "\n",
    "\n",
    "    for item in table_data:\n",
    "        item = item.split(' ')\n",
    "        item_name = item[0]\n",
    "        respondent_id = item[-1]\n",
    "        if item[-2] in months:\n",
    "            item_month = item[-2]\n",
    "            item_year = item[-3]\n",
    "            year_index = -3\n",
    "        else:\n",
    "            item_month = ''\n",
    "            item_year = item[-2]\n",
    "            year_index = -2\n",
    "        \n",
    "        for city in cities:\n",
    "            if city in item:\n",
    "                item_city = city\n",
    "                city_index = item.index(city)\n",
    "        item_type = ' '.join(item[1:city_index])\n",
    "        item_theme = ' '.join(item[city_index+1:year_index])\n",
    "        description += item_name+';'+item_type+';'+item_city+';'+item_theme+';'+item_year+';'+item_month+';'+respondent_id+'\\n'\n",
    "    \n",
    "    # load_videos and glosses\n",
    "    for video_link in video_links:\n",
    "        driver.get(video_link)\n",
    "        video_elem = driver.find_element(By.XPATH, \"//video\")\n",
    "        load_video_link = video_elem.get_property('src')\n",
    "        video_name = load_video_link.split('/')[-1]\n",
    "        n=0\n",
    "        while n<3:\n",
    "            try:\n",
    "                urllib.request.urlretrieve(load_video_link, video_path+video_name)\n",
    "                n=3\n",
    "            except:\n",
    "                n+=1\n",
    "        elan_name = video_name.split('.')[0]\n",
    "\n",
    "        elan_elems = driver.find_elements(By.XPATH, \"//script[@type='text/javascript']\")\n",
    "        elan_link = [x.get_property('src') for x in elan_elems if 'video' in x.get_property('src')]\n",
    "        with urllib.request.urlopen(elan_link[0]) as f:\n",
    "            myfile = f.read().decode('unicode-escape')\n",
    "        with open(annotations_path+elan_name+'.txt', 'w') as new_file:\n",
    "            new_file.write(elan_data_to_json(myfile))\n"
   ]
  },
  {
   "cell_type": "code",
   "execution_count": 399,
   "metadata": {},
   "outputs": [],
   "source": [
    "with open(annotations_path+'description.csv', 'w') as desc_file:\n",
    "    desc_file.write(description)\n"
   ]
  },
  {
   "cell_type": "code",
   "execution_count": 400,
   "metadata": {},
   "outputs": [],
   "source": [
    "driver.close()"
   ]
  },
  {
   "cell_type": "code",
   "execution_count": 404,
   "metadata": {},
   "outputs": [
    {
     "data": {
      "text/plain": [
       "173"
      ]
     },
     "execution_count": 404,
     "metadata": {},
     "output_type": "execute_result"
    }
   ],
   "source": [
    "len(os.listdir(video_path))"
   ]
  },
  {
   "cell_type": "code",
   "execution_count": 405,
   "metadata": {},
   "outputs": [
    {
     "data": {
      "text/plain": [
       "174"
      ]
     },
     "execution_count": 405,
     "metadata": {},
     "output_type": "execute_result"
    }
   ],
   "source": [
    "len(os.listdir(annotations_path))"
   ]
  }
 ],
 "metadata": {
  "kernelspec": {
   "display_name": "Python 3",
   "language": "python",
   "name": "python3"
  },
  "language_info": {
   "codemirror_mode": {
    "name": "ipython",
    "version": 3
   },
   "file_extension": ".py",
   "mimetype": "text/x-python",
   "name": "python",
   "nbconvert_exporter": "python",
   "pygments_lexer": "ipython3",
   "version": "3.10.5"
  },
  "orig_nbformat": 4
 },
 "nbformat": 4,
 "nbformat_minor": 2
}

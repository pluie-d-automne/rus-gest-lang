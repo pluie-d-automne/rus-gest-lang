{
  "cells": [
    {
      "cell_type": "markdown",
      "metadata": {
        "cellId": "ebk7qk8okz6rlk4hp7jrbb",
        "id": "sL0Mup8ev7iQ"
      },
      "source": [
        "# Prepare vido frames"
      ]
    },
    {
      "cell_type": "code",
      "source": [
        "!pip install progress"
      ],
      "metadata": {
        "id": "xQ0RZIwaU9Nt",
        "colab": {
          "base_uri": "https://localhost:8080/"
        },
        "outputId": "a1415c53-67d0-4599-d2ca-e12e5983aea6"
      },
      "execution_count": 1,
      "outputs": [
        {
          "output_type": "stream",
          "name": "stdout",
          "text": [
            "Collecting progress\n",
            "  Downloading progress-1.6.tar.gz (7.8 kB)\n",
            "  Preparing metadata (setup.py) ... \u001b[?25l\u001b[?25hdone\n",
            "Building wheels for collected packages: progress\n",
            "  Building wheel for progress (setup.py) ... \u001b[?25l\u001b[?25hdone\n",
            "  Created wheel for progress: filename=progress-1.6-py3-none-any.whl size=9610 sha256=6124f15261720be895ee5fa50e817e26e63ecc363b0350f31749d3eb6648770c\n",
            "  Stored in directory: /root/.cache/pip/wheels/a2/68/5f/c339b20a41659d856c93ccdce6a33095493eb82c3964aac5a1\n",
            "Successfully built progress\n",
            "Installing collected packages: progress\n",
            "Successfully installed progress-1.6\n"
          ]
        }
      ]
    },
    {
      "cell_type": "code",
      "source": [
        "from google.colab import drive\n",
        "drive.mount('/content/drive')"
      ],
      "metadata": {
        "colab": {
          "base_uri": "https://localhost:8080/"
        },
        "id": "s6IAN5RXkv1Q",
        "outputId": "8dc95021-015a-4f99-df3b-36db8ca58c5f"
      },
      "execution_count": 2,
      "outputs": [
        {
          "output_type": "stream",
          "name": "stdout",
          "text": [
            "Mounted at /content/drive\n"
          ]
        }
      ]
    },
    {
      "cell_type": "code",
      "execution_count": 3,
      "metadata": {
        "cellId": "8paurz5im5rjiljc9duqhp",
        "execution": {
          "iopub.execute_input": "2023-11-21T16:42:30.907473Z",
          "iopub.status.busy": "2023-11-21T16:42:30.906698Z",
          "iopub.status.idle": "2023-11-21T16:42:39.202741Z",
          "shell.execute_reply": "2023-11-21T16:42:39.202040Z",
          "shell.execute_reply.started": "2023-11-21T16:42:30.907432Z"
        },
        "id": "RcSpbHhEf-XV",
        "tags": []
      },
      "outputs": [],
      "source": [
        "import os\n",
        "import cv2\n",
        "import torch\n",
        "#torch.cuda.empty_cache()\n",
        "from torch import nn\n",
        "from torch.utils.data import DataLoader\n",
        "import numpy as np\n",
        "import pandas as pd\n",
        "from torch.utils.data import Dataset\n",
        "from progress.bar import IncrementalBar"
      ]
    },
    {
      "cell_type": "code",
      "execution_count": 4,
      "metadata": {
        "cellId": "w9p753byrgldi94y8utr",
        "execution": {
          "iopub.execute_input": "2023-11-21T16:42:43.986694Z",
          "iopub.status.busy": "2023-11-21T16:42:43.986064Z",
          "iopub.status.idle": "2023-11-21T16:42:44.014543Z",
          "shell.execute_reply": "2023-11-21T16:42:44.013864Z",
          "shell.execute_reply.started": "2023-11-21T16:42:43.986656Z"
        },
        "id": "YV2k0jav3Ygd"
      },
      "outputs": [],
      "source": [
        "annotations_file = \"/content/drive/MyDrive/slovo/SLOVO_DF_SHORT.tsv\" #\"/home/jupyter/mnt/s3/rsl-videos/slovo/slovo_annotations/SLOVO_DATAFRAME.tsv\"\n",
        "video_dir = \"/content/drive/MyDrive/slovo/animals\" #\"/home/jupyter/mnt/s3/rsl-videos/slovo/slovo\"\n",
        "dataset_dir = \"/content/drive/MyDrive/slovo/animalsdataset\" # \"/home/jupyter/mnt/s3/rsl-videos/slovo/dataset\"\n",
        "IMG_SIZE = 224"
      ]
    },
    {
      "cell_type": "code",
      "execution_count": 5,
      "metadata": {
        "cellId": "gzf0os2eohpvg5ebxi867",
        "execution": {
          "iopub.execute_input": "2023-11-21T16:42:39.204693Z",
          "iopub.status.busy": "2023-11-21T16:42:39.204082Z",
          "iopub.status.idle": "2023-11-21T16:42:39.249478Z",
          "shell.execute_reply": "2023-11-21T16:42:39.248808Z",
          "shell.execute_reply.started": "2023-11-21T16:42:39.204660Z"
        },
        "id": "AG_BoaIqf-6V"
      },
      "outputs": [],
      "source": [
        "def crop_center_square(frame):\n",
        "    y, x = frame.shape[0:2]\n",
        "    min_dim = min(y, x)\n",
        "    start_x = (x // 2) - (min_dim // 2)\n",
        "    start_y = (y // 2) - (min_dim // 2)\n",
        "    return frame[start_y : start_y + min_dim, start_x : start_x + min_dim]\n",
        "\n",
        "def load_video(path, begin, end, base_name, resize=(IMG_SIZE, IMG_SIZE)):\n",
        "    cap = cv2.VideoCapture(path)\n",
        "    frame_index=begin\n",
        "    i = 0\n",
        "    try:\n",
        "        while True and frame_index <= end:\n",
        "            cap.set(cv2.CAP_PROP_POS_FRAMES, frame_index)\n",
        "            ret, frame = cap.read()\n",
        "            if not ret:\n",
        "                break\n",
        "            frame = crop_center_square(frame)\n",
        "            frame = cv2.resize(frame, resize)\n",
        "            frame = cv2.cvtColor(frame, cv2.COLOR_BGR2GRAY) # convert to grayscale\n",
        "            frame_name = f'{base_name}_{i}.png'\n",
        "            cv2.imwrite(frame_name, frame)\n",
        "            frame_index+=1\n",
        "            i+=1\n",
        "    finally:\n",
        "        cap.release()\n"
      ]
    },
    {
      "cell_type": "code",
      "execution_count": 6,
      "metadata": {
        "cellId": "451pcawjko8t9vly7emlcs",
        "colab": {
          "base_uri": "https://localhost:8080/",
          "height": 206
        },
        "execution": {
          "iopub.execute_input": "2023-11-21T16:42:47.041905Z",
          "iopub.status.busy": "2023-11-21T16:42:47.041143Z",
          "iopub.status.idle": "2023-11-21T16:42:47.410120Z",
          "shell.execute_reply": "2023-11-21T16:42:47.409443Z",
          "shell.execute_reply.started": "2023-11-21T16:42:47.041866Z"
        },
        "id": "FvlrwcpQgBTA",
        "outputId": "e68cd7e2-b9ac-4ba7-b408-9a67b2373f48"
      },
      "outputs": [
        {
          "output_type": "execute_result",
          "data": {
            "text/plain": [
              "   Unnamed: 0                         attachment_id     text  begin  end\n",
              "0           0  8f4d3be1-3a09-4d76-94ef-f8b1dbfa686b  пингвин     29  100\n",
              "1           1  4f9e3cb5-b9de-48bc-a51d-875b8fea8e10  пингвин     21   79\n",
              "2           2  1de7b5b0-ce08-419f-aeed-e7e480da953d  пингвин      7   59\n",
              "3           3  72f70640-6931-4f57-8c72-a68e48032cfb  пингвин     22   87\n",
              "4           4  6933a0f1-a0e1-48d8-91be-b445ca6c80ce  пингвин      9   64"
            ],
            "text/html": [
              "\n",
              "  <div id=\"df-b54e713f-5095-4749-83fa-bec75cfeb861\" class=\"colab-df-container\">\n",
              "    <div>\n",
              "<style scoped>\n",
              "    .dataframe tbody tr th:only-of-type {\n",
              "        vertical-align: middle;\n",
              "    }\n",
              "\n",
              "    .dataframe tbody tr th {\n",
              "        vertical-align: top;\n",
              "    }\n",
              "\n",
              "    .dataframe thead th {\n",
              "        text-align: right;\n",
              "    }\n",
              "</style>\n",
              "<table border=\"1\" class=\"dataframe\">\n",
              "  <thead>\n",
              "    <tr style=\"text-align: right;\">\n",
              "      <th></th>\n",
              "      <th>Unnamed: 0</th>\n",
              "      <th>attachment_id</th>\n",
              "      <th>text</th>\n",
              "      <th>begin</th>\n",
              "      <th>end</th>\n",
              "    </tr>\n",
              "  </thead>\n",
              "  <tbody>\n",
              "    <tr>\n",
              "      <th>0</th>\n",
              "      <td>0</td>\n",
              "      <td>8f4d3be1-3a09-4d76-94ef-f8b1dbfa686b</td>\n",
              "      <td>пингвин</td>\n",
              "      <td>29</td>\n",
              "      <td>100</td>\n",
              "    </tr>\n",
              "    <tr>\n",
              "      <th>1</th>\n",
              "      <td>1</td>\n",
              "      <td>4f9e3cb5-b9de-48bc-a51d-875b8fea8e10</td>\n",
              "      <td>пингвин</td>\n",
              "      <td>21</td>\n",
              "      <td>79</td>\n",
              "    </tr>\n",
              "    <tr>\n",
              "      <th>2</th>\n",
              "      <td>2</td>\n",
              "      <td>1de7b5b0-ce08-419f-aeed-e7e480da953d</td>\n",
              "      <td>пингвин</td>\n",
              "      <td>7</td>\n",
              "      <td>59</td>\n",
              "    </tr>\n",
              "    <tr>\n",
              "      <th>3</th>\n",
              "      <td>3</td>\n",
              "      <td>72f70640-6931-4f57-8c72-a68e48032cfb</td>\n",
              "      <td>пингвин</td>\n",
              "      <td>22</td>\n",
              "      <td>87</td>\n",
              "    </tr>\n",
              "    <tr>\n",
              "      <th>4</th>\n",
              "      <td>4</td>\n",
              "      <td>6933a0f1-a0e1-48d8-91be-b445ca6c80ce</td>\n",
              "      <td>пингвин</td>\n",
              "      <td>9</td>\n",
              "      <td>64</td>\n",
              "    </tr>\n",
              "  </tbody>\n",
              "</table>\n",
              "</div>\n",
              "    <div class=\"colab-df-buttons\">\n",
              "\n",
              "  <div class=\"colab-df-container\">\n",
              "    <button class=\"colab-df-convert\" onclick=\"convertToInteractive('df-b54e713f-5095-4749-83fa-bec75cfeb861')\"\n",
              "            title=\"Convert this dataframe to an interactive table.\"\n",
              "            style=\"display:none;\">\n",
              "\n",
              "  <svg xmlns=\"http://www.w3.org/2000/svg\" height=\"24px\" viewBox=\"0 -960 960 960\">\n",
              "    <path d=\"M120-120v-720h720v720H120Zm60-500h600v-160H180v160Zm220 220h160v-160H400v160Zm0 220h160v-160H400v160ZM180-400h160v-160H180v160Zm440 0h160v-160H620v160ZM180-180h160v-160H180v160Zm440 0h160v-160H620v160Z\"/>\n",
              "  </svg>\n",
              "    </button>\n",
              "\n",
              "  <style>\n",
              "    .colab-df-container {\n",
              "      display:flex;\n",
              "      gap: 12px;\n",
              "    }\n",
              "\n",
              "    .colab-df-convert {\n",
              "      background-color: #E8F0FE;\n",
              "      border: none;\n",
              "      border-radius: 50%;\n",
              "      cursor: pointer;\n",
              "      display: none;\n",
              "      fill: #1967D2;\n",
              "      height: 32px;\n",
              "      padding: 0 0 0 0;\n",
              "      width: 32px;\n",
              "    }\n",
              "\n",
              "    .colab-df-convert:hover {\n",
              "      background-color: #E2EBFA;\n",
              "      box-shadow: 0px 1px 2px rgba(60, 64, 67, 0.3), 0px 1px 3px 1px rgba(60, 64, 67, 0.15);\n",
              "      fill: #174EA6;\n",
              "    }\n",
              "\n",
              "    .colab-df-buttons div {\n",
              "      margin-bottom: 4px;\n",
              "    }\n",
              "\n",
              "    [theme=dark] .colab-df-convert {\n",
              "      background-color: #3B4455;\n",
              "      fill: #D2E3FC;\n",
              "    }\n",
              "\n",
              "    [theme=dark] .colab-df-convert:hover {\n",
              "      background-color: #434B5C;\n",
              "      box-shadow: 0px 1px 3px 1px rgba(0, 0, 0, 0.15);\n",
              "      filter: drop-shadow(0px 1px 2px rgba(0, 0, 0, 0.3));\n",
              "      fill: #FFFFFF;\n",
              "    }\n",
              "  </style>\n",
              "\n",
              "    <script>\n",
              "      const buttonEl =\n",
              "        document.querySelector('#df-b54e713f-5095-4749-83fa-bec75cfeb861 button.colab-df-convert');\n",
              "      buttonEl.style.display =\n",
              "        google.colab.kernel.accessAllowed ? 'block' : 'none';\n",
              "\n",
              "      async function convertToInteractive(key) {\n",
              "        const element = document.querySelector('#df-b54e713f-5095-4749-83fa-bec75cfeb861');\n",
              "        const dataTable =\n",
              "          await google.colab.kernel.invokeFunction('convertToInteractive',\n",
              "                                                    [key], {});\n",
              "        if (!dataTable) return;\n",
              "\n",
              "        const docLinkHtml = 'Like what you see? Visit the ' +\n",
              "          '<a target=\"_blank\" href=https://colab.research.google.com/notebooks/data_table.ipynb>data table notebook</a>'\n",
              "          + ' to learn more about interactive tables.';\n",
              "        element.innerHTML = '';\n",
              "        dataTable['output_type'] = 'display_data';\n",
              "        await google.colab.output.renderOutput(dataTable, element);\n",
              "        const docLink = document.createElement('div');\n",
              "        docLink.innerHTML = docLinkHtml;\n",
              "        element.appendChild(docLink);\n",
              "      }\n",
              "    </script>\n",
              "  </div>\n",
              "\n",
              "\n",
              "<div id=\"df-e0c1ea16-706e-4149-8a88-80a371254326\">\n",
              "  <button class=\"colab-df-quickchart\" onclick=\"quickchart('df-e0c1ea16-706e-4149-8a88-80a371254326')\"\n",
              "            title=\"Suggest charts\"\n",
              "            style=\"display:none;\">\n",
              "\n",
              "<svg xmlns=\"http://www.w3.org/2000/svg\" height=\"24px\"viewBox=\"0 0 24 24\"\n",
              "     width=\"24px\">\n",
              "    <g>\n",
              "        <path d=\"M19 3H5c-1.1 0-2 .9-2 2v14c0 1.1.9 2 2 2h14c1.1 0 2-.9 2-2V5c0-1.1-.9-2-2-2zM9 17H7v-7h2v7zm4 0h-2V7h2v10zm4 0h-2v-4h2v4z\"/>\n",
              "    </g>\n",
              "</svg>\n",
              "  </button>\n",
              "\n",
              "<style>\n",
              "  .colab-df-quickchart {\n",
              "      --bg-color: #E8F0FE;\n",
              "      --fill-color: #1967D2;\n",
              "      --hover-bg-color: #E2EBFA;\n",
              "      --hover-fill-color: #174EA6;\n",
              "      --disabled-fill-color: #AAA;\n",
              "      --disabled-bg-color: #DDD;\n",
              "  }\n",
              "\n",
              "  [theme=dark] .colab-df-quickchart {\n",
              "      --bg-color: #3B4455;\n",
              "      --fill-color: #D2E3FC;\n",
              "      --hover-bg-color: #434B5C;\n",
              "      --hover-fill-color: #FFFFFF;\n",
              "      --disabled-bg-color: #3B4455;\n",
              "      --disabled-fill-color: #666;\n",
              "  }\n",
              "\n",
              "  .colab-df-quickchart {\n",
              "    background-color: var(--bg-color);\n",
              "    border: none;\n",
              "    border-radius: 50%;\n",
              "    cursor: pointer;\n",
              "    display: none;\n",
              "    fill: var(--fill-color);\n",
              "    height: 32px;\n",
              "    padding: 0;\n",
              "    width: 32px;\n",
              "  }\n",
              "\n",
              "  .colab-df-quickchart:hover {\n",
              "    background-color: var(--hover-bg-color);\n",
              "    box-shadow: 0 1px 2px rgba(60, 64, 67, 0.3), 0 1px 3px 1px rgba(60, 64, 67, 0.15);\n",
              "    fill: var(--button-hover-fill-color);\n",
              "  }\n",
              "\n",
              "  .colab-df-quickchart-complete:disabled,\n",
              "  .colab-df-quickchart-complete:disabled:hover {\n",
              "    background-color: var(--disabled-bg-color);\n",
              "    fill: var(--disabled-fill-color);\n",
              "    box-shadow: none;\n",
              "  }\n",
              "\n",
              "  .colab-df-spinner {\n",
              "    border: 2px solid var(--fill-color);\n",
              "    border-color: transparent;\n",
              "    border-bottom-color: var(--fill-color);\n",
              "    animation:\n",
              "      spin 1s steps(1) infinite;\n",
              "  }\n",
              "\n",
              "  @keyframes spin {\n",
              "    0% {\n",
              "      border-color: transparent;\n",
              "      border-bottom-color: var(--fill-color);\n",
              "      border-left-color: var(--fill-color);\n",
              "    }\n",
              "    20% {\n",
              "      border-color: transparent;\n",
              "      border-left-color: var(--fill-color);\n",
              "      border-top-color: var(--fill-color);\n",
              "    }\n",
              "    30% {\n",
              "      border-color: transparent;\n",
              "      border-left-color: var(--fill-color);\n",
              "      border-top-color: var(--fill-color);\n",
              "      border-right-color: var(--fill-color);\n",
              "    }\n",
              "    40% {\n",
              "      border-color: transparent;\n",
              "      border-right-color: var(--fill-color);\n",
              "      border-top-color: var(--fill-color);\n",
              "    }\n",
              "    60% {\n",
              "      border-color: transparent;\n",
              "      border-right-color: var(--fill-color);\n",
              "    }\n",
              "    80% {\n",
              "      border-color: transparent;\n",
              "      border-right-color: var(--fill-color);\n",
              "      border-bottom-color: var(--fill-color);\n",
              "    }\n",
              "    90% {\n",
              "      border-color: transparent;\n",
              "      border-bottom-color: var(--fill-color);\n",
              "    }\n",
              "  }\n",
              "</style>\n",
              "\n",
              "  <script>\n",
              "    async function quickchart(key) {\n",
              "      const quickchartButtonEl =\n",
              "        document.querySelector('#' + key + ' button');\n",
              "      quickchartButtonEl.disabled = true;  // To prevent multiple clicks.\n",
              "      quickchartButtonEl.classList.add('colab-df-spinner');\n",
              "      try {\n",
              "        const charts = await google.colab.kernel.invokeFunction(\n",
              "            'suggestCharts', [key], {});\n",
              "      } catch (error) {\n",
              "        console.error('Error during call to suggestCharts:', error);\n",
              "      }\n",
              "      quickchartButtonEl.classList.remove('colab-df-spinner');\n",
              "      quickchartButtonEl.classList.add('colab-df-quickchart-complete');\n",
              "    }\n",
              "    (() => {\n",
              "      let quickchartButtonEl =\n",
              "        document.querySelector('#df-e0c1ea16-706e-4149-8a88-80a371254326 button');\n",
              "      quickchartButtonEl.style.display =\n",
              "        google.colab.kernel.accessAllowed ? 'block' : 'none';\n",
              "    })();\n",
              "  </script>\n",
              "</div>\n",
              "    </div>\n",
              "  </div>\n"
            ]
          },
          "metadata": {},
          "execution_count": 6
        }
      ],
      "source": [
        "video_labels = pd.read_csv(annotations_file, sep='\\t')\n",
        "video_labels.head(5)"
      ]
    },
    {
      "cell_type": "code",
      "execution_count": 7,
      "metadata": {
        "cellId": "v8gq9z24vm7330idafkxf",
        "colab": {
          "base_uri": "https://localhost:8080/"
        },
        "id": "z8Dou_DHiTHW",
        "outputId": "c88f3bce-d3e6-4ebb-d68a-f771c4ef3c0c"
      },
      "outputs": [
        {
          "output_type": "stream",
          "name": "stdout",
          "text": [
            "{'бабочка': 20, 'бегемот': 20, 'бык': 20, 'дельфин': 20, 'динозавр': 20, 'жираф': 20, 'змея': 20, 'козел': 20, 'корова': 20, 'кролик': 20, 'курица': 20, 'лебедь': 20, 'лев': 20, 'лиса': 20, 'лось': 20, 'лягушка': 20, 'медведь': 20, 'медуза': 20, 'мышь': 20, 'обезьяна': 20, 'орел': 20, 'павлин': 20, 'паук': 20, 'пингвин': 20, 'птица': 20, 'пчела': 20, 'свинья': 20, 'слон': 20, 'собака': 20, 'тигр': 20}\n"
          ]
        }
      ],
      "source": [
        "labels_cnt = video_labels.groupby('text').size().to_dict()\n",
        "print(labels_cnt)\n",
        "# 75 - train, 15 - val, 10 - test"
      ]
    },
    {
      "cell_type": "code",
      "execution_count": 8,
      "metadata": {
        "cellId": "5fy66l48g69ya525pthcn",
        "execution": {
          "iopub.execute_input": "2023-11-21T16:57:38.789690Z",
          "iopub.status.busy": "2023-11-21T16:57:38.788960Z",
          "iopub.status.idle": "2023-11-21T16:57:47.325250Z",
          "shell.execute_reply": "2023-11-21T16:57:47.324599Z",
          "shell.execute_reply.started": "2023-11-21T16:57:38.789654Z"
        },
        "id": "OTXYLF_8ijzG",
        "tags": []
      },
      "outputs": [],
      "source": [
        "test_counter = dict()\n",
        "val_counter = dict()\n",
        "train_counter = dict()\n",
        "\n",
        "#i=0\n",
        "bar = IncrementalBar('Countdown', max = len(video_labels))\n",
        "for idx, row in video_labels.iterrows():\n",
        "    attachment_id = row['attachment_id']\n",
        "    filename = os.path.join(video_dir, attachment_id+\".mp4\")\n",
        "    label = row['text']\n",
        "    begin = row['begin']\n",
        "    end = row['end']\n",
        "    if label not in train_counter:\n",
        "        dataset_type = 'train'\n",
        "        train_counter[label] = 1\n",
        "    elif train_counter[label] < labels_cnt[label]*0.75:\n",
        "        dataset_type = 'train'\n",
        "        train_counter[label] += 1\n",
        "    elif label not in val_counter:\n",
        "        dataset_type = 'val'\n",
        "        val_counter[label] = 1\n",
        "    elif val_counter[label] < val_counter[label]*0.25:\n",
        "        dataset_type = 'val'\n",
        "        val_counter[label] += 1\n",
        "    elif label not in test_counter:\n",
        "        dataset_type = 'test'\n",
        "        test_counter[label] = 1\n",
        "    else:\n",
        "        dataset_type = 'test'\n",
        "        test_counter[label] += 1\n",
        "    dirname = os.path.join(dataset_dir , dataset_type, label, attachment_id)\n",
        "    if not os.path.exists(dirname):\n",
        "        os.makedirs(dirname)\n",
        "    base_name = os.path.join(dataset_dir , dataset_type, label, attachment_id, attachment_id)\n",
        "    load_video(path=filename,\n",
        "             begin=begin,\n",
        "             end=end,\n",
        "             base_name=base_name,\n",
        "             resize=(IMG_SIZE, IMG_SIZE)\n",
        "             )\n",
        "    bar.next()\n",
        "    # i+=1\n",
        "    # if i==1:\n",
        "    #     break\n",
        "bar.finish()"
      ]
    },
    {
      "cell_type": "code",
      "execution_count": 11,
      "metadata": {
        "execution": {
          "iopub.execute_input": "2023-11-21T16:58:28.469904Z",
          "iopub.status.busy": "2023-11-21T16:58:28.469210Z",
          "iopub.status.idle": "2023-11-21T16:58:29.281096Z",
          "shell.execute_reply": "2023-11-21T16:58:29.280512Z",
          "shell.execute_reply.started": "2023-11-21T16:58:28.469863Z"
        },
        "tags": [],
        "colab": {
          "base_uri": "https://localhost:8080/"
        },
        "id": "pLWu46PhkJha",
        "outputId": "a31edb29-62cc-4503-9e6e-ae645a64f7ec"
      },
      "outputs": [
        {
          "output_type": "stream",
          "name": "stdout",
          "text": [
            "MIN FRAME COUNT: 23\n",
            "SHORTEST VIDEO: /content/drive/MyDrive/slovo/animalsdataset/train/змея/f90ca278-298b-4823-9ca7-73498531cb4e\n"
          ]
        }
      ],
      "source": [
        "min_frame_cnt = 1000\n",
        "for ds in os.listdir(dataset_dir):\n",
        "  for animal in os.listdir(os.path.join(dataset_dir, ds)):\n",
        "    for filename in os.listdir(os.path.join(dataset_dir, ds, animal)):\n",
        "      frame_cnt = len(os.listdir(os.path.join(dataset_dir, ds, animal, filename)))\n",
        "      if frame_cnt<min_frame_cnt:\n",
        "        min_frame_cnt = frame_cnt\n",
        "        min_file = os.path.join(dataset_dir, ds, animal, filename)\n",
        "\n",
        "print(f\"MIN FRAME COUNT: {min_frame_cnt}\")\n",
        "print(f\"SHORTEST VIDEO: {min_file}\")"
      ]
    },
    {
      "cell_type": "code",
      "source": [
        "image = cv2.imread(min_file+'/f90ca278-298b-4823-9ca7-73498531cb4e_5.png')\n",
        "image.shape"
      ],
      "metadata": {
        "colab": {
          "base_uri": "https://localhost:8080/"
        },
        "id": "MW_PaiDnNh9I",
        "outputId": "38cf53ef-53d0-44b8-b76c-b80ed4e3d791"
      },
      "execution_count": 13,
      "outputs": [
        {
          "output_type": "execute_result",
          "data": {
            "text/plain": [
              "(224, 224, 3)"
            ]
          },
          "metadata": {},
          "execution_count": 13
        }
      ]
    },
    {
      "cell_type": "code",
      "source": [
        "from google.colab.patches import cv2_imshow\n",
        "cv2_imshow(image)"
      ],
      "metadata": {
        "id": "Yu2jXI3tNrUv",
        "colab": {
          "base_uri": "https://localhost:8080/",
          "height": 241
        },
        "outputId": "1992b05c-ada5-4119-853e-b32440bee1a7"
      },
      "execution_count": 14,
      "outputs": [
        {
          "output_type": "display_data",
          "data": {
            "text/plain": [
              "<PIL.Image.Image image mode=RGB size=224x224>"
            ],
            "image/png": "[encoded data removed]"
          },
          "metadata": {}
        }
      ]
    }
  ],
  "metadata": {
    "colab": {
      "provenance": []
    },
    "kernelspec": {
      "display_name": "DataSphere Kernel",
      "language": "python",
      "name": "python3"
    },
    "language_info": {
      "codemirror_mode": {
        "name": "ipython",
        "version": 3
      },
      "file_extension": ".py",
      "mimetype": "text/x-python",
      "name": "python",
      "nbconvert_exporter": "python",
      "pygments_lexer": "ipython3",
      "version": "3.7.7"
    },
    "notebookId": "d2660728-ac1e-42d4-aa13-348af46a070f",
    "notebookPath": "rus-gest-lang/code/PrepareData.ipynb"
  },
  "nbformat": 4,
  "nbformat_minor": 0
}
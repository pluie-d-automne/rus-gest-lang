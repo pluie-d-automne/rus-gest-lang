{
  "cells": [
    {
      "cell_type": "markdown",
      "metadata": {
        "id": "1G3-oihH2rI-"
      },
      "source": [
        "# Prepare dataloader for 3D CNN (30 classes only)"
      ]
    },
    {
      "cell_type": "code",
      "execution_count": 4,
      "metadata": {
        "execution": {
          "iopub.execute_input": "2024-01-20T19:50:29.963360Z",
          "iopub.status.busy": "2024-01-20T19:50:29.962638Z",
          "iopub.status.idle": "2024-01-20T19:50:36.721293Z",
          "shell.execute_reply": "2024-01-20T19:50:36.720482Z",
          "shell.execute_reply.started": "2024-01-20T19:50:29.963320Z"
        },
        "id": "_jFgsCjqlvfk",
        "tags": []
      },
      "outputs": [],
      "source": [
        "#%%python3 -m pip install --upgrade pip\n"
      ]
    },
    {
      "cell_type": "code",
      "execution_count": 5,
      "metadata": {
        "execution": {
          "iopub.execute_input": "2024-01-20T19:51:24.379743Z",
          "iopub.status.busy": "2024-01-20T19:51:24.378884Z",
          "iopub.status.idle": "2024-01-20T19:51:32.612499Z",
          "shell.execute_reply": "2024-01-20T19:51:32.611550Z",
          "shell.execute_reply.started": "2024-01-20T19:51:24.379697Z"
        },
        "tags": [],
        "colab": {
          "base_uri": "https://localhost:8080/"
        },
        "id": "SBIelzm6HR-j",
        "outputId": "d929e706-1812-4dcf-d60f-d4499f5adbb1"
      },
      "outputs": [
        {
          "output_type": "stream",
          "name": "stdout",
          "text": [
            "Collecting mediapipe==0.10.9\n",
            "  Downloading mediapipe-0.10.9-cp310-cp310-manylinux_2_17_x86_64.manylinux2014_x86_64.whl (34.5 MB)\n",
            "\u001b[2K     \u001b[90m━━━━━━━━━━━━━━━━━━━━━━━━━━━━━━━━━━━━━━━━\u001b[0m \u001b[32m34.5/34.5 MB\u001b[0m \u001b[31m19.1 MB/s\u001b[0m eta \u001b[36m0:00:00\u001b[0m\n",
            "\u001b[?25hRequirement already satisfied: absl-py in /usr/local/lib/python3.10/dist-packages (from mediapipe==0.10.9) (1.4.0)\n",
            "Requirement already satisfied: attrs>=19.1.0 in /usr/local/lib/python3.10/dist-packages (from mediapipe==0.10.9) (23.2.0)\n",
            "Requirement already satisfied: flatbuffers>=2.0 in /usr/local/lib/python3.10/dist-packages (from mediapipe==0.10.9) (23.5.26)\n",
            "Requirement already satisfied: matplotlib in /usr/local/lib/python3.10/dist-packages (from mediapipe==0.10.9) (3.7.1)\n",
            "Requirement already satisfied: numpy in /usr/local/lib/python3.10/dist-packages (from mediapipe==0.10.9) (1.23.5)\n",
            "Requirement already satisfied: opencv-contrib-python in /usr/local/lib/python3.10/dist-packages (from mediapipe==0.10.9) (4.8.0.76)\n",
            "Requirement already satisfied: protobuf<4,>=3.11 in /usr/local/lib/python3.10/dist-packages (from mediapipe==0.10.9) (3.20.3)\n",
            "Collecting sounddevice>=0.4.4 (from mediapipe==0.10.9)\n",
            "  Downloading sounddevice-0.4.6-py3-none-any.whl (31 kB)\n",
            "Requirement already satisfied: CFFI>=1.0 in /usr/local/lib/python3.10/dist-packages (from sounddevice>=0.4.4->mediapipe==0.10.9) (1.16.0)\n",
            "Requirement already satisfied: contourpy>=1.0.1 in /usr/local/lib/python3.10/dist-packages (from matplotlib->mediapipe==0.10.9) (1.2.0)\n",
            "Requirement already satisfied: cycler>=0.10 in /usr/local/lib/python3.10/dist-packages (from matplotlib->mediapipe==0.10.9) (0.12.1)\n",
            "Requirement already satisfied: fonttools>=4.22.0 in /usr/local/lib/python3.10/dist-packages (from matplotlib->mediapipe==0.10.9) (4.47.2)\n",
            "Requirement already satisfied: kiwisolver>=1.0.1 in /usr/local/lib/python3.10/dist-packages (from matplotlib->mediapipe==0.10.9) (1.4.5)\n",
            "Requirement already satisfied: packaging>=20.0 in /usr/local/lib/python3.10/dist-packages (from matplotlib->mediapipe==0.10.9) (23.2)\n",
            "Requirement already satisfied: pillow>=6.2.0 in /usr/local/lib/python3.10/dist-packages (from matplotlib->mediapipe==0.10.9) (9.4.0)\n",
            "Requirement already satisfied: pyparsing>=2.3.1 in /usr/local/lib/python3.10/dist-packages (from matplotlib->mediapipe==0.10.9) (3.1.1)\n",
            "Requirement already satisfied: python-dateutil>=2.7 in /usr/local/lib/python3.10/dist-packages (from matplotlib->mediapipe==0.10.9) (2.8.2)\n",
            "Requirement already satisfied: pycparser in /usr/local/lib/python3.10/dist-packages (from CFFI>=1.0->sounddevice>=0.4.4->mediapipe==0.10.9) (2.21)\n",
            "Requirement already satisfied: six>=1.5 in /usr/local/lib/python3.10/dist-packages (from python-dateutil>=2.7->matplotlib->mediapipe==0.10.9) (1.16.0)\n",
            "Installing collected packages: sounddevice, mediapipe\n",
            "Successfully installed mediapipe-0.10.9 sounddevice-0.4.6\n",
            "Requirement already satisfied: opencv-python==4.8.0.76 in /usr/local/lib/python3.10/dist-packages (4.8.0.76)\n",
            "Requirement already satisfied: numpy>=1.21.2 in /usr/local/lib/python3.10/dist-packages (from opencv-python==4.8.0.76) (1.23.5)\n"
          ]
        }
      ],
      "source": [
        "#%pip install tensorflow_docs --upgrade\n",
        "!pip install mediapipe=='0.10.9'\n",
        "!pip install opencv-python=='4.8.0.76'"
      ]
    },
    {
      "cell_type": "code",
      "execution_count": 6,
      "metadata": {
        "colab": {
          "base_uri": "https://localhost:8080/"
        },
        "id": "ulomdOZBlA5L",
        "outputId": "99c24dfd-a260-4065-9e9d-f77113cd0f25"
      },
      "outputs": [
        {
          "output_type": "stream",
          "name": "stdout",
          "text": [
            "Mounted at /content/drive\n"
          ]
        }
      ],
      "source": [
        "from google.colab import drive\n",
        "drive.mount('/content/drive')"
      ]
    },
    {
      "cell_type": "code",
      "execution_count": 8,
      "metadata": {
        "execution": {
          "iopub.execute_input": "2024-01-20T19:51:54.217961Z",
          "iopub.status.busy": "2024-01-20T19:51:54.217228Z",
          "iopub.status.idle": "2024-01-20T19:52:22.605743Z",
          "shell.execute_reply": "2024-01-20T19:52:22.604977Z",
          "shell.execute_reply.started": "2024-01-20T19:51:54.217917Z"
        },
        "id": "lpifKE69qnfz",
        "tags": []
      },
      "outputs": [],
      "source": [
        "from utils import VideoDataset, validate_model, train_model, display_frames, display_learning_dynamic, classification_model_metrics"
      ]
    },
    {
      "cell_type": "code",
      "execution_count": 9,
      "metadata": {
        "execution": {
          "iopub.execute_input": "2024-01-20T19:52:22.607748Z",
          "iopub.status.busy": "2024-01-20T19:52:22.607043Z",
          "iopub.status.idle": "2024-01-20T19:52:22.634396Z",
          "shell.execute_reply": "2024-01-20T19:52:22.633613Z",
          "shell.execute_reply.started": "2024-01-20T19:52:22.607710Z"
        },
        "tags": [],
        "colab": {
          "base_uri": "https://localhost:8080/",
          "height": 35
        },
        "id": "y3p2aCAIHR-m",
        "outputId": "38907817-8818-4eaf-a080-13d6947c2a93"
      },
      "outputs": [
        {
          "output_type": "execute_result",
          "data": {
            "text/plain": [
              "'4.8.0'"
            ],
            "application/vnd.google.colaboratory.intrinsic+json": {
              "type": "string"
            }
          },
          "metadata": {},
          "execution_count": 9
        }
      ],
      "source": [
        "import cv2\n",
        "cv2.__version__"
      ]
    },
    {
      "cell_type": "code",
      "execution_count": 10,
      "metadata": {
        "execution": {
          "iopub.execute_input": "2024-01-20T19:52:22.637325Z",
          "iopub.status.busy": "2024-01-20T19:52:22.635970Z",
          "iopub.status.idle": "2024-01-20T19:52:22.667800Z",
          "shell.execute_reply": "2024-01-20T19:52:22.667126Z",
          "shell.execute_reply.started": "2024-01-20T19:52:22.637269Z"
        },
        "id": "xC1QowWE0dTi",
        "tags": []
      },
      "outputs": [],
      "source": [
        "import torch\n",
        "import numpy as np\n",
        "import pandas as pd\n",
        "from torch.utils.data import DataLoader\n",
        "import torchvision\n",
        "import torch.nn as nn\n",
        "import torch.optim as optim\n",
        "import torch.backends.cudnn as cudnn"
      ]
    },
    {
      "cell_type": "code",
      "execution_count": 11,
      "metadata": {
        "execution": {
          "iopub.execute_input": "2024-01-20T19:52:22.669706Z",
          "iopub.status.busy": "2024-01-20T19:52:22.669163Z",
          "iopub.status.idle": "2024-01-20T19:52:22.681059Z",
          "shell.execute_reply": "2024-01-20T19:52:22.680429Z",
          "shell.execute_reply.started": "2024-01-20T19:52:22.669670Z"
        },
        "id": "bfEDKVt1ffGk",
        "tags": []
      },
      "outputs": [],
      "source": [
        "use_cuda = True\n",
        "seed = 1\n",
        "\n",
        "train_batch_size = 1\n",
        "test_batch_size = 1\n",
        "val_batch_size = 1\n",
        "IMG_SIZE = 112\n",
        "\n",
        "limit_list = []\n",
        "\n",
        "min_frame_count = 25\n",
        "\n",
        "\n",
        "annotations_file = \"/content/drive/MyDrive/slovo/SLOVO_DF_SHORT.tsv\" #\"/home/jupyter/mnt/s3/rsl-videos/slovo/slovo_annotations/SLOVO_DATAFRAME.tsv\" #\n",
        "video_dir = \"/content/drive/MyDrive/slovo/animals\" # \"/home/jupyter/mnt/s3/rsl-videos/slovo/slovo\" #\n",
        "\n",
        "face_detection_model = '/content/drive/MyDrive/slovo/face_detection_yunet_2023mar.onnx'\n"
      ]
    },
    {
      "cell_type": "code",
      "execution_count": 12,
      "metadata": {
        "colab": {
          "base_uri": "https://localhost:8080/",
          "height": 206
        },
        "execution": {
          "iopub.execute_input": "2024-01-20T19:52:22.682592Z",
          "iopub.status.busy": "2024-01-20T19:52:22.681945Z",
          "iopub.status.idle": "2024-01-20T19:52:23.047310Z",
          "shell.execute_reply": "2024-01-20T19:52:23.046652Z",
          "shell.execute_reply.started": "2024-01-20T19:52:22.682558Z"
        },
        "id": "-oTkPre0vh9k",
        "outputId": "20913f44-fd3f-49dd-dcba-00acf1a5e2fd",
        "tags": []
      },
      "outputs": [
        {
          "output_type": "execute_result",
          "data": {
            "text/plain": [
              "     Unnamed: 0                         attachment_id     text  begin  end  \\\n",
              "595          55  25b5fb58-46dd-4fd6-9928-734460795b22     мышь     22   83   \n",
              "596          56  336e0e7a-ff68-427c-9a77-52626b81edd1     паук     42   74   \n",
              "597          57  d0ec4c00-6ff5-4089-ac9d-5a33a76fb037     паук      3   70   \n",
              "598          58  59ae408b-f87a-422a-bc57-2ff5af28ee57  бабочка      2   74   \n",
              "599          59  e421d77c-1dcd-4124-b2a4-b2415569a4dd  бабочка     63  131   \n",
              "\n",
              "     group_rank dataset  \n",
              "595          20    test  \n",
              "596          19    test  \n",
              "597          20    test  \n",
              "598          19    test  \n",
              "599          20    test  "
            ],
            "text/html": [
              "\n",
              "  <div id=\"df-6337d23d-d6ff-4b0f-a518-68751dfc4d8a\" class=\"colab-df-container\">\n",
              "    <div>\n",
              "<style scoped>\n",
              "    .dataframe tbody tr th:only-of-type {\n",
              "        vertical-align: middle;\n",
              "    }\n",
              "\n",
              "    .dataframe tbody tr th {\n",
              "        vertical-align: top;\n",
              "    }\n",
              "\n",
              "    .dataframe thead th {\n",
              "        text-align: right;\n",
              "    }\n",
              "</style>\n",
              "<table border=\"1\" class=\"dataframe\">\n",
              "  <thead>\n",
              "    <tr style=\"text-align: right;\">\n",
              "      <th></th>\n",
              "      <th>Unnamed: 0</th>\n",
              "      <th>attachment_id</th>\n",
              "      <th>text</th>\n",
              "      <th>begin</th>\n",
              "      <th>end</th>\n",
              "      <th>group_rank</th>\n",
              "      <th>dataset</th>\n",
              "    </tr>\n",
              "  </thead>\n",
              "  <tbody>\n",
              "    <tr>\n",
              "      <th>595</th>\n",
              "      <td>55</td>\n",
              "      <td>25b5fb58-46dd-4fd6-9928-734460795b22</td>\n",
              "      <td>мышь</td>\n",
              "      <td>22</td>\n",
              "      <td>83</td>\n",
              "      <td>20</td>\n",
              "      <td>test</td>\n",
              "    </tr>\n",
              "    <tr>\n",
              "      <th>596</th>\n",
              "      <td>56</td>\n",
              "      <td>336e0e7a-ff68-427c-9a77-52626b81edd1</td>\n",
              "      <td>паук</td>\n",
              "      <td>42</td>\n",
              "      <td>74</td>\n",
              "      <td>19</td>\n",
              "      <td>test</td>\n",
              "    </tr>\n",
              "    <tr>\n",
              "      <th>597</th>\n",
              "      <td>57</td>\n",
              "      <td>d0ec4c00-6ff5-4089-ac9d-5a33a76fb037</td>\n",
              "      <td>паук</td>\n",
              "      <td>3</td>\n",
              "      <td>70</td>\n",
              "      <td>20</td>\n",
              "      <td>test</td>\n",
              "    </tr>\n",
              "    <tr>\n",
              "      <th>598</th>\n",
              "      <td>58</td>\n",
              "      <td>59ae408b-f87a-422a-bc57-2ff5af28ee57</td>\n",
              "      <td>бабочка</td>\n",
              "      <td>2</td>\n",
              "      <td>74</td>\n",
              "      <td>19</td>\n",
              "      <td>test</td>\n",
              "    </tr>\n",
              "    <tr>\n",
              "      <th>599</th>\n",
              "      <td>59</td>\n",
              "      <td>e421d77c-1dcd-4124-b2a4-b2415569a4dd</td>\n",
              "      <td>бабочка</td>\n",
              "      <td>63</td>\n",
              "      <td>131</td>\n",
              "      <td>20</td>\n",
              "      <td>test</td>\n",
              "    </tr>\n",
              "  </tbody>\n",
              "</table>\n",
              "</div>\n",
              "    <div class=\"colab-df-buttons\">\n",
              "\n",
              "  <div class=\"colab-df-container\">\n",
              "    <button class=\"colab-df-convert\" onclick=\"convertToInteractive('df-6337d23d-d6ff-4b0f-a518-68751dfc4d8a')\"\n",
              "            title=\"Convert this dataframe to an interactive table.\"\n",
              "            style=\"display:none;\">\n",
              "\n",
              "  <svg xmlns=\"http://www.w3.org/2000/svg\" height=\"24px\" viewBox=\"0 -960 960 960\">\n",
              "    <path d=\"M120-120v-720h720v720H120Zm60-500h600v-160H180v160Zm220 220h160v-160H400v160Zm0 220h160v-160H400v160ZM180-400h160v-160H180v160Zm440 0h160v-160H620v160ZM180-180h160v-160H180v160Zm440 0h160v-160H620v160Z\"/>\n",
              "  </svg>\n",
              "    </button>\n",
              "\n",
              "  <style>\n",
              "    .colab-df-container {\n",
              "      display:flex;\n",
              "      gap: 12px;\n",
              "    }\n",
              "\n",
              "    .colab-df-convert {\n",
              "      background-color: #E8F0FE;\n",
              "      border: none;\n",
              "      border-radius: 50%;\n",
              "      cursor: pointer;\n",
              "      display: none;\n",
              "      fill: #1967D2;\n",
              "      height: 32px;\n",
              "      padding: 0 0 0 0;\n",
              "      width: 32px;\n",
              "    }\n",
              "\n",
              "    .colab-df-convert:hover {\n",
              "      background-color: #E2EBFA;\n",
              "      box-shadow: 0px 1px 2px rgba(60, 64, 67, 0.3), 0px 1px 3px 1px rgba(60, 64, 67, 0.15);\n",
              "      fill: #174EA6;\n",
              "    }\n",
              "\n",
              "    .colab-df-buttons div {\n",
              "      margin-bottom: 4px;\n",
              "    }\n",
              "\n",
              "    [theme=dark] .colab-df-convert {\n",
              "      background-color: #3B4455;\n",
              "      fill: #D2E3FC;\n",
              "    }\n",
              "\n",
              "    [theme=dark] .colab-df-convert:hover {\n",
              "      background-color: #434B5C;\n",
              "      box-shadow: 0px 1px 3px 1px rgba(0, 0, 0, 0.15);\n",
              "      filter: drop-shadow(0px 1px 2px rgba(0, 0, 0, 0.3));\n",
              "      fill: #FFFFFF;\n",
              "    }\n",
              "  </style>\n",
              "\n",
              "    <script>\n",
              "      const buttonEl =\n",
              "        document.querySelector('#df-6337d23d-d6ff-4b0f-a518-68751dfc4d8a button.colab-df-convert');\n",
              "      buttonEl.style.display =\n",
              "        google.colab.kernel.accessAllowed ? 'block' : 'none';\n",
              "\n",
              "      async function convertToInteractive(key) {\n",
              "        const element = document.querySelector('#df-6337d23d-d6ff-4b0f-a518-68751dfc4d8a');\n",
              "        const dataTable =\n",
              "          await google.colab.kernel.invokeFunction('convertToInteractive',\n",
              "                                                    [key], {});\n",
              "        if (!dataTable) return;\n",
              "\n",
              "        const docLinkHtml = 'Like what you see? Visit the ' +\n",
              "          '<a target=\"_blank\" href=https://colab.research.google.com/notebooks/data_table.ipynb>data table notebook</a>'\n",
              "          + ' to learn more about interactive tables.';\n",
              "        element.innerHTML = '';\n",
              "        dataTable['output_type'] = 'display_data';\n",
              "        await google.colab.output.renderOutput(dataTable, element);\n",
              "        const docLink = document.createElement('div');\n",
              "        docLink.innerHTML = docLinkHtml;\n",
              "        element.appendChild(docLink);\n",
              "      }\n",
              "    </script>\n",
              "  </div>\n",
              "\n",
              "\n",
              "<div id=\"df-48e2ebdd-b75c-4531-b10f-8e9bc34eeccd\">\n",
              "  <button class=\"colab-df-quickchart\" onclick=\"quickchart('df-48e2ebdd-b75c-4531-b10f-8e9bc34eeccd')\"\n",
              "            title=\"Suggest charts\"\n",
              "            style=\"display:none;\">\n",
              "\n",
              "<svg xmlns=\"http://www.w3.org/2000/svg\" height=\"24px\"viewBox=\"0 0 24 24\"\n",
              "     width=\"24px\">\n",
              "    <g>\n",
              "        <path d=\"M19 3H5c-1.1 0-2 .9-2 2v14c0 1.1.9 2 2 2h14c1.1 0 2-.9 2-2V5c0-1.1-.9-2-2-2zM9 17H7v-7h2v7zm4 0h-2V7h2v10zm4 0h-2v-4h2v4z\"/>\n",
              "    </g>\n",
              "</svg>\n",
              "  </button>\n",
              "\n",
              "<style>\n",
              "  .colab-df-quickchart {\n",
              "      --bg-color: #E8F0FE;\n",
              "      --fill-color: #1967D2;\n",
              "      --hover-bg-color: #E2EBFA;\n",
              "      --hover-fill-color: #174EA6;\n",
              "      --disabled-fill-color: #AAA;\n",
              "      --disabled-bg-color: #DDD;\n",
              "  }\n",
              "\n",
              "  [theme=dark] .colab-df-quickchart {\n",
              "      --bg-color: #3B4455;\n",
              "      --fill-color: #D2E3FC;\n",
              "      --hover-bg-color: #434B5C;\n",
              "      --hover-fill-color: #FFFFFF;\n",
              "      --disabled-bg-color: #3B4455;\n",
              "      --disabled-fill-color: #666;\n",
              "  }\n",
              "\n",
              "  .colab-df-quickchart {\n",
              "    background-color: var(--bg-color);\n",
              "    border: none;\n",
              "    border-radius: 50%;\n",
              "    cursor: pointer;\n",
              "    display: none;\n",
              "    fill: var(--fill-color);\n",
              "    height: 32px;\n",
              "    padding: 0;\n",
              "    width: 32px;\n",
              "  }\n",
              "\n",
              "  .colab-df-quickchart:hover {\n",
              "    background-color: var(--hover-bg-color);\n",
              "    box-shadow: 0 1px 2px rgba(60, 64, 67, 0.3), 0 1px 3px 1px rgba(60, 64, 67, 0.15);\n",
              "    fill: var(--button-hover-fill-color);\n",
              "  }\n",
              "\n",
              "  .colab-df-quickchart-complete:disabled,\n",
              "  .colab-df-quickchart-complete:disabled:hover {\n",
              "    background-color: var(--disabled-bg-color);\n",
              "    fill: var(--disabled-fill-color);\n",
              "    box-shadow: none;\n",
              "  }\n",
              "\n",
              "  .colab-df-spinner {\n",
              "    border: 2px solid var(--fill-color);\n",
              "    border-color: transparent;\n",
              "    border-bottom-color: var(--fill-color);\n",
              "    animation:\n",
              "      spin 1s steps(1) infinite;\n",
              "  }\n",
              "\n",
              "  @keyframes spin {\n",
              "    0% {\n",
              "      border-color: transparent;\n",
              "      border-bottom-color: var(--fill-color);\n",
              "      border-left-color: var(--fill-color);\n",
              "    }\n",
              "    20% {\n",
              "      border-color: transparent;\n",
              "      border-left-color: var(--fill-color);\n",
              "      border-top-color: var(--fill-color);\n",
              "    }\n",
              "    30% {\n",
              "      border-color: transparent;\n",
              "      border-left-color: var(--fill-color);\n",
              "      border-top-color: var(--fill-color);\n",
              "      border-right-color: var(--fill-color);\n",
              "    }\n",
              "    40% {\n",
              "      border-color: transparent;\n",
              "      border-right-color: var(--fill-color);\n",
              "      border-top-color: var(--fill-color);\n",
              "    }\n",
              "    60% {\n",
              "      border-color: transparent;\n",
              "      border-right-color: var(--fill-color);\n",
              "    }\n",
              "    80% {\n",
              "      border-color: transparent;\n",
              "      border-right-color: var(--fill-color);\n",
              "      border-bottom-color: var(--fill-color);\n",
              "    }\n",
              "    90% {\n",
              "      border-color: transparent;\n",
              "      border-bottom-color: var(--fill-color);\n",
              "    }\n",
              "  }\n",
              "</style>\n",
              "\n",
              "  <script>\n",
              "    async function quickchart(key) {\n",
              "      const quickchartButtonEl =\n",
              "        document.querySelector('#' + key + ' button');\n",
              "      quickchartButtonEl.disabled = true;  // To prevent multiple clicks.\n",
              "      quickchartButtonEl.classList.add('colab-df-spinner');\n",
              "      try {\n",
              "        const charts = await google.colab.kernel.invokeFunction(\n",
              "            'suggestCharts', [key], {});\n",
              "      } catch (error) {\n",
              "        console.error('Error during call to suggestCharts:', error);\n",
              "      }\n",
              "      quickchartButtonEl.classList.remove('colab-df-spinner');\n",
              "      quickchartButtonEl.classList.add('colab-df-quickchart-complete');\n",
              "    }\n",
              "    (() => {\n",
              "      let quickchartButtonEl =\n",
              "        document.querySelector('#df-48e2ebdd-b75c-4531-b10f-8e9bc34eeccd button');\n",
              "      quickchartButtonEl.style.display =\n",
              "        google.colab.kernel.accessAllowed ? 'block' : 'none';\n",
              "    })();\n",
              "  </script>\n",
              "</div>\n",
              "    </div>\n",
              "  </div>\n"
            ]
          },
          "metadata": {},
          "execution_count": 12
        }
      ],
      "source": [
        "video_labels = pd.read_csv(annotations_file, sep='\\t')\n",
        "video_labels['group_rank'] = video_labels.groupby(['text']).cumcount()+1;\n",
        "video_labels['dataset'] = np.where(video_labels['group_rank']<17,'train', np.where(video_labels['group_rank']<19,'val', 'test'))\n",
        "if len(limit_list)>0:\n",
        "  video_labels = video_labels[video_labels.text.isin(limit_list)]\n",
        "video_labels.tail(5)"
      ]
    },
    {
      "cell_type": "code",
      "execution_count": 13,
      "metadata": {
        "colab": {
          "base_uri": "https://localhost:8080/"
        },
        "execution": {
          "iopub.execute_input": "2024-01-20T19:52:23.048607Z",
          "iopub.status.busy": "2024-01-20T19:52:23.048208Z",
          "iopub.status.idle": "2024-01-20T19:52:23.083474Z",
          "shell.execute_reply": "2024-01-20T19:52:23.082667Z",
          "shell.execute_reply.started": "2024-01-20T19:52:23.048573Z"
        },
        "id": "OQc78Q_StZUb",
        "outputId": "72abc5c7-f697-45ff-ba8d-b1b0ea595f9d",
        "tags": []
      },
      "outputs": [
        {
          "output_type": "stream",
          "name": "stdout",
          "text": [
            "Total number of classes: 30. Example classes: ('пингвин', 'жираф', 'лягушка', 'бегемот', 'козел')\n"
          ]
        }
      ],
      "source": [
        "classes = tuple(video_labels.text.unique())\n",
        "n_class = len(classes)\n",
        "print(f\"Total number of classes: {n_class}. Example classes: {classes[:5]}\")"
      ]
    },
    {
      "cell_type": "code",
      "execution_count": 14,
      "metadata": {
        "colab": {
          "base_uri": "https://localhost:8080/"
        },
        "execution": {
          "iopub.execute_input": "2024-01-20T19:52:23.085148Z",
          "iopub.status.busy": "2024-01-20T19:52:23.084461Z",
          "iopub.status.idle": "2024-01-20T19:52:23.098460Z",
          "shell.execute_reply": "2024-01-20T19:52:23.097832Z",
          "shell.execute_reply.started": "2024-01-20T19:52:23.085117Z"
        },
        "id": "eDF-8mptt0a0",
        "outputId": "5bdc92df-0413-4bc8-ce2f-f943f84db924",
        "tags": []
      },
      "outputs": [
        {
          "output_type": "execute_result",
          "data": {
            "text/plain": [
              "3"
            ]
          },
          "metadata": {},
          "execution_count": 14
        }
      ],
      "source": [
        "classes.index('бегемот')"
      ]
    },
    {
      "cell_type": "code",
      "execution_count": 15,
      "metadata": {
        "execution": {
          "iopub.execute_input": "2024-01-20T19:52:23.101062Z",
          "iopub.status.busy": "2024-01-20T19:52:23.100560Z",
          "iopub.status.idle": "2024-01-20T19:52:23.114722Z",
          "shell.execute_reply": "2024-01-20T19:52:23.114015Z",
          "shell.execute_reply.started": "2024-01-20T19:52:23.101025Z"
        },
        "tags": [],
        "id": "Pa3zkJjpHR-r"
      },
      "outputs": [],
      "source": [
        "train_kwargs = {'num_workers': 0, 'pin_memory': True} if use_cuda else {}\n",
        "test_kwargs = {'num_workers': 0, 'pin_memory': True} if use_cuda else {}\n",
        "val_kwargs = {'num_workers': 0, 'pin_memory': True} if use_cuda else {}"
      ]
    },
    {
      "cell_type": "code",
      "execution_count": 14,
      "metadata": {
        "execution": {
          "iopub.execute_input": "2024-01-18T14:55:16.610849Z",
          "iopub.status.busy": "2024-01-18T14:55:16.610056Z"
        },
        "id": "15n9xcoiv9bm",
        "tags": []
      },
      "outputs": [],
      "source": [
        "test_dataloader = DataLoader(VideoDataset(video_labels, video_dir, IMG_SIZE, min_frame_count, classes, face_detection_model, ds_type = \"test\"), batch_size=test_batch_size, shuffle=True, **test_kwargs)"
      ]
    },
    {
      "cell_type": "code",
      "execution_count": 15,
      "metadata": {
        "execution": {
          "iopub.status.idle": "2024-01-18T16:12:02.809070Z"
        },
        "id": "-EDVTwGLHR-u"
      },
      "outputs": [],
      "source": [
        "torch.save(test_dataloader, '/content/drive/MyDrive/slovo/dataloaders/color_frames_test_dataloader.pth')"
      ]
    },
    {
      "cell_type": "code",
      "execution_count": 16,
      "metadata": {
        "execution": {
          "iopub.execute_input": "2024-01-18T16:12:02.811005Z",
          "iopub.status.busy": "2024-01-18T16:12:02.810548Z"
        },
        "id": "ocxC5jwyHR-u"
      },
      "outputs": [],
      "source": [
        "val_dataloader = DataLoader(VideoDataset(video_labels, video_dir, IMG_SIZE, min_frame_count, classes, face_detection_model, ds_type = \"val\"), batch_size=val_batch_size, shuffle=True, **val_kwargs)"
      ]
    },
    {
      "cell_type": "code",
      "execution_count": 17,
      "metadata": {
        "id": "XB1rfyC9HR-v"
      },
      "outputs": [],
      "source": [
        "torch.save(val_dataloader, '/content/drive/MyDrive/slovo/dataloaders/color_frames_val_dataloader.pth')"
      ]
    },
    {
      "cell_type": "code",
      "execution_count": 16,
      "metadata": {
        "execution": {
          "iopub.execute_input": "2024-01-20T19:52:23.117927Z",
          "iopub.status.busy": "2024-01-20T19:52:23.117410Z"
        },
        "tags": [],
        "id": "IJ9geY3wHR-v"
      },
      "outputs": [],
      "source": [
        "train_dataloader = DataLoader(VideoDataset(video_labels, video_dir, IMG_SIZE, min_frame_count, classes, face_detection_model, ds_type = \"train\"), batch_size=train_batch_size, shuffle=True, **train_kwargs)"
      ]
    },
    {
      "cell_type": "code",
      "execution_count": 17,
      "metadata": {
        "id": "Lrk3lHhgHR-w"
      },
      "outputs": [],
      "source": [
        "torch.save(train_dataloader, '/content/drive/MyDrive/slovo/dataloaders/color_frames_train_dataloader.pth')"
      ]
    }
  ],
  "metadata": {
    "accelerator": "GPU",
    "colab": {
      "provenance": []
    },
    "kernelspec": {
      "display_name": "DataSphere Kernel",
      "language": "python",
      "name": "python3"
    },
    "language_info": {
      "codemirror_mode": {
        "name": "ipython",
        "version": 3
      },
      "file_extension": ".py",
      "mimetype": "text/x-python",
      "name": "python",
      "nbconvert_exporter": "python",
      "pygments_lexer": "ipython3",
      "version": "3.7.7"
    },
    "toc-autonumbering": true
  },
  "nbformat": 4,
  "nbformat_minor": 0
}
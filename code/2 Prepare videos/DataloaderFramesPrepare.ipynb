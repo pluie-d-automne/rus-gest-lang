{
 "cells": [
  {
   "cell_type": "markdown",
   "metadata": {
    "id": "1G3-oihH2rI-"
   },
   "source": [
    "# Grayscale 3D CNN"
   ]
  },
  {
   "cell_type": "code",
   "execution_count": 1,
   "metadata": {
    "colab": {
     "base_uri": "https://localhost:8080/"
    },
    "execution": {
     "iopub.execute_input": "2024-01-20T19:50:29.963360Z",
     "iopub.status.busy": "2024-01-20T19:50:29.962638Z",
     "iopub.status.idle": "2024-01-20T19:50:36.721293Z",
     "shell.execute_reply": "2024-01-20T19:50:36.720482Z",
     "shell.execute_reply.started": "2024-01-20T19:50:29.963320Z"
    },
    "id": "_jFgsCjqlvfk",
    "outputId": "b6f64198-ba28-45a1-af2c-f70b6e5ec8de",
    "tags": []
   },
   "outputs": [
    {
     "name": "stdout",
     "output_type": "stream",
     "text": [
      "Defaulting to user installation because normal site-packages is not writeable\n",
      "Requirement already satisfied: pip in /home/jupyter/.local/lib/python3.10/site-packages (23.3.2)\n"
     ]
    }
   ],
   "source": [
    "%%python3 -m pip install --upgrade pip\n"
   ]
  },
  {
   "cell_type": "code",
   "execution_count": 2,
   "metadata": {
    "execution": {
     "iopub.execute_input": "2024-01-20T19:51:24.379743Z",
     "iopub.status.busy": "2024-01-20T19:51:24.378884Z",
     "iopub.status.idle": "2024-01-20T19:51:32.612499Z",
     "shell.execute_reply": "2024-01-20T19:51:32.611550Z",
     "shell.execute_reply.started": "2024-01-20T19:51:24.379697Z"
    },
    "tags": []
   },
   "outputs": [
    {
     "name": "stdout",
     "output_type": "stream",
     "text": [
      "Defaulting to user installation because normal site-packages is not writeable\n",
      "Requirement already satisfied: mediapipe==0.10.9 in /home/jupyter/.local/lib/python3.10/site-packages (0.10.9)\n",
      "Requirement already satisfied: absl-py in /usr/local/lib/python3.10/dist-packages (from mediapipe==0.10.9) (1.4.0)\n",
      "Requirement already satisfied: attrs>=19.1.0 in /kernel/lib/python3.10/site-packages (from mediapipe==0.10.9) (23.2.0)\n",
      "Requirement already satisfied: flatbuffers>=2.0 in /usr/local/lib/python3.10/dist-packages (from mediapipe==0.10.9) (23.5.26)\n",
      "Requirement already satisfied: matplotlib in /usr/local/lib/python3.10/dist-packages (from mediapipe==0.10.9) (3.7.1)\n",
      "Requirement already satisfied: numpy in /usr/local/lib/python3.10/dist-packages (from mediapipe==0.10.9) (1.22.4)\n",
      "Requirement already satisfied: opencv-contrib-python in /usr/local/lib/python3.10/dist-packages (from mediapipe==0.10.9) (4.7.0.72)\n",
      "Requirement already satisfied: protobuf<4,>=3.11 in /usr/local/lib/python3.10/dist-packages (from mediapipe==0.10.9) (3.20.3)\n",
      "Requirement already satisfied: sounddevice>=0.4.4 in /home/jupyter/.local/lib/python3.10/site-packages (from mediapipe==0.10.9) (0.4.6)\n",
      "Requirement already satisfied: CFFI>=1.0 in /kernel/lib/python3.10/site-packages (from sounddevice>=0.4.4->mediapipe==0.10.9) (1.16.0)\n",
      "Requirement already satisfied: contourpy>=1.0.1 in /kernel/lib/python3.10/site-packages (from matplotlib->mediapipe==0.10.9) (1.2.0)\n",
      "Requirement already satisfied: cycler>=0.10 in /kernel/lib/python3.10/site-packages (from matplotlib->mediapipe==0.10.9) (0.12.1)\n",
      "Requirement already satisfied: fonttools>=4.22.0 in /kernel/lib/python3.10/site-packages (from matplotlib->mediapipe==0.10.9) (4.47.0)\n",
      "Requirement already satisfied: kiwisolver>=1.0.1 in /kernel/lib/python3.10/site-packages (from matplotlib->mediapipe==0.10.9) (1.4.5)\n",
      "Requirement already satisfied: packaging>=20.0 in /kernel/lib/python3.10/site-packages (from matplotlib->mediapipe==0.10.9) (23.2)\n",
      "Requirement already satisfied: pillow>=6.2.0 in /kernel/lib/python3.10/site-packages (from matplotlib->mediapipe==0.10.9) (10.2.0)\n",
      "Requirement already satisfied: pyparsing>=2.3.1 in /kernel/lib/python3.10/site-packages (from matplotlib->mediapipe==0.10.9) (2.4.7)\n",
      "Requirement already satisfied: python-dateutil>=2.7 in /kernel/lib/python3.10/site-packages (from matplotlib->mediapipe==0.10.9) (2.8.2)\n",
      "Requirement already satisfied: pycparser in /kernel/lib/python3.10/site-packages (from CFFI>=1.0->sounddevice>=0.4.4->mediapipe==0.10.9) (2.21)\n",
      "Requirement already satisfied: six>=1.5 in /kernel/lib/python3.10/site-packages (from python-dateutil>=2.7->matplotlib->mediapipe==0.10.9) (1.16.0)\n",
      "Defaulting to user installation because normal site-packages is not writeable\n",
      "Requirement already satisfied: opencv-python==4.8.0.76 in /home/jupyter/.local/lib/python3.10/site-packages (4.8.0.76)\n",
      "Requirement already satisfied: numpy>=1.21.2 in /usr/local/lib/python3.10/dist-packages (from opencv-python==4.8.0.76) (1.22.4)\n"
     ]
    }
   ],
   "source": [
    "#%pip install tensorflow_docs --upgrade\n",
    "%pip install mediapipe=='0.10.9'\n",
    "%pip install opencv-python=='4.8.0.76'"
   ]
  },
  {
   "cell_type": "code",
   "execution_count": null,
   "metadata": {
    "colab": {
     "base_uri": "https://localhost:8080/"
    },
    "id": "ulomdOZBlA5L",
    "outputId": "0bd95d20-c8cf-4d6b-dd73-fa087f9885ec"
   },
   "outputs": [],
   "source": [
    "# from google.colab import drive\n",
    "# drive.mount('/content/drive')"
   ]
  },
  {
   "cell_type": "code",
   "execution_count": 3,
   "metadata": {
    "execution": {
     "iopub.execute_input": "2024-01-20T19:51:54.217961Z",
     "iopub.status.busy": "2024-01-20T19:51:54.217228Z",
     "iopub.status.idle": "2024-01-20T19:52:22.605743Z",
     "shell.execute_reply": "2024-01-20T19:52:22.604977Z",
     "shell.execute_reply.started": "2024-01-20T19:51:54.217917Z"
    },
    "id": "lpifKE69qnfz",
    "tags": []
   },
   "outputs": [
    {
     "name": "stderr",
     "output_type": "stream",
     "text": [
      "2024-01-20 19:52:02.998804: I tensorflow/core/util/port.cc:110] oneDNN custom operations are on. You may see slightly different numerical results due to floating-point round-off errors from different computation orders. To turn them off, set the environment variable `TF_ENABLE_ONEDNN_OPTS=0`.\n",
      "2024-01-20 19:52:04.395055: I tensorflow/core/platform/cpu_feature_guard.cc:182] This TensorFlow binary is optimized to use available CPU instructions in performance-critical operations.\n",
      "To enable the following instructions: AVX2 AVX512F AVX512_VNNI FMA, in other operations, rebuild TensorFlow with the appropriate compiler flags.\n",
      "2024-01-20 19:52:07.775748: W tensorflow/compiler/tf2tensorrt/utils/py_utils.cc:38] TF-TRT Warning: Could not find TensorRT\n"
     ]
    }
   ],
   "source": [
    "from utils import VideoDataset, validate_model, train_model, display_frames, display_learning_dynamic, classification_model_metrics"
   ]
  },
  {
   "cell_type": "code",
   "execution_count": 4,
   "metadata": {
    "execution": {
     "iopub.execute_input": "2024-01-20T19:52:22.607748Z",
     "iopub.status.busy": "2024-01-20T19:52:22.607043Z",
     "iopub.status.idle": "2024-01-20T19:52:22.634396Z",
     "shell.execute_reply": "2024-01-20T19:52:22.633613Z",
     "shell.execute_reply.started": "2024-01-20T19:52:22.607710Z"
    },
    "tags": []
   },
   "outputs": [
    {
     "data": {
      "text/plain": [
       "'4.8.0'"
      ]
     },
     "execution_count": 4,
     "metadata": {},
     "output_type": "execute_result"
    }
   ],
   "source": [
    "import cv2\n",
    "cv2.__version__"
   ]
  },
  {
   "cell_type": "code",
   "execution_count": 5,
   "metadata": {
    "execution": {
     "iopub.execute_input": "2024-01-20T19:52:22.637325Z",
     "iopub.status.busy": "2024-01-20T19:52:22.635970Z",
     "iopub.status.idle": "2024-01-20T19:52:22.667800Z",
     "shell.execute_reply": "2024-01-20T19:52:22.667126Z",
     "shell.execute_reply.started": "2024-01-20T19:52:22.637269Z"
    },
    "id": "xC1QowWE0dTi",
    "tags": []
   },
   "outputs": [],
   "source": [
    "import torch\n",
    "import numpy as np\n",
    "import pandas as pd\n",
    "from torch.utils.data import DataLoader\n",
    "import torchvision\n",
    "import torch.nn as nn\n",
    "import torch.optim as optim\n",
    "import torch.backends.cudnn as cudnn"
   ]
  },
  {
   "cell_type": "code",
   "execution_count": 6,
   "metadata": {
    "execution": {
     "iopub.execute_input": "2024-01-20T19:52:22.669706Z",
     "iopub.status.busy": "2024-01-20T19:52:22.669163Z",
     "iopub.status.idle": "2024-01-20T19:52:22.681059Z",
     "shell.execute_reply": "2024-01-20T19:52:22.680429Z",
     "shell.execute_reply.started": "2024-01-20T19:52:22.669670Z"
    },
    "id": "bfEDKVt1ffGk",
    "tags": []
   },
   "outputs": [],
   "source": [
    "use_cuda = True\n",
    "seed = 1\n",
    "\n",
    "train_batch_size = 1\n",
    "test_batch_size = 1\n",
    "val_batch_size = 1\n",
    "IMG_SIZE = 112\n",
    "\n",
    "limit_list = []\n",
    "\n",
    "min_frame_count = 25\n",
    "\n",
    "\n",
    "annotations_file = \"/home/jupyter/mnt/s3/rsl-videos/slovo/slovo_annotations/SLOVO_DATAFRAME.tsv\" # \"/content/drive/MyDrive/slovo/SLOVO_DATAFRAME.tsv\" #\n",
    "video_dir = \"/home/jupyter/mnt/s3/rsl-videos/slovo/slovo\" #\"/content/drive/MyDrive/slovo/slovo\" #\n",
    "\n",
    "face_detection_model = 'face_detection_yunet_2023mar.onnx'\n"
   ]
  },
  {
   "cell_type": "code",
   "execution_count": 7,
   "metadata": {
    "colab": {
     "base_uri": "https://localhost:8080/",
     "height": 206
    },
    "execution": {
     "iopub.execute_input": "2024-01-20T19:52:22.682592Z",
     "iopub.status.busy": "2024-01-20T19:52:22.681945Z",
     "iopub.status.idle": "2024-01-20T19:52:23.047310Z",
     "shell.execute_reply": "2024-01-20T19:52:23.046652Z",
     "shell.execute_reply.started": "2024-01-20T19:52:22.682558Z"
    },
    "id": "-oTkPre0vh9k",
    "outputId": "b7fb8077-9143-4ecc-d70b-1079fb479aab",
    "tags": []
   },
   "outputs": [
    {
     "data": {
      "text/html": [
       "<div>\n",
       "<style scoped>\n",
       "    .dataframe tbody tr th:only-of-type {\n",
       "        vertical-align: middle;\n",
       "    }\n",
       "\n",
       "    .dataframe tbody tr th {\n",
       "        vertical-align: top;\n",
       "    }\n",
       "\n",
       "    .dataframe thead th {\n",
       "        text-align: right;\n",
       "    }\n",
       "</style>\n",
       "<table border=\"1\" class=\"dataframe\">\n",
       "  <thead>\n",
       "    <tr style=\"text-align: right;\">\n",
       "      <th></th>\n",
       "      <th>attachment_id</th>\n",
       "      <th>text</th>\n",
       "      <th>user_id</th>\n",
       "      <th>height</th>\n",
       "      <th>width</th>\n",
       "      <th>length</th>\n",
       "      <th>begin</th>\n",
       "      <th>end</th>\n",
       "      <th>group_rank</th>\n",
       "      <th>dataset</th>\n",
       "    </tr>\n",
       "  </thead>\n",
       "  <tbody>\n",
       "    <tr>\n",
       "      <th>19995</th>\n",
       "      <td>81cab3c3-80be-4eb1-b3bf-fd1b69034a16</td>\n",
       "      <td>отложенный</td>\n",
       "      <td>4d26ad833542291c50de9ce88fb4f64a</td>\n",
       "      <td>640</td>\n",
       "      <td>360</td>\n",
       "      <td>131.0</td>\n",
       "      <td>12</td>\n",
       "      <td>73</td>\n",
       "      <td>20</td>\n",
       "      <td>test</td>\n",
       "    </tr>\n",
       "    <tr>\n",
       "      <th>19996</th>\n",
       "      <td>4eeeea02-df4c-4667-872e-8387ed31c32e</td>\n",
       "      <td>башенные часы</td>\n",
       "      <td>3018b64d2c938f5b6a0826dfdf486f2c</td>\n",
       "      <td>640</td>\n",
       "      <td>360</td>\n",
       "      <td>145.0</td>\n",
       "      <td>17</td>\n",
       "      <td>83</td>\n",
       "      <td>20</td>\n",
       "      <td>test</td>\n",
       "    </tr>\n",
       "    <tr>\n",
       "      <th>19997</th>\n",
       "      <td>d947ab2e-0b6e-4ea7-a5dd-b401c572d177</td>\n",
       "      <td>дважды</td>\n",
       "      <td>3018b64d2c938f5b6a0826dfdf486f2c</td>\n",
       "      <td>640</td>\n",
       "      <td>360</td>\n",
       "      <td>127.0</td>\n",
       "      <td>13</td>\n",
       "      <td>63</td>\n",
       "      <td>20</td>\n",
       "      <td>test</td>\n",
       "    </tr>\n",
       "    <tr>\n",
       "      <th>19998</th>\n",
       "      <td>03edb6f1-1c91-46ce-8394-b74bca3b3cd7</td>\n",
       "      <td>время от 0 ночи до 12 дня</td>\n",
       "      <td>472fb939766ece63eb06e2d0e10eb679</td>\n",
       "      <td>840</td>\n",
       "      <td>358</td>\n",
       "      <td>178.0</td>\n",
       "      <td>16</td>\n",
       "      <td>138</td>\n",
       "      <td>19</td>\n",
       "      <td>test</td>\n",
       "    </tr>\n",
       "    <tr>\n",
       "      <th>19999</th>\n",
       "      <td>5393ec0c-85a4-4980-a2da-e84259050d83</td>\n",
       "      <td>время от 0 ночи до 12 дня</td>\n",
       "      <td>30eae85220a3d47b79b9955a08d31d63</td>\n",
       "      <td>640</td>\n",
       "      <td>360</td>\n",
       "      <td>205.0</td>\n",
       "      <td>32</td>\n",
       "      <td>172</td>\n",
       "      <td>20</td>\n",
       "      <td>test</td>\n",
       "    </tr>\n",
       "  </tbody>\n",
       "</table>\n",
       "</div>"
      ],
      "text/plain": [
       "                              attachment_id  ... dataset\n",
       "19995  81cab3c3-80be-4eb1-b3bf-fd1b69034a16  ...    test\n",
       "19996  4eeeea02-df4c-4667-872e-8387ed31c32e  ...    test\n",
       "19997  d947ab2e-0b6e-4ea7-a5dd-b401c572d177  ...    test\n",
       "19998  03edb6f1-1c91-46ce-8394-b74bca3b3cd7  ...    test\n",
       "19999  5393ec0c-85a4-4980-a2da-e84259050d83  ...    test\n",
       "\n",
       "[5 rows x 10 columns]"
      ]
     },
     "execution_count": 7,
     "metadata": {},
     "output_type": "execute_result"
    }
   ],
   "source": [
    "video_labels = pd.read_csv(annotations_file, sep='\\t')\n",
    "video_labels['group_rank'] = video_labels.groupby(['text']).cumcount()+1;\n",
    "video_labels['dataset'] = np.where(video_labels['group_rank']<17,'train', np.where(video_labels['group_rank']<19,'val', 'test'))\n",
    "if len(limit_list)>0:\n",
    "  video_labels = video_labels[video_labels.text.isin(limit_list)]\n",
    "video_labels.tail(5)"
   ]
  },
  {
   "cell_type": "code",
   "execution_count": 8,
   "metadata": {
    "colab": {
     "base_uri": "https://localhost:8080/"
    },
    "execution": {
     "iopub.execute_input": "2024-01-20T19:52:23.048607Z",
     "iopub.status.busy": "2024-01-20T19:52:23.048208Z",
     "iopub.status.idle": "2024-01-20T19:52:23.083474Z",
     "shell.execute_reply": "2024-01-20T19:52:23.082667Z",
     "shell.execute_reply.started": "2024-01-20T19:52:23.048573Z"
    },
    "id": "OQc78Q_StZUb",
    "outputId": "055269e5-a2ac-4eea-a010-665e2c2034a6",
    "tags": []
   },
   "outputs": [
    {
     "name": "stdout",
     "output_type": "stream",
     "text": [
      "Total number of classes: 1000. Example classes: ('Ё', 'А', 'Р', 'Е', 'Ч')\n"
     ]
    }
   ],
   "source": [
    "classes = tuple(video_labels.text.unique())\n",
    "n_class = len(classes)\n",
    "print(f\"Total number of classes: {n_class}. Example classes: {classes[:5]}\")"
   ]
  },
  {
   "cell_type": "code",
   "execution_count": 9,
   "metadata": {
    "colab": {
     "base_uri": "https://localhost:8080/"
    },
    "execution": {
     "iopub.execute_input": "2024-01-20T19:52:23.085148Z",
     "iopub.status.busy": "2024-01-20T19:52:23.084461Z",
     "iopub.status.idle": "2024-01-20T19:52:23.098460Z",
     "shell.execute_reply": "2024-01-20T19:52:23.097832Z",
     "shell.execute_reply.started": "2024-01-20T19:52:23.085117Z"
    },
    "id": "eDF-8mptt0a0",
    "outputId": "7255e631-9d2a-4a31-da83-cfb3c6aa5d4a",
    "tags": []
   },
   "outputs": [
    {
     "data": {
      "text/plain": [
       "104"
      ]
     },
     "execution_count": 9,
     "metadata": {},
     "output_type": "execute_result"
    }
   ],
   "source": [
    "classes.index('слон')"
   ]
  },
  {
   "cell_type": "code",
   "execution_count": 10,
   "metadata": {
    "execution": {
     "iopub.execute_input": "2024-01-20T19:52:23.101062Z",
     "iopub.status.busy": "2024-01-20T19:52:23.100560Z",
     "iopub.status.idle": "2024-01-20T19:52:23.114722Z",
     "shell.execute_reply": "2024-01-20T19:52:23.114015Z",
     "shell.execute_reply.started": "2024-01-20T19:52:23.101025Z"
    },
    "tags": []
   },
   "outputs": [],
   "source": [
    "train_kwargs = {'num_workers': 0, 'pin_memory': True} if use_cuda else {}\n",
    "test_kwargs = {'num_workers': 0, 'pin_memory': True} if use_cuda else {}\n",
    "val_kwargs = {'num_workers': 0, 'pin_memory': True} if use_cuda else {}"
   ]
  },
  {
   "cell_type": "code",
   "execution_count": null,
   "metadata": {
    "colab": {
     "background_save": true
    },
    "execution": {
     "iopub.execute_input": "2024-01-18T14:55:16.610849Z",
     "iopub.status.busy": "2024-01-18T14:55:16.610056Z"
    },
    "id": "15n9xcoiv9bm",
    "tags": []
   },
   "outputs": [
    {
     "name": "stderr",
     "output_type": "stream",
     "text": [
      "INFO: Created TensorFlow Lite XNNPACK delegate for CPU.\n"
     ]
    }
   ],
   "source": [
    "test_dataloader = DataLoader(VideoDataset(video_labels, video_dir, IMG_SIZE, min_frame_count, classes, face_detection_model, ds_type = \"test\"), batch_size=test_batch_size, shuffle=True, **test_kwargs)"
   ]
  },
  {
   "cell_type": "code",
   "execution_count": null,
   "metadata": {
    "execution": {
     "iopub.status.idle": "2024-01-18T16:12:02.809070Z"
    }
   },
   "outputs": [],
   "source": [
    "torch.save(test_dataloader, '/home/jupyter/mnt/s3/rsl-videos/slovo/color_frames_test_dataloader.pth')"
   ]
  },
  {
   "cell_type": "code",
   "execution_count": null,
   "metadata": {
    "execution": {
     "iopub.execute_input": "2024-01-18T16:12:02.811005Z",
     "iopub.status.busy": "2024-01-18T16:12:02.810548Z"
    }
   },
   "outputs": [],
   "source": [
    "val_dataloader = DataLoader(VideoDataset(video_labels, video_dir, IMG_SIZE, min_frame_count, classes, face_detection_model, ds_type = \"val\"), batch_size=val_batch_size, shuffle=True, **val_kwargs)"
   ]
  },
  {
   "cell_type": "code",
   "execution_count": null,
   "metadata": {},
   "outputs": [],
   "source": [
    "torch.save(val_dataloader, '/home/jupyter/mnt/s3/rsl-videos/slovo/color_frames_val_dataloader.pth')"
   ]
  },
  {
   "cell_type": "code",
   "execution_count": null,
   "metadata": {
    "execution": {
     "iopub.execute_input": "2024-01-20T19:52:23.117927Z",
     "iopub.status.busy": "2024-01-20T19:52:23.117410Z"
    },
    "tags": []
   },
   "outputs": [
    {
     "name": "stderr",
     "output_type": "stream",
     "text": [
      "INFO: Created TensorFlow Lite XNNPACK delegate for CPU.\n"
     ]
    }
   ],
   "source": [
    "train_dataloader = DataLoader(VideoDataset(video_labels, video_dir, IMG_SIZE, min_frame_count, classes, face_detection_model, ds_type = \"train\"), batch_size=train_batch_size, shuffle=True, **train_kwargs)"
   ]
  },
  {
   "cell_type": "code",
   "execution_count": null,
   "metadata": {},
   "outputs": [],
   "source": [
    "#torch.save(train_dataloader, '/home/jupyter/mnt/s3/rsl-videos/slovo/color_frames_train_dataloader.pth')\n",
    "torch.save(train_dataloader, 'color_frames_train_dataloader.pth')"
   ]
  }
 ],
 "metadata": {
  "accelerator": "GPU",
  "colab": {
   "provenance": []
  },
  "kernelspec": {
   "display_name": "DataSphere Kernel",
   "language": "python",
   "name": "python3"
  },
  "language_info": {
   "codemirror_mode": {
    "name": "ipython",
    "version": 3
   },
   "file_extension": ".py",
   "mimetype": "text/x-python",
   "name": "python",
   "nbconvert_exporter": "python",
   "pygments_lexer": "ipython3",
   "version": "3.7.7"
  },
  "toc-autonumbering": true
 },
 "nbformat": 4,
 "nbformat_minor": 4
}

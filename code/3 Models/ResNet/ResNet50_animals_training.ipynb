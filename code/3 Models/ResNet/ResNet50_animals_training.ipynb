{
 "cells": [
  {
   "cell_type": "markdown",
   "metadata": {
    "id": "1G3-oihH2rI-"
   },
   "source": [
    "# 3D ResNet50 (30 animal classes)"
   ]
  },
  {
   "cell_type": "code",
   "execution_count": null,
   "metadata": {
    "id": "LOTglnfEsqvo"
   },
   "outputs": [],
   "source": [
    "#%%python3 -m pip install --upgrade pip"
   ]
  },
  {
   "cell_type": "code",
   "execution_count": null,
   "metadata": {
    "colab": {
     "base_uri": "https://localhost:8080/"
    },
    "execution": {
     "iopub.execute_input": "2024-02-10T12:28:25.617570Z",
     "iopub.status.busy": "2024-02-10T12:28:25.616854Z",
     "iopub.status.idle": "2024-02-10T12:28:39.373254Z",
     "shell.execute_reply": "2024-02-10T12:28:39.372223Z",
     "shell.execute_reply.started": "2024-02-10T12:28:25.617536Z"
    },
    "id": "Mx80A73qsxHy",
    "outputId": "4e71f727-c8b7-4c4a-fdf9-c6adc8f0b1fb"
   },
   "outputs": [],
   "source": [
    "%pip install mediapipe=='0.10.9'\n",
    "%pip install opencv-python=='4.8.0.76'"
   ]
  },
  {
   "cell_type": "code",
   "execution_count": null,
   "metadata": {
    "colab": {
     "base_uri": "https://localhost:8080/"
    },
    "id": "ulomdOZBlA5L",
    "outputId": "9eaf5e46-f98a-40a5-b6c0-365067431bee"
   },
   "outputs": [],
   "source": [
    "# from google.colab import drive\n",
    "# drive.mount('/content/drive')"
   ]
  },
  {
   "cell_type": "code",
   "execution_count": null,
   "metadata": {
    "execution": {
     "iopub.execute_input": "2024-02-10T12:28:39.376723Z",
     "iopub.status.busy": "2024-02-10T12:28:39.375722Z",
     "iopub.status.idle": "2024-02-10T12:29:09.615944Z",
     "shell.execute_reply": "2024-02-10T12:29:09.614783Z",
     "shell.execute_reply.started": "2024-02-10T12:28:39.376668Z"
    },
    "id": "lpifKE69qnfz"
   },
   "outputs": [],
   "source": [
    "import sys\n",
    "sys.path.append(\"..\")\n",
    "from train_utils import VideoDataset, validate_model, train_model, display_frames\n",
    "from models_resnet import resnet50"
   ]
  },
  {
   "cell_type": "code",
   "execution_count": null,
   "metadata": {
    "execution": {
     "iopub.execute_input": "2024-02-10T12:29:09.618829Z",
     "iopub.status.busy": "2024-02-10T12:29:09.617804Z",
     "iopub.status.idle": "2024-02-10T12:29:09.632604Z",
     "shell.execute_reply": "2024-02-10T12:29:09.631587Z",
     "shell.execute_reply.started": "2024-02-10T12:29:09.618778Z"
    },
    "id": "xC1QowWE0dTi"
   },
   "outputs": [],
   "source": [
    "import torch\n",
    "import numpy as np\n",
    "import pandas as pd\n",
    "from torch.utils.data import DataLoader\n",
    "import torchvision\n",
    "import torch.nn as nn\n",
    "import torch.optim as optim\n",
    "import torch.backends.cudnn as cudnn\n",
    "import json"
   ]
  },
  {
   "cell_type": "code",
   "execution_count": null,
   "metadata": {
    "execution": {
     "iopub.execute_input": "2024-02-10T12:29:09.634981Z",
     "iopub.status.busy": "2024-02-10T12:29:09.634178Z",
     "iopub.status.idle": "2024-02-10T12:29:09.653970Z",
     "shell.execute_reply": "2024-02-10T12:29:09.652723Z",
     "shell.execute_reply.started": "2024-02-10T12:29:09.634935Z"
    },
    "id": "dRXvzAoNywGW"
   },
   "outputs": [],
   "source": [
    "def save_model_dyn(save_path, model_name, train_loss_dynamic, val_accuracy_dynamic):\n",
    "    with open(f'{save_path}/{model_name}_loss_acc_dynamic.json', 'w') as f:\n",
    "        json.dump(\n",
    "            {\n",
    "                'train_loss_dynamic': train_loss_dynamic,\n",
    "                'val_accuracy_dynamic': val_accuracy_dynamic\n",
    "            },\n",
    "            f)"
   ]
  },
  {
   "cell_type": "code",
   "execution_count": null,
   "metadata": {
    "execution": {
     "iopub.execute_input": "2024-02-10T12:29:09.656478Z",
     "iopub.status.busy": "2024-02-10T12:29:09.655542Z",
     "iopub.status.idle": "2024-02-10T12:29:09.676945Z",
     "shell.execute_reply": "2024-02-10T12:29:09.675729Z",
     "shell.execute_reply.started": "2024-02-10T12:29:09.656429Z"
    },
    "id": "bfEDKVt1ffGk"
   },
   "outputs": [],
   "source": [
    "use_cuda = True\n",
    "seed = 1\n",
    "\n",
    "train_batch_size = 1\n",
    "test_batch_size = 1\n",
    "val_batch_size = 1\n",
    "IMG_SIZE = 112\n",
    "\n",
    "limit_list = [] #[\"динозавр\", \"пингвин\", \"кролик\"]\n",
    "\n",
    "min_frame_count = 25\n",
    "\n",
    "save = True\n",
    "\n",
    "annotations_file = \"/home/jupyter/mnt/s3/rsl-videos/slovo/slovo_annotations/SLOVO_DF_SHORT.tsv\" # \"/content/drive/MyDrive/slovo/SLOVO_DF_SHORT.tsv\" #\n",
    "dataloader_dir =  \"/home/jupyter/mnt/s3/rsl-videos/slovo/Dataloaders/animals/\" #\"/content/drive/MyDrive/slovo/dataloaders/\"\n",
    "\n",
    "train_dataloader_name = 'color_frames_train_dataloader.pth'\n",
    "val_dataloader_name = 'color_frames_val_dataloader.pth'\n",
    "\n",
    "save_path = \"/home/jupyter/mnt/s3/rsl-videos/slovo/models/animals/resnet50\" #'/content/drive/MyDrive/slovo/models/ResNet50' #'/content/model'"
   ]
  },
  {
   "cell_type": "code",
   "execution_count": null,
   "metadata": {
    "colab": {
     "base_uri": "https://localhost:8080/",
     "height": 206
    },
    "execution": {
     "iopub.execute_input": "2024-02-10T12:29:09.679176Z",
     "iopub.status.busy": "2024-02-10T12:29:09.678227Z",
     "iopub.status.idle": "2024-02-10T12:29:09.873723Z",
     "shell.execute_reply": "2024-02-10T12:29:09.872745Z",
     "shell.execute_reply.started": "2024-02-10T12:29:09.679116Z"
    },
    "id": "-oTkPre0vh9k",
    "outputId": "e2be0a18-c433-4cc0-90a7-283c9a312aa5"
   },
   "outputs": [],
   "source": [
    "video_labels = pd.read_csv(annotations_file, sep='\\t')\n",
    "video_labels['group_rank'] = video_labels.groupby(['text']).cumcount()+1;\n",
    "video_labels['dataset'] = np.where(video_labels['group_rank']<17,'train', np.where(video_labels['group_rank']<19,'val', 'test'))\n",
    "if len(limit_list)>0:\n",
    "  video_labels = video_labels[video_labels.text.isin(limit_list)]\n",
    "video_labels.tail(5)"
   ]
  },
  {
   "cell_type": "code",
   "execution_count": null,
   "metadata": {
    "colab": {
     "base_uri": "https://localhost:8080/"
    },
    "execution": {
     "iopub.execute_input": "2024-02-10T12:29:09.875792Z",
     "iopub.status.busy": "2024-02-10T12:29:09.875101Z",
     "iopub.status.idle": "2024-02-10T12:29:09.892267Z",
     "shell.execute_reply": "2024-02-10T12:29:09.891206Z",
     "shell.execute_reply.started": "2024-02-10T12:29:09.875742Z"
    },
    "id": "OQc78Q_StZUb",
    "outputId": "07a9d0f4-3975-45ed-8762-2cc19dee6d6f"
   },
   "outputs": [],
   "source": [
    "classes = tuple(video_labels.text.unique())\n",
    "n_class = len(classes)\n",
    "print(f\"Total number of classes: {n_class}. Example classes: {classes[:5]}\")"
   ]
  },
  {
   "cell_type": "code",
   "execution_count": null,
   "metadata": {
    "colab": {
     "base_uri": "https://localhost:8080/"
    },
    "execution": {
     "iopub.execute_input": "2024-02-10T12:29:09.896351Z",
     "iopub.status.busy": "2024-02-10T12:29:09.895657Z",
     "iopub.status.idle": "2024-02-10T12:29:18.812459Z",
     "shell.execute_reply": "2024-02-10T12:29:18.811413Z",
     "shell.execute_reply.started": "2024-02-10T12:29:09.896304Z"
    },
    "id": "15n9xcoiv9bm",
    "outputId": "35b76855-297e-4fe2-ff26-d7369b2be0ee"
   },
   "outputs": [],
   "source": [
    "train_dataloader = torch.load(dataloader_dir + train_dataloader_name)\n",
    "print(f\"Train dataloader contains: {len(train_dataloader)} videos\")\n",
    "val_dataloader = torch.load(dataloader_dir + val_dataloader_name)\n",
    "print(f\"Val dataloader contains: {len(val_dataloader)} videos\")"
   ]
  },
  {
   "cell_type": "code",
   "execution_count": null,
   "metadata": {
    "colab": {
     "base_uri": "https://localhost:8080/"
    },
    "execution": {
     "iopub.execute_input": "2024-02-10T12:29:18.816595Z",
     "iopub.status.busy": "2024-02-10T12:29:18.815383Z",
     "iopub.status.idle": "2024-02-10T12:29:18.954769Z",
     "shell.execute_reply": "2024-02-10T12:29:18.953514Z",
     "shell.execute_reply.started": "2024-02-10T12:29:18.816543Z"
    },
    "id": "dKyFHg75s_EJ",
    "outputId": "5e61f4e1-f777-4ca4-dc2a-a1755106ce79"
   },
   "outputs": [],
   "source": [
    "use_cuda = use_cuda and torch.cuda.is_available()\n",
    "\n",
    "if use_cuda:\n",
    "  for dl in [train_dataloader, val_dataloader]:\n",
    "    dl.num_workers = 0\n",
    "    dl.pin_memory = True\n",
    "  torch.cuda.manual_seed(seed)  # Set the random seed for the current GPU\n",
    "else:\n",
    "  torch.manual_seed(seed)\n",
    "\n",
    "device = torch.device(\"cuda\" if use_cuda else \"cpu\")\n",
    "\n",
    "print(f\"Device: {device}\")"
   ]
  },
  {
   "cell_type": "code",
   "execution_count": null,
   "metadata": {
    "colab": {
     "base_uri": "https://localhost:8080/",
     "height": 641
    },
    "execution": {
     "iopub.execute_input": "2024-02-10T12:29:18.957031Z",
     "iopub.status.busy": "2024-02-10T12:29:18.956267Z",
     "iopub.status.idle": "2024-02-10T12:29:19.953725Z",
     "shell.execute_reply": "2024-02-10T12:29:19.952384Z",
     "shell.execute_reply.started": "2024-02-10T12:29:18.956988Z"
    },
    "id": "aY5ltVCU0s9A",
    "outputId": "cb4aa759-8dc9-4c45-be27-0d368232f39c"
   },
   "outputs": [],
   "source": [
    "display_frames(n_frames=1, dataloader=train_dataloader, classes=classes)"
   ]
  },
  {
   "cell_type": "code",
   "execution_count": null,
   "metadata": {
    "colab": {
     "base_uri": "https://localhost:8080/"
    },
    "execution": {
     "iopub.execute_input": "2024-02-10T12:29:19.956172Z",
     "iopub.status.busy": "2024-02-10T12:29:19.955266Z",
     "iopub.status.idle": "2024-02-10T12:29:19.989104Z",
     "shell.execute_reply": "2024-02-10T12:29:19.987761Z",
     "shell.execute_reply.started": "2024-02-10T12:29:19.956115Z"
    },
    "id": "-hqDKUkygNuv",
    "outputId": "b0d6dce2-96bf-4e79-c293-c31af078289f"
   },
   "outputs": [],
   "source": [
    "frames, labels = next(iter(val_dataloader))\n",
    "print(f\"Frames shape: {frames.shape}\") # (batch_size, -channels, frames, w, h) torch.Size([1, 3, 25, 112, 112])\n",
    "print(f\"Labels shape: {labels.shape}\") # batch_size\n",
    "print(f\"Labels: {labels}\") # class index"
   ]
  },
  {
   "cell_type": "code",
   "execution_count": null,
   "metadata": {},
   "outputs": [],
   "source": [
    "bs = val_dataloader.batch_size"
   ]
  },
  {
   "cell_type": "markdown",
   "metadata": {
    "id": "R41RicdD2k7e"
   },
   "source": [
    "# ResNet 50, $lr = 10^{-3}$ bs=1"
   ]
  },
  {
   "cell_type": "code",
   "execution_count": null,
   "metadata": {
    "colab": {
     "base_uri": "https://localhost:8080/"
    },
    "execution": {
     "iopub.execute_input": "2024-02-10T12:29:19.991261Z",
     "iopub.status.busy": "2024-02-10T12:29:19.990444Z",
     "iopub.status.idle": "2024-02-10T12:29:20.519222Z",
     "shell.execute_reply": "2024-02-10T12:29:20.517991Z",
     "shell.execute_reply.started": "2024-02-10T12:29:19.991216Z"
    },
    "id": "saVP85CSlB8L",
    "outputId": "d5a82e1b-31d0-4bbd-8877-fdab18155cf5"
   },
   "outputs": [],
   "source": [
    "resnet = resnet50()\n",
    "num_ftrs = resnet.fc.in_features\n",
    "resnet.fc = nn.Linear(num_ftrs, n_class)\n",
    "resnet.fc"
   ]
  },
  {
   "cell_type": "code",
   "execution_count": null,
   "metadata": {
    "colab": {
     "base_uri": "https://localhost:8080/"
    },
    "execution": {
     "iopub.execute_input": "2024-02-10T12:29:20.521234Z",
     "iopub.status.busy": "2024-02-10T12:29:20.520643Z",
     "iopub.status.idle": "2024-02-10T12:29:21.976545Z",
     "shell.execute_reply": "2024-02-10T12:29:21.975332Z",
     "shell.execute_reply.started": "2024-02-10T12:29:20.521172Z"
    },
    "id": "E8cXDKQSjL1v",
    "outputId": "9719bd16-8c9d-4006-f517-7918c1a322f4"
   },
   "outputs": [],
   "source": [
    "frames, labels = next(iter(val_dataloader))\n",
    "frames = frames.to(device)\n",
    "resnet.to(device)\n",
    "print(f\"Output shape: {resnet(frames/255).shape}\") # batch size, number of classes"
   ]
  },
  {
   "cell_type": "code",
   "execution_count": null,
   "metadata": {
    "execution": {
     "iopub.execute_input": "2024-02-10T12:29:21.979046Z",
     "iopub.status.busy": "2024-02-10T12:29:21.977851Z",
     "iopub.status.idle": "2024-02-10T12:29:21.996729Z",
     "shell.execute_reply": "2024-02-10T12:29:21.995481Z",
     "shell.execute_reply.started": "2024-02-10T12:29:21.978995Z"
    },
    "id": "yVtoQxGhtN6v"
   },
   "outputs": [],
   "source": [
    "lr_power = -3\n",
    "lr = 3 * (10**(lr_power))\n",
    "num_epoches = 30\n",
    "model_name = f\"ResNet50_animals_lr10{lr_power}_bs{bs}\"\n",
    "criterion = nn.CrossEntropyLoss()\n",
    "optimizer = optim.AdamW(resnet.parameters(), lr=lr)\n",
    "scheduler = optim.lr_scheduler.CosineAnnealingLR(optimizer, T_max=num_epoches, eta_min=0, last_epoch=-1)"
   ]
  },
  {
   "cell_type": "code",
   "execution_count": null,
   "metadata": {
    "colab": {
     "base_uri": "https://localhost:8080/"
    },
    "execution": {
     "iopub.execute_input": "2024-02-10T12:29:21.999224Z",
     "iopub.status.busy": "2024-02-10T12:29:21.998366Z",
     "iopub.status.idle": "2024-02-10T12:37:28.925121Z",
     "shell.execute_reply": "2024-02-10T12:37:28.923931Z",
     "shell.execute_reply.started": "2024-02-10T12:29:21.999174Z"
    },
    "id": "5z9Y3JZgooD2",
    "outputId": "f3247871-f5c6-44cc-83a6-a11c202fd636"
   },
   "outputs": [],
   "source": [
    "best_acc = 1/n_class\n",
    "\n",
    "previous_epochs = 0\n",
    "num_epoches = 30\n",
    "\n",
    "if use_cuda:\n",
    "  model = torch.nn.DataParallel(resnet, device_ids=range(torch.cuda.device_count()))\n",
    "  cudnn.benchmark = True\n",
    "\n",
    "epochs = list()\n",
    "train_loss_dynamic = list()\n",
    "val_accuracy_dynamic = list()\n",
    "for epoch in range(previous_epochs+1, previous_epochs + num_epoches + 1):\n",
    "  epochs.append(epoch)\n",
    "  print(f'Train Epoch {epoch}/{previous_epochs + num_epoches}', end=\": \")\n",
    "  train_loss = train_model(resnet, optimizer, criterion, train_dataloader, device, scheduler=scheduler)\n",
    "  print(f\"train_loss={train_loss}\", end=\"; \")\n",
    "  train_loss_dynamic.append(train_loss)\n",
    "  if epoch % 1 == 0:\n",
    "    predict_acc, best_acc = validate_model(resnet, classes, epoch, criterion, optimizer, val_dataloader, device, best_acc, save, save_path, model_name)\n",
    "    print(f\"val acc={predict_acc:.3f}\")\n",
    "    val_accuracy_dynamic.append(predict_acc.item())\n",
    "    save_model_dyn(save_path, model_name, train_loss_dynamic, val_accuracy_dynamic)"
   ]
  },
  {
   "cell_type": "markdown",
   "metadata": {},
   "source": [
    "# ResNet 50, $lr = 10^{-4}$ bs=1"
   ]
  },
  {
   "cell_type": "code",
   "execution_count": null,
   "metadata": {},
   "outputs": [],
   "source": [
    "resnet = resnet50()\n",
    "num_ftrs = resnet.fc.in_features\n",
    "resnet.fc = nn.Linear(num_ftrs, n_class)\n",
    "resnet.fc"
   ]
  },
  {
   "cell_type": "code",
   "execution_count": null,
   "metadata": {},
   "outputs": [],
   "source": [
    "lr_power = -4\n",
    "lr = 3 * (10**(lr_power))\n",
    "num_epoches = 30\n",
    "model_name = f\"ResNet50_animals_lr10{lr_power}_bs{bs}\"\n",
    "criterion = nn.CrossEntropyLoss()\n",
    "optimizer = optim.AdamW(resnet.parameters(), lr=lr)\n",
    "scheduler = optim.lr_scheduler.CosineAnnealingLR(optimizer, T_max=num_epoches, eta_min=0, last_epoch=-1)"
   ]
  },
  {
   "cell_type": "code",
   "execution_count": null,
   "metadata": {},
   "outputs": [],
   "source": [
    "best_acc = 1/n_class\n",
    "\n",
    "previous_epochs = 0\n",
    "num_epoches = 30\n",
    "\n",
    "if use_cuda:\n",
    "  model = torch.nn.DataParallel(resnet, device_ids=range(torch.cuda.device_count()))\n",
    "  cudnn.benchmark = True\n",
    "\n",
    "epochs = list()\n",
    "train_loss_dynamic = list()\n",
    "val_accuracy_dynamic = list()\n",
    "for epoch in range(previous_epochs+1, previous_epochs + num_epoches + 1):\n",
    "  epochs.append(epoch)\n",
    "  print(f'Train Epoch {epoch}/{previous_epochs + num_epoches}', end=\": \")\n",
    "  train_loss = train_model(resnet, optimizer, criterion, train_dataloader, device, scheduler=scheduler)\n",
    "  print(f\"train_loss={train_loss}\", end=\"; \")\n",
    "  train_loss_dynamic.append(train_loss)\n",
    "  if epoch % 1 == 0:\n",
    "    predict_acc, best_acc = validate_model(resnet, classes, epoch, criterion, optimizer, val_dataloader, device, best_acc, save, save_path, model_name)\n",
    "    print(f\"val acc={predict_acc:.3f}\")\n",
    "    val_accuracy_dynamic.append(predict_acc.item())\n",
    "    save_model_dyn(save_path, model_name, train_loss_dynamic, val_accuracy_dynamic)"
   ]
  },
  {
   "cell_type": "markdown",
   "metadata": {},
   "source": [
    "# ResNet 50, $lr = 10^{-5}$ bs=1"
   ]
  },
  {
   "cell_type": "code",
   "execution_count": null,
   "metadata": {},
   "outputs": [],
   "source": [
    "resnet = resnet50()\n",
    "num_ftrs = resnet.fc.in_features\n",
    "resnet.fc = nn.Linear(num_ftrs, n_class)\n",
    "resnet.fc"
   ]
  },
  {
   "cell_type": "code",
   "execution_count": null,
   "metadata": {},
   "outputs": [],
   "source": [
    "lr_power = -5\n",
    "lr = 3 * (10**(lr_power))\n",
    "num_epoches = 30\n",
    "model_name = f\"ResNet50_animals_lr10{lr_power}_bs{bs}\"\n",
    "criterion = nn.CrossEntropyLoss()\n",
    "optimizer = optim.AdamW(resnet.parameters(), lr=lr)\n",
    "scheduler = optim.lr_scheduler.CosineAnnealingLR(optimizer, T_max=num_epoches, eta_min=0, last_epoch=-1)"
   ]
  },
  {
   "cell_type": "code",
   "execution_count": null,
   "metadata": {},
   "outputs": [],
   "source": [
    "best_acc = 1/n_class\n",
    "\n",
    "previous_epochs = 0\n",
    "num_epoches = 30\n",
    "\n",
    "if use_cuda:\n",
    "  model = torch.nn.DataParallel(resnet, device_ids=range(torch.cuda.device_count()))\n",
    "  cudnn.benchmark = True\n",
    "\n",
    "epochs = list()\n",
    "train_loss_dynamic = list()\n",
    "val_accuracy_dynamic = list()\n",
    "for epoch in range(previous_epochs+1, previous_epochs + num_epoches + 1):\n",
    "  epochs.append(epoch)\n",
    "  print(f'Train Epoch {epoch}/{previous_epochs + num_epoches}', end=\": \")\n",
    "  train_loss = train_model(resnet, optimizer, criterion, train_dataloader, device, scheduler=scheduler)\n",
    "  print(f\"train_loss={train_loss}\", end=\"; \")\n",
    "  train_loss_dynamic.append(train_loss)\n",
    "  if epoch % 1 == 0:\n",
    "    predict_acc, best_acc = validate_model(resnet, classes, epoch, criterion, optimizer, val_dataloader, device, best_acc, save, save_path, model_name)\n",
    "    print(f\"val acc={predict_acc:.3f}\")\n",
    "    val_accuracy_dynamic.append(predict_acc.item())\n",
    "    save_model_dyn(save_path, model_name, train_loss_dynamic, val_accuracy_dynamic)"
   ]
  },
  {
   "cell_type": "markdown",
   "metadata": {},
   "source": [
    "# ResNet 50, $lr = 10^{-6}$ bs=1"
   ]
  },
  {
   "cell_type": "code",
   "execution_count": null,
   "metadata": {},
   "outputs": [],
   "source": [
    "resnet = resnet50()\n",
    "num_ftrs = resnet.fc.in_features\n",
    "resnet.fc = nn.Linear(num_ftrs, n_class)\n",
    "resnet.fc"
   ]
  },
  {
   "cell_type": "code",
   "execution_count": null,
   "metadata": {},
   "outputs": [],
   "source": [
    "lr_power = -6\n",
    "lr = 3 * (10**(lr_power))\n",
    "num_epoches = 30\n",
    "model_name = f\"ResNet50_animals_lr10{lr_power}_bs{bs}\"\n",
    "criterion = nn.CrossEntropyLoss()\n",
    "optimizer = optim.AdamW(resnet.parameters(), lr=lr)\n",
    "scheduler = optim.lr_scheduler.CosineAnnealingLR(optimizer, T_max=num_epoches, eta_min=0, last_epoch=-1)"
   ]
  },
  {
   "cell_type": "code",
   "execution_count": null,
   "metadata": {},
   "outputs": [],
   "source": [
    "best_acc = 1/n_class\n",
    "\n",
    "previous_epochs = 0\n",
    "num_epoches = 30\n",
    "\n",
    "if use_cuda:\n",
    "  model = torch.nn.DataParallel(resnet, device_ids=range(torch.cuda.device_count()))\n",
    "  cudnn.benchmark = True\n",
    "\n",
    "epochs = list()\n",
    "train_loss_dynamic = list()\n",
    "val_accuracy_dynamic = list()\n",
    "for epoch in range(previous_epochs+1, previous_epochs + num_epoches + 1):\n",
    "  epochs.append(epoch)\n",
    "  print(f'Train Epoch {epoch}/{previous_epochs + num_epoches}', end=\": \")\n",
    "  train_loss = train_model(resnet, optimizer, criterion, train_dataloader, device, scheduler=scheduler)\n",
    "  print(f\"train_loss={train_loss}\", end=\"; \")\n",
    "  train_loss_dynamic.append(train_loss)\n",
    "  if epoch % 1 == 0:\n",
    "    predict_acc, best_acc = validate_model(resnet, classes, epoch, criterion, optimizer, val_dataloader, device, best_acc, save, save_path, model_name)\n",
    "    print(f\"val acc={predict_acc:.3f}\")\n",
    "    val_accuracy_dynamic.append(predict_acc.item())\n",
    "    save_model_dyn(save_path, model_name, train_loss_dynamic, val_accuracy_dynamic)"
   ]
  }
 ],
 "metadata": {
  "colab": {
   "provenance": []
  },
  "kernelspec": {
   "display_name": "DataSphere Kernel",
   "language": "python",
   "name": "python3"
  },
  "language_info": {
   "name": "python"
  }
 },
 "nbformat": 4,
 "nbformat_minor": 4
}

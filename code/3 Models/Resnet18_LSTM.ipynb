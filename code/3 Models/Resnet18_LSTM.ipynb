{
  "cells": [
    {
      "cell_type": "markdown",
      "metadata": {
        "id": "1G3-oihH2rI-"
      },
      "source": [
        "https://pytorch.org/tutorials/beginner/basics/data_tutorial.html\n",
        "\n",
        "A custom Dataset class must implement three functions: __init__, __len__, and __getitem__.\n",
        "\n",
        "https://github.com/bomri/SlowFast/blob/master/slowfast/datasets/loader.py\n",
        "\n",
        "https://github.com/bomri/SlowFast/blob/master/slowfast/datasets/ava_dataset.py\n",
        "\n",
        "https://github.com/HHTseng/video-classification/blob/master/ResNetCRNN_varylength/UCF101_ResNetCRNN_varlen.py\n",
        "https://www.ai-contentlab.com/2023/01/video-classification-is-important-task.html\n",
        "\n",
        "https://discuss.pytorch.org/t/how-upload-sequence-of-image-on-video-classification/24865/13\n",
        "\n",
        "Оптический поток\n",
        "https://docs.opencv.org/2.4/modules/video/doc/motion_analysis_and_object_tracking.html\n",
        "\n",
        "Skeleton\n",
        "https://www.fireblazeaischool.in/blogs/human-pose-estimation-using-opencv/\n",
        "\n",
        "Could not run 'aten::mkldnn_rnn_layer' with arguments from the 'CUDA' backend.Could not run 'aten::mkldnn_rnn_layer' with arguments from the 'CUDA' backend."
      ]
    },
    {
      "cell_type": "code",
      "source": [
        "from google.colab import drive\n",
        "drive.mount('/content/drive')\n",
        "\n",
        "#https://www.deeplearningwizard.com/deep_learning/practical_pytorch/pytorch_lstm_neuralnetwork/"
      ],
      "metadata": {
        "id": "6DN79SU6dysG",
        "colab": {
          "base_uri": "https://localhost:8080/"
        },
        "outputId": "61d1f901-73c3-45b3-8625-8da2010f5234"
      },
      "execution_count": null,
      "outputs": [
        {
          "output_type": "stream",
          "name": "stdout",
          "text": [
            "Drive already mounted at /content/drive; to attempt to forcibly remount, call drive.mount(\"/content/drive\", force_remount=True).\n"
          ]
        }
      ]
    },
    {
      "cell_type": "markdown",
      "metadata": {
        "id": "sL0Mup8ev7iQ"
      },
      "source": [
        "# Data Loader\n",
        "\n",
        "Добавить нормализацию!!!"
      ]
    },
    {
      "cell_type": "code",
      "execution_count": null,
      "metadata": {
        "execution": {
          "iopub.execute_input": "2023-11-26T11:35:28.573559Z",
          "iopub.status.busy": "2023-11-26T11:35:28.572634Z",
          "iopub.status.idle": "2023-11-26T11:35:36.692632Z",
          "shell.execute_reply": "2023-11-26T11:35:36.691964Z",
          "shell.execute_reply.started": "2023-11-26T11:35:28.573515Z"
        },
        "tags": [],
        "id": "qTvIwuv-dZLY"
      },
      "outputs": [],
      "source": [
        "import os\n",
        "import cv2\n",
        "import torch\n",
        "import torch.optim as optim\n",
        "import torch.nn.functional as F\n",
        "from torch import nn\n",
        "from torch.utils.data import DataLoader\n",
        "import numpy as np\n",
        "import pandas as pd\n",
        "from torch.utils.data import Dataset\n",
        "import torchvision"
      ]
    },
    {
      "cell_type": "code",
      "execution_count": null,
      "metadata": {
        "execution": {
          "iopub.execute_input": "2023-11-26T11:35:36.694323Z",
          "iopub.status.busy": "2023-11-26T11:35:36.693770Z",
          "iopub.status.idle": "2023-11-26T11:35:36.721609Z",
          "shell.execute_reply": "2023-11-26T11:35:36.720894Z",
          "shell.execute_reply.started": "2023-11-26T11:35:36.694293Z"
        },
        "id": "sIrdshw322FY",
        "tags": []
      },
      "outputs": [],
      "source": [
        "class BasicVideoDataset(Dataset):\n",
        "    def __init__(self, labels_list, video_dir, IMG_SIZE, labels_df):\n",
        "        self.video_labels = labels_df\n",
        "        self.video_dir = video_dir\n",
        "        self.IMG_SIZE = IMG_SIZE\n",
        "        self.frames_cnt = max(self.video_labels['end']-self.video_labels['begin'])\n",
        "        self.labels_list = labels_list\n",
        "\n",
        "    def __len__(self):\n",
        "        return len(self.video_labels)\n",
        "\n",
        "    def crop_center_square(self, frame):\n",
        "        y, x = frame.shape[0:2]\n",
        "        min_dim = min(y, x)\n",
        "        start_x = (x // 2) - (min_dim // 2)\n",
        "        start_y = (y // 2) - (min_dim // 2)\n",
        "        return frame[start_y : start_y + min_dim, start_x : start_x + min_dim]\n",
        "\n",
        "\n",
        "    def load_video(self, path, begin, end, max_frames=0):\n",
        "        cap = cv2.VideoCapture(path)\n",
        "        frames = []\n",
        "\n",
        "        frame_index=begin\n",
        "        try:\n",
        "            while True and frame_index <= end:\n",
        "                cap.set(cv2.CAP_PROP_POS_FRAMES, frame_index)\n",
        "                ret, frame = cap.read()\n",
        "                if not ret:\n",
        "                    break\n",
        "                frame = self.crop_center_square(frame)\n",
        "                frame = cv2.resize(frame, (self.IMG_SIZE, self.IMG_SIZE))\n",
        "                frame = cv2.cvtColor(frame, cv2.COLOR_BGR2GRAY) # convert to grayscale\n",
        "                #frame = Concatenate()([frame, frame, frame])\n",
        "                #frame = np.dstack((frame, frame, frame))\n",
        "                frame = np.array([frame, frame, frame])\n",
        "                frames.append(frame)\n",
        "                frame_index+=1\n",
        "\n",
        "                if len(frames) == max_frames:\n",
        "                    break\n",
        "        finally:\n",
        "            cap.release()\n",
        "        return torch.from_numpy(np.array(frames))\n",
        "\n",
        "    def __getitem__(self, idx):\n",
        "        filename  = os.path.join(self.video_dir, self.video_labels.iloc[idx]['attachment_id']+\".mp4\")\n",
        "        label = self.video_labels.iloc[idx]['text']\n",
        "        begin = self.video_labels.iloc[idx]['begin']\n",
        "        end = self.video_labels.iloc[idx]['end']\n",
        "        frames = self.load_video(filename, begin, end) # Загрузка видео!!!!\n",
        "        return frames/255, torch.from_numpy(np.array([1 if l==label else 0 for l in labels_list])) #labels_list.index(label)"
      ]
    },
    {
      "cell_type": "markdown",
      "metadata": {
        "id": "cVrvMnpp5OjJ"
      },
      "source": [
        "* The __init__ function is run once when instantiating the Dataset object. We initialize the directory containing the images, the annotations file, and both transforms (covered in more detail in the next section).\n",
        "* The __len__ function returns the number of samples in our dataset.\n",
        "* The __getitem__ function loads and returns a sample from the dataset at the given index idx."
      ]
    },
    {
      "cell_type": "code",
      "execution_count": null,
      "metadata": {
        "execution": {
          "iopub.execute_input": "2023-11-26T11:35:28.405553Z",
          "iopub.status.busy": "2023-11-26T11:35:28.404854Z",
          "iopub.status.idle": "2023-11-26T11:35:28.440438Z",
          "shell.execute_reply": "2023-11-26T11:35:28.439807Z",
          "shell.execute_reply.started": "2023-11-26T11:35:28.405517Z"
        },
        "id": "YV2k0jav3Ygd",
        "tags": []
      },
      "outputs": [],
      "source": [
        "annotations_file = \"/content/drive/MyDrive/slovo/SLOVO_DF_SHORT.tsv\" #\"/home/jupyter/mnt/s3/rsl-videos/slovo/slovo_annotations/SLOVO_DATAFRAME.tsv\"\n",
        "video_dir = \"/content/drive/MyDrive/slovo/animals\" #\"/home/jupyter/mnt/s3/rsl-videos/slovo/slovo\"\n",
        "IMG_SIZE = 224\n",
        "BATCH_SIZE = 1\n",
        "LEARNING_RATE = 0.0001\n",
        "NUM_EPOCHS = 10\n",
        "model_type = 'rnn'"
      ]
    },
    {
      "cell_type": "code",
      "execution_count": null,
      "metadata": {
        "execution": {
          "iopub.execute_input": "2023-11-26T11:35:36.752144Z",
          "iopub.status.busy": "2023-11-26T11:35:36.750983Z",
          "iopub.status.idle": "2023-11-26T11:35:37.000128Z",
          "shell.execute_reply": "2023-11-26T11:35:36.999467Z",
          "shell.execute_reply.started": "2023-11-26T11:35:36.752104Z"
        },
        "tags": [],
        "colab": {
          "base_uri": "https://localhost:8080/",
          "height": 206
        },
        "id": "m3-e2jpbdZLi",
        "outputId": "ca553939-281f-4fba-83d9-2b0d63af5bda"
      },
      "outputs": [
        {
          "output_type": "execute_result",
          "data": {
            "text/plain": [
              "   Unnamed: 0                         attachment_id     text  begin  end  \\\n",
              "0           0  8f4d3be1-3a09-4d76-94ef-f8b1dbfa686b  пингвин     29  100   \n",
              "1           1  4f9e3cb5-b9de-48bc-a51d-875b8fea8e10  пингвин     21   79   \n",
              "2           2  1de7b5b0-ce08-419f-aeed-e7e480da953d  пингвин      7   59   \n",
              "3           3  72f70640-6931-4f57-8c72-a68e48032cfb  пингвин     22   87   \n",
              "4           4  6933a0f1-a0e1-48d8-91be-b445ca6c80ce  пингвин      9   64   \n",
              "\n",
              "   group_rank dataset  \n",
              "0           1   train  \n",
              "1           2   train  \n",
              "2           3   train  \n",
              "3           4   train  \n",
              "4           5   train  "
            ],
            "text/html": [
              "\n",
              "  <div id=\"df-e967b0ea-6cfc-44d1-86c4-4d5aba7bfd44\" class=\"colab-df-container\">\n",
              "    <div>\n",
              "<style scoped>\n",
              "    .dataframe tbody tr th:only-of-type {\n",
              "        vertical-align: middle;\n",
              "    }\n",
              "\n",
              "    .dataframe tbody tr th {\n",
              "        vertical-align: top;\n",
              "    }\n",
              "\n",
              "    .dataframe thead th {\n",
              "        text-align: right;\n",
              "    }\n",
              "</style>\n",
              "<table border=\"1\" class=\"dataframe\">\n",
              "  <thead>\n",
              "    <tr style=\"text-align: right;\">\n",
              "      <th></th>\n",
              "      <th>Unnamed: 0</th>\n",
              "      <th>attachment_id</th>\n",
              "      <th>text</th>\n",
              "      <th>begin</th>\n",
              "      <th>end</th>\n",
              "      <th>group_rank</th>\n",
              "      <th>dataset</th>\n",
              "    </tr>\n",
              "  </thead>\n",
              "  <tbody>\n",
              "    <tr>\n",
              "      <th>0</th>\n",
              "      <td>0</td>\n",
              "      <td>8f4d3be1-3a09-4d76-94ef-f8b1dbfa686b</td>\n",
              "      <td>пингвин</td>\n",
              "      <td>29</td>\n",
              "      <td>100</td>\n",
              "      <td>1</td>\n",
              "      <td>train</td>\n",
              "    </tr>\n",
              "    <tr>\n",
              "      <th>1</th>\n",
              "      <td>1</td>\n",
              "      <td>4f9e3cb5-b9de-48bc-a51d-875b8fea8e10</td>\n",
              "      <td>пингвин</td>\n",
              "      <td>21</td>\n",
              "      <td>79</td>\n",
              "      <td>2</td>\n",
              "      <td>train</td>\n",
              "    </tr>\n",
              "    <tr>\n",
              "      <th>2</th>\n",
              "      <td>2</td>\n",
              "      <td>1de7b5b0-ce08-419f-aeed-e7e480da953d</td>\n",
              "      <td>пингвин</td>\n",
              "      <td>7</td>\n",
              "      <td>59</td>\n",
              "      <td>3</td>\n",
              "      <td>train</td>\n",
              "    </tr>\n",
              "    <tr>\n",
              "      <th>3</th>\n",
              "      <td>3</td>\n",
              "      <td>72f70640-6931-4f57-8c72-a68e48032cfb</td>\n",
              "      <td>пингвин</td>\n",
              "      <td>22</td>\n",
              "      <td>87</td>\n",
              "      <td>4</td>\n",
              "      <td>train</td>\n",
              "    </tr>\n",
              "    <tr>\n",
              "      <th>4</th>\n",
              "      <td>4</td>\n",
              "      <td>6933a0f1-a0e1-48d8-91be-b445ca6c80ce</td>\n",
              "      <td>пингвин</td>\n",
              "      <td>9</td>\n",
              "      <td>64</td>\n",
              "      <td>5</td>\n",
              "      <td>train</td>\n",
              "    </tr>\n",
              "  </tbody>\n",
              "</table>\n",
              "</div>\n",
              "    <div class=\"colab-df-buttons\">\n",
              "\n",
              "  <div class=\"colab-df-container\">\n",
              "    <button class=\"colab-df-convert\" onclick=\"convertToInteractive('df-e967b0ea-6cfc-44d1-86c4-4d5aba7bfd44')\"\n",
              "            title=\"Convert this dataframe to an interactive table.\"\n",
              "            style=\"display:none;\">\n",
              "\n",
              "  <svg xmlns=\"http://www.w3.org/2000/svg\" height=\"24px\" viewBox=\"0 -960 960 960\">\n",
              "    <path d=\"M120-120v-720h720v720H120Zm60-500h600v-160H180v160Zm220 220h160v-160H400v160Zm0 220h160v-160H400v160ZM180-400h160v-160H180v160Zm440 0h160v-160H620v160ZM180-180h160v-160H180v160Zm440 0h160v-160H620v160Z\"/>\n",
              "  </svg>\n",
              "    </button>\n",
              "\n",
              "  <style>\n",
              "    .colab-df-container {\n",
              "      display:flex;\n",
              "      gap: 12px;\n",
              "    }\n",
              "\n",
              "    .colab-df-convert {\n",
              "      background-color: #E8F0FE;\n",
              "      border: none;\n",
              "      border-radius: 50%;\n",
              "      cursor: pointer;\n",
              "      display: none;\n",
              "      fill: #1967D2;\n",
              "      height: 32px;\n",
              "      padding: 0 0 0 0;\n",
              "      width: 32px;\n",
              "    }\n",
              "\n",
              "    .colab-df-convert:hover {\n",
              "      background-color: #E2EBFA;\n",
              "      box-shadow: 0px 1px 2px rgba(60, 64, 67, 0.3), 0px 1px 3px 1px rgba(60, 64, 67, 0.15);\n",
              "      fill: #174EA6;\n",
              "    }\n",
              "\n",
              "    .colab-df-buttons div {\n",
              "      margin-bottom: 4px;\n",
              "    }\n",
              "\n",
              "    [theme=dark] .colab-df-convert {\n",
              "      background-color: #3B4455;\n",
              "      fill: #D2E3FC;\n",
              "    }\n",
              "\n",
              "    [theme=dark] .colab-df-convert:hover {\n",
              "      background-color: #434B5C;\n",
              "      box-shadow: 0px 1px 3px 1px rgba(0, 0, 0, 0.15);\n",
              "      filter: drop-shadow(0px 1px 2px rgba(0, 0, 0, 0.3));\n",
              "      fill: #FFFFFF;\n",
              "    }\n",
              "  </style>\n",
              "\n",
              "    <script>\n",
              "      const buttonEl =\n",
              "        document.querySelector('#df-e967b0ea-6cfc-44d1-86c4-4d5aba7bfd44 button.colab-df-convert');\n",
              "      buttonEl.style.display =\n",
              "        google.colab.kernel.accessAllowed ? 'block' : 'none';\n",
              "\n",
              "      async function convertToInteractive(key) {\n",
              "        const element = document.querySelector('#df-e967b0ea-6cfc-44d1-86c4-4d5aba7bfd44');\n",
              "        const dataTable =\n",
              "          await google.colab.kernel.invokeFunction('convertToInteractive',\n",
              "                                                    [key], {});\n",
              "        if (!dataTable) return;\n",
              "\n",
              "        const docLinkHtml = 'Like what you see? Visit the ' +\n",
              "          '<a target=\"_blank\" href=https://colab.research.google.com/notebooks/data_table.ipynb>data table notebook</a>'\n",
              "          + ' to learn more about interactive tables.';\n",
              "        element.innerHTML = '';\n",
              "        dataTable['output_type'] = 'display_data';\n",
              "        await google.colab.output.renderOutput(dataTable, element);\n",
              "        const docLink = document.createElement('div');\n",
              "        docLink.innerHTML = docLinkHtml;\n",
              "        element.appendChild(docLink);\n",
              "      }\n",
              "    </script>\n",
              "  </div>\n",
              "\n",
              "\n",
              "<div id=\"df-381e5b96-dd83-4d7f-8b57-7b993e370ffe\">\n",
              "  <button class=\"colab-df-quickchart\" onclick=\"quickchart('df-381e5b96-dd83-4d7f-8b57-7b993e370ffe')\"\n",
              "            title=\"Suggest charts\"\n",
              "            style=\"display:none;\">\n",
              "\n",
              "<svg xmlns=\"http://www.w3.org/2000/svg\" height=\"24px\"viewBox=\"0 0 24 24\"\n",
              "     width=\"24px\">\n",
              "    <g>\n",
              "        <path d=\"M19 3H5c-1.1 0-2 .9-2 2v14c0 1.1.9 2 2 2h14c1.1 0 2-.9 2-2V5c0-1.1-.9-2-2-2zM9 17H7v-7h2v7zm4 0h-2V7h2v10zm4 0h-2v-4h2v4z\"/>\n",
              "    </g>\n",
              "</svg>\n",
              "  </button>\n",
              "\n",
              "<style>\n",
              "  .colab-df-quickchart {\n",
              "      --bg-color: #E8F0FE;\n",
              "      --fill-color: #1967D2;\n",
              "      --hover-bg-color: #E2EBFA;\n",
              "      --hover-fill-color: #174EA6;\n",
              "      --disabled-fill-color: #AAA;\n",
              "      --disabled-bg-color: #DDD;\n",
              "  }\n",
              "\n",
              "  [theme=dark] .colab-df-quickchart {\n",
              "      --bg-color: #3B4455;\n",
              "      --fill-color: #D2E3FC;\n",
              "      --hover-bg-color: #434B5C;\n",
              "      --hover-fill-color: #FFFFFF;\n",
              "      --disabled-bg-color: #3B4455;\n",
              "      --disabled-fill-color: #666;\n",
              "  }\n",
              "\n",
              "  .colab-df-quickchart {\n",
              "    background-color: var(--bg-color);\n",
              "    border: none;\n",
              "    border-radius: 50%;\n",
              "    cursor: pointer;\n",
              "    display: none;\n",
              "    fill: var(--fill-color);\n",
              "    height: 32px;\n",
              "    padding: 0;\n",
              "    width: 32px;\n",
              "  }\n",
              "\n",
              "  .colab-df-quickchart:hover {\n",
              "    background-color: var(--hover-bg-color);\n",
              "    box-shadow: 0 1px 2px rgba(60, 64, 67, 0.3), 0 1px 3px 1px rgba(60, 64, 67, 0.15);\n",
              "    fill: var(--button-hover-fill-color);\n",
              "  }\n",
              "\n",
              "  .colab-df-quickchart-complete:disabled,\n",
              "  .colab-df-quickchart-complete:disabled:hover {\n",
              "    background-color: var(--disabled-bg-color);\n",
              "    fill: var(--disabled-fill-color);\n",
              "    box-shadow: none;\n",
              "  }\n",
              "\n",
              "  .colab-df-spinner {\n",
              "    border: 2px solid var(--fill-color);\n",
              "    border-color: transparent;\n",
              "    border-bottom-color: var(--fill-color);\n",
              "    animation:\n",
              "      spin 1s steps(1) infinite;\n",
              "  }\n",
              "\n",
              "  @keyframes spin {\n",
              "    0% {\n",
              "      border-color: transparent;\n",
              "      border-bottom-color: var(--fill-color);\n",
              "      border-left-color: var(--fill-color);\n",
              "    }\n",
              "    20% {\n",
              "      border-color: transparent;\n",
              "      border-left-color: var(--fill-color);\n",
              "      border-top-color: var(--fill-color);\n",
              "    }\n",
              "    30% {\n",
              "      border-color: transparent;\n",
              "      border-left-color: var(--fill-color);\n",
              "      border-top-color: var(--fill-color);\n",
              "      border-right-color: var(--fill-color);\n",
              "    }\n",
              "    40% {\n",
              "      border-color: transparent;\n",
              "      border-right-color: var(--fill-color);\n",
              "      border-top-color: var(--fill-color);\n",
              "    }\n",
              "    60% {\n",
              "      border-color: transparent;\n",
              "      border-right-color: var(--fill-color);\n",
              "    }\n",
              "    80% {\n",
              "      border-color: transparent;\n",
              "      border-right-color: var(--fill-color);\n",
              "      border-bottom-color: var(--fill-color);\n",
              "    }\n",
              "    90% {\n",
              "      border-color: transparent;\n",
              "      border-bottom-color: var(--fill-color);\n",
              "    }\n",
              "  }\n",
              "</style>\n",
              "\n",
              "  <script>\n",
              "    async function quickchart(key) {\n",
              "      const quickchartButtonEl =\n",
              "        document.querySelector('#' + key + ' button');\n",
              "      quickchartButtonEl.disabled = true;  // To prevent multiple clicks.\n",
              "      quickchartButtonEl.classList.add('colab-df-spinner');\n",
              "      try {\n",
              "        const charts = await google.colab.kernel.invokeFunction(\n",
              "            'suggestCharts', [key], {});\n",
              "      } catch (error) {\n",
              "        console.error('Error during call to suggestCharts:', error);\n",
              "      }\n",
              "      quickchartButtonEl.classList.remove('colab-df-spinner');\n",
              "      quickchartButtonEl.classList.add('colab-df-quickchart-complete');\n",
              "    }\n",
              "    (() => {\n",
              "      let quickchartButtonEl =\n",
              "        document.querySelector('#df-381e5b96-dd83-4d7f-8b57-7b993e370ffe button');\n",
              "      quickchartButtonEl.style.display =\n",
              "        google.colab.kernel.accessAllowed ? 'block' : 'none';\n",
              "    })();\n",
              "  </script>\n",
              "</div>\n",
              "    </div>\n",
              "  </div>\n"
            ]
          },
          "metadata": {},
          "execution_count": 5
        }
      ],
      "source": [
        "video_labels = pd.read_csv(annotations_file, sep='\\t')\n",
        "video_labels['group_rank'] = video_labels.groupby(['text']).cumcount()+1;\n",
        "video_labels['dataset'] = np.where(video_labels['group_rank']<16,'train', np.where(video_labels['group_rank']<19,'val', 'test'))\n",
        "video_labels.head(5)"
      ]
    },
    {
      "cell_type": "code",
      "execution_count": null,
      "metadata": {
        "execution": {
          "iopub.execute_input": "2023-11-26T11:35:37.001691Z",
          "iopub.status.busy": "2023-11-26T11:35:37.001112Z",
          "iopub.status.idle": "2023-11-26T11:35:37.034029Z",
          "shell.execute_reply": "2023-11-26T11:35:37.033192Z",
          "shell.execute_reply.started": "2023-11-26T11:35:37.001654Z"
        },
        "tags": [],
        "colab": {
          "base_uri": "https://localhost:8080/"
        },
        "id": "jol0UK_1dZLn",
        "outputId": "b37b8aa0-3d93-4a0c-f3d5-32a604d8be7d"
      },
      "outputs": [
        {
          "output_type": "execute_result",
          "data": {
            "text/plain": [
              "['пингвин', 'жираф', 'лягушка', 'бегемот', 'козел']"
            ]
          },
          "metadata": {},
          "execution_count": 6
        }
      ],
      "source": [
        "labels_list = list(video_labels['text'].unique())\n",
        "num_classes = len(labels_list)\n",
        "labels_list[:5]"
      ]
    },
    {
      "cell_type": "code",
      "execution_count": null,
      "metadata": {
        "execution": {
          "iopub.execute_input": "2023-11-26T11:35:37.036075Z",
          "iopub.status.busy": "2023-11-26T11:35:37.035070Z",
          "iopub.status.idle": "2023-11-26T11:35:37.057704Z",
          "shell.execute_reply": "2023-11-26T11:35:37.056966Z",
          "shell.execute_reply.started": "2023-11-26T11:35:37.036023Z"
        },
        "id": "qxL6umLs3sf6",
        "tags": []
      },
      "outputs": [],
      "source": [
        "training_data = BasicVideoDataset(labels_list=labels_list, video_dir=video_dir, IMG_SIZE=IMG_SIZE, labels_df=video_labels[video_labels['dataset']=='train'])\n",
        "val_data = BasicVideoDataset(labels_list=labels_list, video_dir=video_dir, IMG_SIZE=IMG_SIZE, labels_df=video_labels[video_labels['dataset']=='val'])\n",
        "test_data = BasicVideoDataset(labels_list=labels_list, video_dir=video_dir, IMG_SIZE=IMG_SIZE, labels_df=video_labels[video_labels['dataset']=='test'])"
      ]
    },
    {
      "cell_type": "code",
      "execution_count": null,
      "metadata": {
        "execution": {
          "iopub.execute_input": "2023-11-26T11:35:37.083140Z",
          "iopub.status.busy": "2023-11-26T11:35:37.082396Z",
          "iopub.status.idle": "2023-11-26T11:35:37.099393Z",
          "shell.execute_reply": "2023-11-26T11:35:37.098553Z",
          "shell.execute_reply.started": "2023-11-26T11:35:37.083089Z"
        },
        "id": "hnSV_-Ne1546",
        "tags": []
      },
      "outputs": [],
      "source": [
        "train_dataloader = DataLoader(training_data, batch_size=BATCH_SIZE, shuffle=True)\n",
        "val_dataloader = DataLoader(val_data, batch_size=BATCH_SIZE, shuffle=True)\n",
        "test_dataloader = DataLoader(test_data, batch_size=BATCH_SIZE, shuffle=True)"
      ]
    },
    {
      "cell_type": "code",
      "execution_count": null,
      "metadata": {
        "execution": {
          "iopub.execute_input": "2023-11-26T11:36:14.292079Z",
          "iopub.status.busy": "2023-11-26T11:36:14.291378Z",
          "iopub.status.idle": "2023-11-26T11:36:20.133272Z",
          "shell.execute_reply": "2023-11-26T11:36:20.132599Z",
          "shell.execute_reply.started": "2023-11-26T11:36:14.292037Z"
        },
        "id": "2tXhCmMqGyzE",
        "tags": []
      },
      "outputs": [],
      "source": [
        "frames, label = next(iter(train_dataloader))"
      ]
    },
    {
      "cell_type": "code",
      "execution_count": null,
      "metadata": {
        "colab": {
          "base_uri": "https://localhost:8080/"
        },
        "execution": {
          "iopub.execute_input": "2023-11-26T08:50:56.729446Z",
          "iopub.status.busy": "2023-11-26T08:50:56.728967Z",
          "iopub.status.idle": "2023-11-26T08:50:56.746260Z",
          "shell.execute_reply": "2023-11-26T08:50:56.745645Z",
          "shell.execute_reply.started": "2023-11-26T08:50:56.729413Z"
        },
        "id": "QcDbpBd-MPaj",
        "outputId": "53bc2d90-76db-4811-ed5b-57207aba9232",
        "tags": []
      },
      "outputs": [
        {
          "output_type": "execute_result",
          "data": {
            "text/plain": [
              "torch.Size([1, 54, 3, 224, 224])"
            ]
          },
          "metadata": {},
          "execution_count": 10
        }
      ],
      "source": [
        "frames.shape\n",
        "# torch.Size([1, ts, 3, 224, 224])\n",
        "# torch.Size([1, 54, 3, 224, 224])\n",
        "# torch.Size([1, 93, 3, 224, 224])"
      ]
    },
    {
      "cell_type": "code",
      "execution_count": null,
      "metadata": {
        "colab": {
          "base_uri": "https://localhost:8080/"
        },
        "execution": {
          "iopub.execute_input": "2023-11-26T08:50:56.747756Z",
          "iopub.status.busy": "2023-11-26T08:50:56.747343Z",
          "iopub.status.idle": "2023-11-26T08:50:56.761454Z",
          "shell.execute_reply": "2023-11-26T08:50:56.760695Z",
          "shell.execute_reply.started": "2023-11-26T08:50:56.747722Z"
        },
        "id": "C0hlodXXZFuT",
        "outputId": "8a214071-cebe-472f-c89e-35be918dbb9e",
        "tags": []
      },
      "outputs": [
        {
          "output_type": "execute_result",
          "data": {
            "text/plain": [
              "torch.Size([1, 30])"
            ]
          },
          "metadata": {},
          "execution_count": 11
        }
      ],
      "source": [
        "label.shape"
      ]
    },
    {
      "cell_type": "code",
      "execution_count": null,
      "metadata": {
        "colab": {
          "base_uri": "https://localhost:8080/"
        },
        "execution": {
          "iopub.execute_input": "2023-11-26T08:50:56.762981Z",
          "iopub.status.busy": "2023-11-26T08:50:56.762525Z",
          "iopub.status.idle": "2023-11-26T08:50:56.791453Z",
          "shell.execute_reply": "2023-11-26T08:50:56.790668Z",
          "shell.execute_reply.started": "2023-11-26T08:50:56.762943Z"
        },
        "id": "hi5CjrTn4Ubj",
        "outputId": "0d7d83d2-f0d4-438e-bbe0-6bbf0737a21c"
      },
      "outputs": [
        {
          "output_type": "execute_result",
          "data": {
            "text/plain": [
              "torch.float32"
            ]
          },
          "metadata": {},
          "execution_count": 12
        }
      ],
      "source": [
        "frames.dtype"
      ]
    },
    {
      "cell_type": "code",
      "execution_count": null,
      "metadata": {
        "colab": {
          "base_uri": "https://localhost:8080/"
        },
        "execution": {
          "iopub.execute_input": "2023-11-26T08:50:56.793253Z",
          "iopub.status.busy": "2023-11-26T08:50:56.792477Z",
          "iopub.status.idle": "2023-11-26T08:50:56.819472Z",
          "shell.execute_reply": "2023-11-26T08:50:56.818723Z",
          "shell.execute_reply.started": "2023-11-26T08:50:56.793203Z"
        },
        "id": "XBzp4HYL4Wlz",
        "outputId": "41b26be2-e318-41d8-fe7a-9666dc69b7c8"
      },
      "outputs": [
        {
          "output_type": "execute_result",
          "data": {
            "text/plain": [
              "torch.int64"
            ]
          },
          "metadata": {},
          "execution_count": 13
        }
      ],
      "source": [
        "label.dtype"
      ]
    },
    {
      "cell_type": "markdown",
      "metadata": {
        "id": "EX1m2LKowAuk"
      },
      "source": [
        "# Model"
      ]
    },
    {
      "cell_type": "markdown",
      "metadata": {
        "id": "0HiYtNyjbNtb"
      },
      "source": [
        "https://programming.vip/docs/pytorch-basics-14-video-classification-based-on-pytorch.html"
      ]
    },
    {
      "cell_type": "markdown",
      "metadata": {
        "id": "Nr7LRDHRv55x"
      },
      "source": [
        "We want to be able to train our model on a hardware accelerator like the GPU or MPS, if available. Let’s check to see if torch.cuda or torch.backends.mps are available, otherwise we use the CPU."
      ]
    },
    {
      "cell_type": "code",
      "execution_count": null,
      "metadata": {
        "colab": {
          "base_uri": "https://localhost:8080/"
        },
        "execution": {
          "iopub.execute_input": "2023-11-26T08:50:56.821263Z",
          "iopub.status.busy": "2023-11-26T08:50:56.820468Z",
          "iopub.status.idle": "2023-11-26T08:50:56.902045Z",
          "shell.execute_reply": "2023-11-26T08:50:56.901380Z",
          "shell.execute_reply.started": "2023-11-26T08:50:56.821230Z"
        },
        "id": "RsWcBZEhvtCc",
        "outputId": "d623b7d7-9450-4d2b-c270-d64dd61b1b1f"
      },
      "outputs": [
        {
          "output_type": "stream",
          "name": "stdout",
          "text": [
            "Using cpu device\n"
          ]
        }
      ],
      "source": [
        "device = (\n",
        "    \"cuda\"\n",
        "    if torch.cuda.is_available()\n",
        "    else \"mps\"\n",
        "    if torch.backends.mps.is_available()\n",
        "    else \"cpu\"\n",
        ")\n",
        "print(f\"Using {device} device\")\n",
        "#device = \"cuda\""
      ]
    },
    {
      "cell_type": "code",
      "execution_count": null,
      "metadata": {
        "execution": {
          "iopub.execute_input": "2023-11-26T08:50:56.903500Z",
          "iopub.status.busy": "2023-11-26T08:50:56.903067Z",
          "iopub.status.idle": "2023-11-26T08:50:58.202972Z",
          "shell.execute_reply": "2023-11-26T08:50:58.202078Z",
          "shell.execute_reply.started": "2023-11-26T08:50:56.903466Z"
        },
        "tags": [],
        "id": "ejtUpQ2gdZLx"
      },
      "outputs": [],
      "source": [
        "class Identity(nn.Module):\n",
        "\tdef __init__(self):\n",
        "\t\tsuper(Identity,self).__init__()\n",
        "\tdef forward(self,x):\n",
        "\t\treturn x\n",
        "\n",
        "from torchvision.models import ResNet18_Weights\n",
        "\n",
        "baseModel=torchvision.models.resnet18(weights=ResNet18_Weights.DEFAULT)\n",
        "num_features=baseModel.fc.in_features\n",
        "baseModel.fc=Identity()"
      ]
    },
    {
      "cell_type": "markdown",
      "metadata": {
        "id": "KHVNfZyewF4d"
      },
      "source": [
        "We define our neural network by subclassing nn.Module, and initialize the neural network layers in __init__. Every nn.Module subclass implements the operations on input data in the forward method."
      ]
    },
    {
      "cell_type": "code",
      "execution_count": null,
      "metadata": {
        "execution": {
          "iopub.execute_input": "2023-11-26T08:50:58.204466Z",
          "iopub.status.busy": "2023-11-26T08:50:58.204016Z",
          "iopub.status.idle": "2023-11-26T08:50:58.234101Z",
          "shell.execute_reply": "2023-11-26T08:50:58.233434Z",
          "shell.execute_reply.started": "2023-11-26T08:50:58.204429Z"
        },
        "tags": [],
        "colab": {
          "base_uri": "https://localhost:8080/"
        },
        "id": "hgFjbRzddZLy",
        "outputId": "e413ed8f-f932-4103-b5b7-386cbd35c3c7"
      },
      "outputs": [
        {
          "output_type": "execute_result",
          "data": {
            "text/plain": [
              "torch.Size([1, 5, 3, 224, 224])"
            ]
          },
          "metadata": {},
          "execution_count": 16
        }
      ],
      "source": [
        "test_item_shape = [1, 5, 3, 224, 224]\n",
        "test_item = torch.randn(test_item_shape)\n",
        "test_item.shape"
      ]
    },
    {
      "cell_type": "code",
      "execution_count": null,
      "metadata": {
        "execution": {
          "iopub.execute_input": "2023-11-26T08:50:58.235487Z",
          "iopub.status.busy": "2023-11-26T08:50:58.235084Z",
          "iopub.status.idle": "2023-11-26T08:50:58.275656Z",
          "shell.execute_reply": "2023-11-26T08:50:58.274968Z",
          "shell.execute_reply.started": "2023-11-26T08:50:58.235453Z"
        },
        "tags": [],
        "colab": {
          "base_uri": "https://localhost:8080/"
        },
        "id": "_6C1in01dZLz",
        "outputId": "0a7df3b6-a14d-46e3-fdf2-e55299b72ca3"
      },
      "outputs": [
        {
          "output_type": "execute_result",
          "data": {
            "text/plain": [
              "torch.Size([1, 3, 224, 224])"
            ]
          },
          "metadata": {},
          "execution_count": 17
        }
      ],
      "source": [
        "(test_item[:,4].shape)"
      ]
    },
    {
      "cell_type": "code",
      "execution_count": null,
      "metadata": {
        "execution": {
          "iopub.execute_input": "2023-11-26T08:50:58.277056Z",
          "iopub.status.busy": "2023-11-26T08:50:58.276635Z",
          "iopub.status.idle": "2023-11-26T08:50:58.793095Z",
          "shell.execute_reply": "2023-11-26T08:50:58.792311Z",
          "shell.execute_reply.started": "2023-11-26T08:50:58.277024Z"
        },
        "tags": [],
        "colab": {
          "base_uri": "https://localhost:8080/"
        },
        "id": "WfFvi-y1dZL0",
        "outputId": "162927a6-05da-42b8-d424-9b705e0b1198"
      },
      "outputs": [
        {
          "output_type": "stream",
          "name": "stdout",
          "text": [
            "torch.Size([5, 1, 512])\n"
          ]
        }
      ],
      "source": [
        "b_z,ts,c,h,w=test_item.shape\n",
        "embeds = torch.empty(size=(ts, 1, num_features))\n",
        "for idx in range(ts):\n",
        "    embeds[idx] = (baseModel(test_item[:,idx]))\n",
        "print(embeds.shape)"
      ]
    },
    {
      "cell_type": "code",
      "execution_count": null,
      "metadata": {
        "execution": {
          "iopub.execute_input": "2023-11-26T08:50:58.849800Z",
          "iopub.status.busy": "2023-11-26T08:50:58.849360Z",
          "iopub.status.idle": "2023-11-26T08:50:58.985184Z",
          "shell.execute_reply": "2023-11-26T08:50:58.984390Z",
          "shell.execute_reply.started": "2023-11-26T08:50:58.849768Z"
        },
        "tags": [],
        "colab": {
          "base_uri": "https://localhost:8080/"
        },
        "id": "otNoomBRdZL1",
        "outputId": "3ef842f3-9624-4130-e8ad-68c2469afee6"
      },
      "outputs": [
        {
          "output_type": "execute_result",
          "data": {
            "text/plain": [
              "torch.Size([5, 1, 10])"
            ]
          },
          "metadata": {},
          "execution_count": 19
        }
      ],
      "source": [
        "lstm=nn.LSTM(num_features,10,1)\n",
        "lstm_out, _ = lstm(embeds)\n",
        "lstm_out.shape"
      ]
    },
    {
      "cell_type": "code",
      "execution_count": null,
      "metadata": {
        "execution": {
          "iopub.execute_input": "2023-11-26T08:54:30.365291Z",
          "iopub.status.busy": "2023-11-26T08:54:30.364227Z",
          "iopub.status.idle": "2023-11-26T08:54:30.586112Z",
          "shell.execute_reply": "2023-11-26T08:54:30.585333Z",
          "shell.execute_reply.started": "2023-11-26T08:54:30.365250Z"
        },
        "id": "T9VvWB81wGiQ",
        "tags": [],
        "colab": {
          "base_uri": "https://localhost:8080/"
        },
        "outputId": "66e43fed-50d5-403c-bbe1-f3c7736e06e3"
      },
      "outputs": [
        {
          "output_type": "stream",
          "name": "stdout",
          "text": [
            "Resnet18Rnn(\n",
            "  (baseModel): ResNet(\n",
            "    (conv1): Conv2d(3, 64, kernel_size=(7, 7), stride=(2, 2), padding=(3, 3), bias=False)\n",
            "    (bn1): BatchNorm2d(64, eps=1e-05, momentum=0.1, affine=True, track_running_stats=True)\n",
            "    (relu): ReLU(inplace=True)\n",
            "    (maxpool): MaxPool2d(kernel_size=3, stride=2, padding=1, dilation=1, ceil_mode=False)\n",
            "    (layer1): Sequential(\n",
            "      (0): BasicBlock(\n",
            "        (conv1): Conv2d(64, 64, kernel_size=(3, 3), stride=(1, 1), padding=(1, 1), bias=False)\n",
            "        (bn1): BatchNorm2d(64, eps=1e-05, momentum=0.1, affine=True, track_running_stats=True)\n",
            "        (relu): ReLU(inplace=True)\n",
            "        (conv2): Conv2d(64, 64, kernel_size=(3, 3), stride=(1, 1), padding=(1, 1), bias=False)\n",
            "        (bn2): BatchNorm2d(64, eps=1e-05, momentum=0.1, affine=True, track_running_stats=True)\n",
            "      )\n",
            "      (1): BasicBlock(\n",
            "        (conv1): Conv2d(64, 64, kernel_size=(3, 3), stride=(1, 1), padding=(1, 1), bias=False)\n",
            "        (bn1): BatchNorm2d(64, eps=1e-05, momentum=0.1, affine=True, track_running_stats=True)\n",
            "        (relu): ReLU(inplace=True)\n",
            "        (conv2): Conv2d(64, 64, kernel_size=(3, 3), stride=(1, 1), padding=(1, 1), bias=False)\n",
            "        (bn2): BatchNorm2d(64, eps=1e-05, momentum=0.1, affine=True, track_running_stats=True)\n",
            "      )\n",
            "    )\n",
            "    (layer2): Sequential(\n",
            "      (0): BasicBlock(\n",
            "        (conv1): Conv2d(64, 128, kernel_size=(3, 3), stride=(2, 2), padding=(1, 1), bias=False)\n",
            "        (bn1): BatchNorm2d(128, eps=1e-05, momentum=0.1, affine=True, track_running_stats=True)\n",
            "        (relu): ReLU(inplace=True)\n",
            "        (conv2): Conv2d(128, 128, kernel_size=(3, 3), stride=(1, 1), padding=(1, 1), bias=False)\n",
            "        (bn2): BatchNorm2d(128, eps=1e-05, momentum=0.1, affine=True, track_running_stats=True)\n",
            "        (downsample): Sequential(\n",
            "          (0): Conv2d(64, 128, kernel_size=(1, 1), stride=(2, 2), bias=False)\n",
            "          (1): BatchNorm2d(128, eps=1e-05, momentum=0.1, affine=True, track_running_stats=True)\n",
            "        )\n",
            "      )\n",
            "      (1): BasicBlock(\n",
            "        (conv1): Conv2d(128, 128, kernel_size=(3, 3), stride=(1, 1), padding=(1, 1), bias=False)\n",
            "        (bn1): BatchNorm2d(128, eps=1e-05, momentum=0.1, affine=True, track_running_stats=True)\n",
            "        (relu): ReLU(inplace=True)\n",
            "        (conv2): Conv2d(128, 128, kernel_size=(3, 3), stride=(1, 1), padding=(1, 1), bias=False)\n",
            "        (bn2): BatchNorm2d(128, eps=1e-05, momentum=0.1, affine=True, track_running_stats=True)\n",
            "      )\n",
            "    )\n",
            "    (layer3): Sequential(\n",
            "      (0): BasicBlock(\n",
            "        (conv1): Conv2d(128, 256, kernel_size=(3, 3), stride=(2, 2), padding=(1, 1), bias=False)\n",
            "        (bn1): BatchNorm2d(256, eps=1e-05, momentum=0.1, affine=True, track_running_stats=True)\n",
            "        (relu): ReLU(inplace=True)\n",
            "        (conv2): Conv2d(256, 256, kernel_size=(3, 3), stride=(1, 1), padding=(1, 1), bias=False)\n",
            "        (bn2): BatchNorm2d(256, eps=1e-05, momentum=0.1, affine=True, track_running_stats=True)\n",
            "        (downsample): Sequential(\n",
            "          (0): Conv2d(128, 256, kernel_size=(1, 1), stride=(2, 2), bias=False)\n",
            "          (1): BatchNorm2d(256, eps=1e-05, momentum=0.1, affine=True, track_running_stats=True)\n",
            "        )\n",
            "      )\n",
            "      (1): BasicBlock(\n",
            "        (conv1): Conv2d(256, 256, kernel_size=(3, 3), stride=(1, 1), padding=(1, 1), bias=False)\n",
            "        (bn1): BatchNorm2d(256, eps=1e-05, momentum=0.1, affine=True, track_running_stats=True)\n",
            "        (relu): ReLU(inplace=True)\n",
            "        (conv2): Conv2d(256, 256, kernel_size=(3, 3), stride=(1, 1), padding=(1, 1), bias=False)\n",
            "        (bn2): BatchNorm2d(256, eps=1e-05, momentum=0.1, affine=True, track_running_stats=True)\n",
            "      )\n",
            "    )\n",
            "    (layer4): Sequential(\n",
            "      (0): BasicBlock(\n",
            "        (conv1): Conv2d(256, 512, kernel_size=(3, 3), stride=(2, 2), padding=(1, 1), bias=False)\n",
            "        (bn1): BatchNorm2d(512, eps=1e-05, momentum=0.1, affine=True, track_running_stats=True)\n",
            "        (relu): ReLU(inplace=True)\n",
            "        (conv2): Conv2d(512, 512, kernel_size=(3, 3), stride=(1, 1), padding=(1, 1), bias=False)\n",
            "        (bn2): BatchNorm2d(512, eps=1e-05, momentum=0.1, affine=True, track_running_stats=True)\n",
            "        (downsample): Sequential(\n",
            "          (0): Conv2d(256, 512, kernel_size=(1, 1), stride=(2, 2), bias=False)\n",
            "          (1): BatchNorm2d(512, eps=1e-05, momentum=0.1, affine=True, track_running_stats=True)\n",
            "        )\n",
            "      )\n",
            "      (1): BasicBlock(\n",
            "        (conv1): Conv2d(512, 512, kernel_size=(3, 3), stride=(1, 1), padding=(1, 1), bias=False)\n",
            "        (bn1): BatchNorm2d(512, eps=1e-05, momentum=0.1, affine=True, track_running_stats=True)\n",
            "        (relu): ReLU(inplace=True)\n",
            "        (conv2): Conv2d(512, 512, kernel_size=(3, 3), stride=(1, 1), padding=(1, 1), bias=False)\n",
            "        (bn2): BatchNorm2d(512, eps=1e-05, momentum=0.1, affine=True, track_running_stats=True)\n",
            "      )\n",
            "    )\n",
            "    (avgpool): AdaptiveAvgPool2d(output_size=(1, 1))\n",
            "    (fc): Identity()\n",
            "  )\n",
            "  (dropout): Dropout(p=0.1, inplace=False)\n",
            "  (lstm): LSTM(512, 100)\n",
            "  (fc1): Linear(in_features=100, out_features=30, bias=True)\n",
            "  (sigmoid): Sigmoid()\n",
            ")\n"
          ]
        }
      ],
      "source": [
        "class Resnet18Rnn(nn.Module):\n",
        "    def __init__(self,params_model):\n",
        "        super(Resnet18Rnn,self).__init__()\n",
        "        num_classes=params_model[\"num_classes\"]\n",
        "        dr_rate=params_model[\"dr_rate\"]\n",
        "        weights=params_model[\"weights\"]\n",
        "        rnn_hidden_size=params_model[\"rnn_hidden_size\"]\n",
        "        rnn_num_layers=params_model[\"rnn_num_layers\"]\n",
        "        baseModel=torchvision.models.resnet18(weights=weights)\n",
        "        for param in baseModel.parameters():\n",
        "          param.requires_grad = False\n",
        "        num_features=baseModel.fc.in_features\n",
        "        baseModel.fc=Identity() # baseModel.classifier[-1]=Identity() # обнуляем fully connected layer\n",
        "        #baseModel.fc = nn.Linear(num_features, num_features)\n",
        "        self.baseModel=baseModel\n",
        "        self.dropout=nn.Dropout(dr_rate)\n",
        "        self.lstm=nn.LSTM(num_features,rnn_hidden_size,rnn_num_layers)\n",
        "        self.fc1=nn.Linear(rnn_hidden_size, num_classes)\n",
        "        self.sigmoid = nn.Sigmoid()\n",
        "\n",
        "    def forward(self, frames):\n",
        "        b_z,ts,c,h,w=frames.shape\n",
        "        embeds = torch.empty(size=(ts, 1, num_features))\n",
        "        for idx in range(ts):\n",
        "            embeds[idx] = (self.baseModel(frames[:,idx]))\n",
        "        embeds = embeds.to(frames.device)\n",
        "        lstm_out,(hidden_state,cell_state) = self.lstm(embeds)\n",
        "        #hidden = torch.cat((hidden_state[-2,:,:], hidden_state[-1,:,:]), dim = 1) # Concatenating the final forward and backward hidden states\n",
        "        vocab_space = self.fc1(hidden_state[-1,:,:])\n",
        "        #lstm_out, _ = self.lstm(embeds)\n",
        "        #vocab_space = self.fc1(lstm_out.view(ts, -1))\n",
        "        vocab_scores =self.sigmoid(vocab_space)\n",
        "        return vocab_space\n",
        "params_model={\n",
        "\t\t\"num_classes\":num_classes,\n",
        "\t\t\"dr_rate\":0.1,\n",
        "\t\t\"weights\":ResNet18_Weights.DEFAULT,\n",
        "\t\t\"rnn_num_layers\":1,\n",
        "\t\t\"rnn_hidden_size\":100,\n",
        "\t\t}\n",
        "\n",
        "model=Resnet18Rnn(params_model)\n",
        "\n",
        "# Print model\n",
        "print(model)"
      ]
    },
    {
      "cell_type": "code",
      "source": [
        "for name, param in model.named_parameters():\n",
        "        if param.requires_grad:\n",
        "            print(name,':',param.size())"
      ],
      "metadata": {
        "id": "mjbFBdGQRwcE",
        "colab": {
          "base_uri": "https://localhost:8080/"
        },
        "outputId": "d584b838-4bfc-40d7-968b-7ba3b6def5ac"
      },
      "execution_count": null,
      "outputs": [
        {
          "output_type": "stream",
          "name": "stdout",
          "text": [
            "lstm.weight_ih_l0 : torch.Size([400, 512])\n",
            "lstm.weight_hh_l0 : torch.Size([400, 100])\n",
            "lstm.bias_ih_l0 : torch.Size([400])\n",
            "lstm.bias_hh_l0 : torch.Size([400])\n",
            "fc1.weight : torch.Size([30, 100])\n",
            "fc1.bias : torch.Size([30])\n"
          ]
        }
      ]
    },
    {
      "cell_type": "code",
      "source": [
        "label_scores = model(frames)\n",
        "label_scores.shape"
      ],
      "metadata": {
        "colab": {
          "base_uri": "https://localhost:8080/"
        },
        "id": "99ECj8Fa_x5m",
        "outputId": "1a337286-e997-44e8-d7e2-ec741838020c"
      },
      "execution_count": null,
      "outputs": [
        {
          "output_type": "execute_result",
          "data": {
            "text/plain": [
              "torch.Size([1, 30])"
            ]
          },
          "metadata": {},
          "execution_count": 22
        }
      ]
    },
    {
      "cell_type": "markdown",
      "metadata": {
        "id": "m5EtY3yGw36S"
      },
      "source": [
        "To use the model, we pass it the input data. This executes the model’s forward, along with some background operations. Do not call model.forward() directly!\n",
        "\n",
        "Calling the model on the input returns a 2-dimensional tensor with dim=0 corresponding to each output of 10 raw predicted values for each class, and dim=1 corresponding to the individual values of each output. We get the prediction probabilities by passing it through an instance of the nn.Softmax module."
      ]
    },
    {
      "cell_type": "markdown",
      "metadata": {
        "id": "ddoo_ipAXFNN"
      },
      "source": [
        "# Обучение"
      ]
    },
    {
      "cell_type": "code",
      "source": [
        "# See what the scores are after training\n",
        "def check_some_predictions(n):\n",
        "  for i in range(n):\n",
        "    test_dl = iter(train_dataloader)\n",
        "    with torch.no_grad():\n",
        "      frames, label = next(test_dl)\n",
        "      frames=frames.to(device)\n",
        "      label=label.to(device)\n",
        "      true_label = labels_list[(label[-1] == max(label[-1])).nonzero(as_tuple=False)[0][0].item()]\n",
        "      label_scores = model(frames)\n",
        "      pred_label = labels_list[(label_scores[-1] == max(label_scores[-1])).nonzero(as_tuple=False)[0][0].item()]\n",
        "      print(f\"Label: {true_label}; Predicted: {pred_label}; Max_score: {max(label_scores[-1])}; Frames shape: {frames.shape}\")"
      ],
      "metadata": {
        "id": "Z9WoTrNBVApz"
      },
      "execution_count": null,
      "outputs": []
    },
    {
      "cell_type": "code",
      "source": [
        "# Before training\n",
        "check_some_predictions(5)"
      ],
      "metadata": {
        "colab": {
          "base_uri": "https://localhost:8080/"
        },
        "id": "OaCKnI0-VX1e",
        "outputId": "0aaaed3f-e5f3-483f-916a-dbbbbc1ff573"
      },
      "execution_count": null,
      "outputs": [
        {
          "output_type": "stream",
          "name": "stdout",
          "text": [
            "Label: лягушка; Predicted: дельфин; Max_score: 0.486176073551178; Frames shape: torch.Size([1, 76, 3, 224, 224])\n",
            "Label: бегемот; Predicted: дельфин; Max_score: 0.4786910116672516; Frames shape: torch.Size([1, 56, 3, 224, 224])\n",
            "Label: козел; Predicted: дельфин; Max_score: 0.5088500380516052; Frames shape: torch.Size([1, 50, 3, 224, 224])\n",
            "Label: лось; Predicted: дельфин; Max_score: 0.5024398565292358; Frames shape: torch.Size([1, 45, 3, 224, 224])\n",
            "Label: динозавр; Predicted: дельфин; Max_score: 0.49851155281066895; Frames shape: torch.Size([1, 63, 3, 224, 224])\n"
          ]
        }
      ]
    },
    {
      "cell_type": "code",
      "source": [
        "# m = nn.LogSoftmax(dim=1)\n",
        "# test_loss = nn.NLLLoss()\n",
        "# # input is of size N x C = 3 x 5\n",
        "# test_input = torch.randn(3, 5, requires_grad=True)\n",
        "# print(test_input)\n",
        "# print(m(test_input))\n",
        "# # each element in target has to have 0 <= value < C\n",
        "# test_target = torch.tensor([1, 0, 4])\n",
        "# print(test_target)\n",
        "# test_output = test_loss(m(test_input), test_target)\n",
        "# print(test_output)"
      ],
      "metadata": {
        "id": "1Q8Mt0m73r2a"
      },
      "execution_count": null,
      "outputs": []
    },
    {
      "cell_type": "code",
      "source": [
        "# hidden_state = torch.Tensor([[[-0.3384, -0.1265,  0.3567, -0.6371,  0.1451, -0.1924,  0.1628,\n",
        "#            0.2251, -0.3264, -0.5475, -0.2158,  0.0917,  0.0525, -0.1003,\n",
        "#           -0.0601, -0.2791,  0.0443,  0.5774,  0.0596,  0.0711, -0.7636,\n",
        "#            0.0071, -0.4925, -0.3220,  0.0986,  0.3968, -0.0641, -0.3004,\n",
        "#           -0.0459,  0.4087, -0.2239,  0.1176,  0.1774, -0.0835,  0.3158,\n",
        "#           -0.2811, -0.0243, -0.0141,  0.3228,  0.2082, -0.0114, -0.2839,\n",
        "#            0.5712,  0.8170, -0.4613,  0.1820, -0.0657,  0.0526, -0.4621,\n",
        "#           -0.6268,  0.7839, -0.5987, -0.1115, -0.4608, -0.1647, -0.0189,\n",
        "#            0.3420,  0.3679, -0.2579,  0.5030,  0.1194,  0.1415,  0.1913,\n",
        "#           -0.7466, -0.0555, -0.0983,  0.4235,  0.0553,  0.0920,  0.2105,\n",
        "#           -0.3041,  0.2723,  0.2214,  0.1893, -0.7795,  0.0991,  0.0176,\n",
        "#            0.4491,  0.2184,  0.0711,  0.1846,  0.1492,  0.2785,  0.1911,\n",
        "#           -0.4886,  0.2761, -0.6493, -0.4522,  0.7365, -0.4166, -0.3030,\n",
        "#            0.2727, -0.2115, -0.2878, -0.0615,  0.7614,  0.0398,  0.1143,\n",
        "#           -0.4373, -0.3712]]])\n",
        "\n",
        "\n",
        "#torch.cat((hidden_state[-1,:,:], hidden_state[-1,:,:]), dim = 1)"
      ],
      "metadata": {
        "id": "YTZVMtHe4350"
      },
      "execution_count": null,
      "outputs": []
    },
    {
      "cell_type": "code",
      "source": [
        "previous_epochs = 0\n"
      ],
      "metadata": {
        "id": "O96ybkNIXRDf"
      },
      "execution_count": null,
      "outputs": []
    },
    {
      "cell_type": "code",
      "execution_count": null,
      "metadata": {
        "execution": {
          "iopub.execute_input": "2023-11-26T08:54:33.947776Z",
          "iopub.status.busy": "2023-11-26T08:54:33.946828Z",
          "iopub.status.idle": "2023-11-26T10:40:33.682285Z"
        },
        "tags": [],
        "id": "2ajI8dYmdZL2",
        "colab": {
          "base_uri": "https://localhost:8080/",
          "height": 279
        },
        "outputId": "34a1fec3-b733-416b-d396-79d9de64f180"
      },
      "outputs": [
        {
          "metadata": {
            "tags": null
          },
          "name": "stdout",
          "output_type": "stream",
          "text": [
            "epoch: 1:"
          ]
        },
        {
          "output_type": "stream",
          "name": "stderr",
          "text": [
            "Train Epoch:1/16 train_loss:-87.6863: 100%|██████████| 450/450 [1:36:11<00:00, 12.83s/it]\n",
            "Test Epoch1/16:   0%|          | 0/60 [00:13<?, ?it/s]\n"
          ]
        },
        {
          "output_type": "error",
          "ename": "AttributeError",
          "evalue": "ignored",
          "traceback": [
            "\u001b[0;31m---------------------------------------------------------------------------\u001b[0m",
            "\u001b[0;31mAttributeError\u001b[0m                            Traceback (most recent call last)",
            "\u001b[0;32m<ipython-input-28-55008fe24971>\u001b[0m in \u001b[0;36m<cell line: 12>\u001b[0;34m()\u001b[0m\n\u001b[1;32m     44\u001b[0m             \u001b[0;32mwith\u001b[0m \u001b[0mtorch\u001b[0m\u001b[0;34m.\u001b[0m\u001b[0mno_grad\u001b[0m\u001b[0;34m(\u001b[0m\u001b[0;34m)\u001b[0m\u001b[0;34m:\u001b[0m\u001b[0;34m\u001b[0m\u001b[0;34m\u001b[0m\u001b[0m\n\u001b[1;32m     45\u001b[0m               \u001b[0moutput\u001b[0m \u001b[0;34m=\u001b[0m \u001b[0mmodel\u001b[0m\u001b[0;34m(\u001b[0m\u001b[0mframes\u001b[0m\u001b[0;34m)\u001b[0m\u001b[0;34m\u001b[0m\u001b[0;34m\u001b[0m\u001b[0m\n\u001b[0;32m---> 46\u001b[0;31m             \u001b[0mtotal_loss\u001b[0m\u001b[0;34m.\u001b[0m\u001b[0mappend\u001b[0m\u001b[0;34m(\u001b[0m\u001b[0mloss_function\u001b[0m\u001b[0;34m(\u001b[0m\u001b[0moutput\u001b[0m\u001b[0;34m,\u001b[0m \u001b[0mtorch\u001b[0m\u001b[0;34m.\u001b[0m\u001b[0margmax\u001b[0m\u001b[0;34m(\u001b[0m\u001b[0mlabel\u001b[0m\u001b[0;34m,\u001b[0m \u001b[0;36m1\u001b[0m\u001b[0;34m)\u001b[0m\u001b[0;34m)\u001b[0m\u001b[0;34m.\u001b[0m\u001b[0mitem\u001b[0m\u001b[0;34m(\u001b[0m\u001b[0;34m)\u001b[0m\u001b[0;34m)\u001b[0m\u001b[0;34m\u001b[0m\u001b[0;34m\u001b[0m\u001b[0m\n\u001b[0m\u001b[1;32m     47\u001b[0m             \u001b[0mtest_loss\u001b[0m \u001b[0;34m+=\u001b[0m \u001b[0mloss_function\u001b[0m\u001b[0;34m(\u001b[0m\u001b[0moutput\u001b[0m\u001b[0;34m,\u001b[0m \u001b[0mtorch\u001b[0m\u001b[0;34m.\u001b[0m\u001b[0margmax\u001b[0m\u001b[0;34m(\u001b[0m\u001b[0mlabel\u001b[0m\u001b[0;34m,\u001b[0m \u001b[0;36m1\u001b[0m\u001b[0;34m)\u001b[0m\u001b[0;34m)\u001b[0m\u001b[0;34m.\u001b[0m\u001b[0mitem\u001b[0m\u001b[0;34m(\u001b[0m\u001b[0;34m)\u001b[0m  \u001b[0;31m# sum up batch loss\u001b[0m\u001b[0;34m\u001b[0m\u001b[0;34m\u001b[0m\u001b[0m\n\u001b[1;32m     48\u001b[0m             \u001b[0mpred\u001b[0m \u001b[0;34m=\u001b[0m \u001b[0mtorch\u001b[0m\u001b[0;34m.\u001b[0m\u001b[0margmax\u001b[0m\u001b[0;34m(\u001b[0m\u001b[0moutput\u001b[0m\u001b[0;34m,\u001b[0m \u001b[0;36m1\u001b[0m\u001b[0;34m)\u001b[0m\u001b[0;34m\u001b[0m\u001b[0;34m\u001b[0m\u001b[0m\n",
            "\u001b[0;31mAttributeError\u001b[0m: 'int' object has no attribute 'append'"
          ]
        }
      ],
      "source": [
        "from tqdm import tqdm\n",
        "\n",
        "loss_function = nn.NLLLoss()\n",
        "optimizer = optim.SGD(model.parameters(), lr=0.001)\n",
        "model = model.to(device)\n",
        "epoches = previous_epochs+15\n",
        "save = True\n",
        "best_acc = 0.033\n",
        "\n",
        "losses = []\n",
        "test_losses = []\n",
        "for epoch in range(previous_epochs+1, epoches+1, 1):\n",
        "    print(f\"epoch: {epoch}\", end=\":\")\n",
        "    total_loss = []\n",
        "    train_dl = iter(train_dataloader)\n",
        "    pbar = tqdm(train_dataloader, desc=f'Train Epoch{epoch}/{epoches}')\n",
        "    # train\n",
        "    for frames, label in pbar:\n",
        "        if frames.shape==torch.Size([1, 0]):\n",
        "            pass\n",
        "        else:\n",
        "            frames=frames.to(device)\n",
        "            label=label.to(device)\n",
        "            model.zero_grad()\n",
        "            label_scores = model(frames)\n",
        "            loss = loss_function(label_scores, torch.argmax(label, 1))\n",
        "            loss.backward()\n",
        "            optimizer.step()\n",
        "            total_loss.append(loss.item())\n",
        "            pbar.set_description(f'Train Epoch:{epoch}/{epoches} train_loss:{round(np.mean(total_loss), 4)}')\n",
        "    losses.append(np.mean(total_loss))\n",
        "    #test\n",
        "    total_loss = []\n",
        "    test_loss = 0\n",
        "    correct = 0\n",
        "    total = 0\n",
        "    pbar = tqdm(test_dataloader, desc=f'Test Epoch{epoch}/{epoches}', mininterval=0.3)\n",
        "    for frames, label in pbar:\n",
        "      if frames.shape==torch.Size([1, 0]):\n",
        "            pass\n",
        "      else:\n",
        "            frames=frames.to(device)\n",
        "            label=label.to(device)\n",
        "            with torch.no_grad():\n",
        "              output = model(frames)\n",
        "            total_loss.append(loss_function(output, torch.argmax(label, 1)).item())\n",
        "            test_loss += loss_function(output, torch.argmax(label, 1)).item()  # sum up batch loss\n",
        "            pred = torch.argmax(output, 1)\n",
        "            correct += (pred == torch.argmax(label, 1)).sum().float()\n",
        "            total += len(label)\n",
        "            predict_acc = correct / total\n",
        "            pbar.set_description(f'Test Epoch:{epoch}/{epoches} acc:{predict_acc:.3f}')\n",
        "    test_losses.append(np.mean(total_loss))\n",
        "    if save and predict_acc > best_acc:\n",
        "      best_acc = predict_acc\n",
        "      torch.save({\n",
        "                'epoch': epoch,\n",
        "                'model_state_dict': model.state_dict(),\n",
        "                'optimizer_state_dict': optimizer.state_dict(),\n",
        "                'loss': round(np.mean(total_loss), 2)\n",
        "            },\n",
        "                \"/content/drive/MyDrive/slovo/weights\" + f'/Resnet18_LSTM-Epoch-{epoch}-Test_acc-{best_acc:.3f}.pth')\n",
        "    check_some_predictions(5)"
      ]
    },
    {
      "cell_type": "code",
      "source": [
        "#test\n",
        "total_loss = 0\n",
        "test_loss = 0\n",
        "correct = 0\n",
        "total_loss = []\n",
        "pbar = tqdm(test_dataloader, desc=f'Test Epoch{epoch}/{epoches}', mininterval=0.3)\n",
        "for frames, label in pbar:\n",
        "  if frames.shape==torch.Size([1, 0]):\n",
        "        pass\n",
        "  else:\n",
        "        frames=frames.to(device)\n",
        "        label=label.to(device)\n",
        "        with torch.no_grad():\n",
        "          output = model(frames)\n",
        "        total_loss.append(loss_function(output, torch.argmax(label, 1)).item())\n",
        "        test_loss += loss_function(output, torch.argmax(label, 1)).item()  # sum up batch loss\n",
        "        pred = torch.argmax(output, 1)\n",
        "        correct += (pred == torch.argmax(label, 1)).sum().float()\n",
        "        total += len(label)\n",
        "        predict_acc = correct / total\n",
        "        pbar.set_description(f'Test Epoch:{epoch}/{epoches} acc:{predict_acc:.3f}')\n",
        "test_losses.append(np.mean(total_loss))\n",
        "if save and predict_acc > best_acc:\n",
        "  best_acc = predict_acc\n",
        "  torch.save({\n",
        "            'epoch': epoch,\n",
        "            'model_state_dict': model.state_dict(),\n",
        "            'optimizer_state_dict': optimizer.state_dict(),\n",
        "            'loss': round(np.mean(total_loss), 2)\n",
        "        },\n",
        "            \"/content/drive/MyDrive/slovo/weights\" + f'/Resnet18_LSTM-Epoch-{epoch}-Test_acc-{best_acc:.3f}.pth')\n",
        "check_some_predictions(5)"
      ],
      "metadata": {
        "colab": {
          "base_uri": "https://localhost:8080/"
        },
        "id": "4PtAbI-txgsu",
        "outputId": "a3a3a32c-618b-4502-c9ee-a099e0d7974c"
      },
      "execution_count": null,
      "outputs": [
        {
          "output_type": "stream",
          "name": "stderr",
          "text": [
            "Test Epoch:1/16 acc:0.033: 100%|██████████| 60/60 [13:34<00:00, 13.58s/it]\n"
          ]
        },
        {
          "output_type": "stream",
          "name": "stdout",
          "text": [
            "Label: лев; Predicted: дельфин; Max_score: 0.9107490181922913; Frames shape: torch.Size([1, 64, 3, 224, 224])\n",
            "Label: лебедь; Predicted: дельфин; Max_score: 0.8992813229560852; Frames shape: torch.Size([1, 70, 3, 224, 224])\n",
            "Label: бегемот; Predicted: дельфин; Max_score: 0.9192471504211426; Frames shape: torch.Size([1, 60, 3, 224, 224])\n",
            "Label: тигр; Predicted: дельфин; Max_score: 0.9049146771430969; Frames shape: torch.Size([1, 41, 3, 224, 224])\n",
            "Label: слон; Predicted: дельфин; Max_score: 0.9085675477981567; Frames shape: torch.Size([1, 50, 3, 224, 224])\n"
          ]
        }
      ]
    },
    {
      "cell_type": "code",
      "source": [
        "for epoch in range(previous_epochs+2, epoches+1, 1):\n",
        "    print(f\"epoch: {epoch}\", end=\":\")\n",
        "    total_loss = []\n",
        "    train_dl = iter(train_dataloader)\n",
        "    pbar = tqdm(train_dataloader, desc=f'Train Epoch{epoch}/{epoches}')\n",
        "    # train\n",
        "    for frames, label in pbar:\n",
        "        if frames.shape==torch.Size([1, 0]):\n",
        "            pass\n",
        "        else:\n",
        "            frames=frames.to(device)\n",
        "            label=label.to(device)\n",
        "            model.zero_grad()\n",
        "            label_scores = model(frames)\n",
        "            loss = loss_function(label_scores, torch.argmax(label, 1))\n",
        "            loss.backward()\n",
        "            optimizer.step()\n",
        "            total_loss.append(loss.item())\n",
        "            pbar.set_description(f'Train Epoch:{epoch}/{epoches} train_loss:{round(np.mean(total_loss), 4)}')\n",
        "    losses.append(np.mean(total_loss))\n",
        "    #test\n",
        "    total_loss = []\n",
        "    test_loss = 0\n",
        "    correct = 0\n",
        "    total = 0\n",
        "    pbar = tqdm(test_dataloader, desc=f'Test Epoch{epoch}/{epoches}', mininterval=0.3)\n",
        "    for frames, label in pbar:\n",
        "      if frames.shape==torch.Size([1, 0]):\n",
        "            pass\n",
        "      else:\n",
        "            frames=frames.to(device)\n",
        "            label=label.to(device)\n",
        "            with torch.no_grad():\n",
        "              output = model(frames)\n",
        "            total_loss.append(loss_function(output, torch.argmax(label, 1)).item())\n",
        "            test_loss += loss_function(output, torch.argmax(label, 1)).item()  # sum up batch loss\n",
        "            pred = torch.argmax(output, 1)\n",
        "            correct += (pred == torch.argmax(label, 1)).sum().float()\n",
        "            total += len(label)\n",
        "            predict_acc = correct / total\n",
        "            pbar.set_description(f'Test Epoch:{epoch}/{epoches} acc:{predict_acc:.3f}')\n",
        "    test_losses.append(np.mean(total_loss))\n",
        "    if save and predict_acc > best_acc:\n",
        "      best_acc = predict_acc\n",
        "      torch.save({\n",
        "                'epoch': epoch,\n",
        "                'model_state_dict': model.state_dict(),\n",
        "                'optimizer_state_dict': optimizer.state_dict(),\n",
        "                'loss': round(np.mean(total_loss), 2)\n",
        "            },\n",
        "                \"/content/drive/MyDrive/slovo/weights\" + f'/Resnet18_LSTM-Epoch-{epoch}-Test_acc-{best_acc:.3f}.pth')\n",
        "    check_some_predictions(5)"
      ],
      "metadata": {
        "colab": {
          "base_uri": "https://localhost:8080/"
        },
        "id": "-mJRYrpY1sxP",
        "outputId": "99861328-c33f-4f6b-c3be-8f6e3fe05076"
      },
      "execution_count": null,
      "outputs": [
        {
          "metadata": {
            "tags": null
          },
          "name": "stdout",
          "output_type": "stream",
          "text": [
            "epoch: 2:"
          ]
        },
        {
          "output_type": "stream",
          "name": "stderr",
          "text": [
            "Train Epoch:2/16 train_loss:-0.5781: 100%|██████████| 450/450 [1:32:39<00:00, 12.35s/it]\n",
            "Test Epoch:2/16 acc:0.033: 100%|██████████| 60/60 [13:00<00:00, 13.01s/it]\n"
          ]
        },
        {
          "output_type": "stream",
          "name": "stdout",
          "text": [
            "Label: курица; Predicted: дельфин; Max_score: 1.4125105142593384; Frames shape: torch.Size([1, 47, 3, 224, 224])\n",
            "Label: слон; Predicted: дельфин; Max_score: 1.412015676498413; Frames shape: torch.Size([1, 82, 3, 224, 224])\n",
            "Label: пчела; Predicted: дельфин; Max_score: 1.4162449836730957; Frames shape: torch.Size([1, 48, 3, 224, 224])\n",
            "Label: жираф; Predicted: дельфин; Max_score: 1.4113614559173584; Frames shape: torch.Size([1, 47, 3, 224, 224])\n",
            "Label: обезьяна; Predicted: дельфин; Max_score: 1.4133634567260742; Frames shape: torch.Size([1, 46, 3, 224, 224])\n",
            "epoch: 3:"
          ]
        },
        {
          "output_type": "stream",
          "name": "stderr",
          "text": [
            "Train Epoch:3/16 train_loss:-0.9277:  45%|████▍     | 201/450 [40:05<54:22, 13.10s/it]  "
          ]
        }
      ]
    }
  ],
  "metadata": {
    "colab": {
      "provenance": []
    },
    "kernelspec": {
      "display_name": "Python 3",
      "name": "python3"
    },
    "language_info": {
      "codemirror_mode": {
        "name": "ipython",
        "version": 3
      },
      "file_extension": ".py",
      "mimetype": "text/x-python",
      "name": "python",
      "nbconvert_exporter": "python",
      "pygments_lexer": "ipython3",
      "version": "3.7.7"
    }
  },
  "nbformat": 4,
  "nbformat_minor": 0
}
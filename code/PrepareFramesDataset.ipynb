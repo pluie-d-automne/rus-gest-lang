{
 "cells": [
  {
   "cell_type": "markdown",
   "metadata": {
    "id": "1G3-oihH2rI-"
   },
   "source": [
    "# Grayscale 3D CNN"
   ]
  },
  {
   "cell_type": "code",
   "execution_count": 3,
   "metadata": {
    "colab": {
     "base_uri": "https://localhost:8080/"
    },
    "execution": {
     "iopub.execute_input": "2024-01-08T18:43:58.544020Z",
     "iopub.status.busy": "2024-01-08T18:43:58.543292Z",
     "iopub.status.idle": "2024-01-08T18:44:02.446665Z",
     "shell.execute_reply": "2024-01-08T18:44:02.445953Z",
     "shell.execute_reply.started": "2024-01-08T18:43:58.543976Z"
    },
    "id": "_jFgsCjqlvfk",
    "outputId": "b6f64198-ba28-45a1-af2c-f70b6e5ec8de",
    "tags": []
   },
   "outputs": [
    {
     "name": "stdout",
     "output_type": "stream",
     "text": [
      "Defaulting to user installation because normal site-packages is not writeable\n",
      "Requirement already satisfied: pip in /home/jupyter/.local/lib/python3.10/site-packages (23.3.2)\n"
     ]
    }
   ],
   "source": [
    "%%python3 -m pip install --upgrade pip\n"
   ]
  },
  {
   "cell_type": "code",
   "execution_count": 5,
   "metadata": {
    "execution": {
     "iopub.execute_input": "2024-01-08T18:45:15.663219Z",
     "iopub.status.busy": "2024-01-08T18:45:15.662547Z",
     "iopub.status.idle": "2024-01-08T18:45:31.827904Z",
     "shell.execute_reply": "2024-01-08T18:45:31.827157Z",
     "shell.execute_reply.started": "2024-01-08T18:45:15.663177Z"
    },
    "tags": []
   },
   "outputs": [
    {
     "name": "stdout",
     "output_type": "stream",
     "text": [
      "Defaulting to user installation because normal site-packages is not writeable\n",
      "Requirement already satisfied: tensorflow_docs in /home/jupyter/.local/lib/python3.10/site-packages (2023.5.24.56664)\n",
      "Requirement already satisfied: absl-py in /usr/local/lib/python3.10/dist-packages (from tensorflow_docs) (1.4.0)\n",
      "Requirement already satisfied: astor in /home/jupyter/.local/lib/python3.10/site-packages (from tensorflow_docs) (0.8.1)\n",
      "Requirement already satisfied: jinja2 in /kernel/lib/python3.10/site-packages (from tensorflow_docs) (3.1.2)\n",
      "Requirement already satisfied: nbformat in /kernel/lib/python3.10/site-packages (from tensorflow_docs) (5.9.2)\n",
      "Requirement already satisfied: protobuf>=3.12 in /usr/local/lib/python3.10/dist-packages (from tensorflow_docs) (3.20.3)\n",
      "Requirement already satisfied: pyyaml in /usr/local/lib/python3.10/dist-packages (from tensorflow_docs) (6.0.1)\n",
      "Requirement already satisfied: MarkupSafe>=2.0 in /kernel/lib/python3.10/site-packages (from jinja2->tensorflow_docs) (2.1.3)\n",
      "Requirement already satisfied: fastjsonschema in /kernel/lib/python3.10/site-packages (from nbformat->tensorflow_docs) (2.19.0)\n",
      "Requirement already satisfied: jsonschema>=2.6 in /kernel/lib/python3.10/site-packages (from nbformat->tensorflow_docs) (4.20.0)\n",
      "Requirement already satisfied: jupyter-core in /kernel/lib/python3.10/site-packages (from nbformat->tensorflow_docs) (5.5.0)\n",
      "Requirement already satisfied: traitlets>=5.1 in /kernel/lib/python3.10/site-packages (from nbformat->tensorflow_docs) (5.14.0)\n",
      "Requirement already satisfied: attrs>=22.2.0 in /kernel/lib/python3.10/site-packages (from jsonschema>=2.6->nbformat->tensorflow_docs) (23.1.0)\n",
      "Requirement already satisfied: jsonschema-specifications>=2023.03.6 in /kernel/lib/python3.10/site-packages (from jsonschema>=2.6->nbformat->tensorflow_docs) (2023.11.2)\n",
      "Requirement already satisfied: referencing>=0.28.4 in /kernel/lib/python3.10/site-packages (from jsonschema>=2.6->nbformat->tensorflow_docs) (0.31.1)\n",
      "Requirement already satisfied: rpds-py>=0.7.1 in /kernel/lib/python3.10/site-packages (from jsonschema>=2.6->nbformat->tensorflow_docs) (0.13.2)\n",
      "Requirement already satisfied: platformdirs>=2.5 in /kernel/lib/python3.10/site-packages (from jupyter-core->nbformat->tensorflow_docs) (4.0.0)\n",
      "Defaulting to user installation because normal site-packages is not writeable\n",
      "Requirement already satisfied: mediapipe in /home/jupyter/.local/lib/python3.10/site-packages (0.10.9)\n",
      "Requirement already satisfied: absl-py in /usr/local/lib/python3.10/dist-packages (from mediapipe) (1.4.0)\n",
      "Requirement already satisfied: attrs>=19.1.0 in /kernel/lib/python3.10/site-packages (from mediapipe) (23.1.0)\n",
      "Requirement already satisfied: flatbuffers>=2.0 in /usr/local/lib/python3.10/dist-packages (from mediapipe) (23.5.26)\n",
      "Requirement already satisfied: matplotlib in /usr/local/lib/python3.10/dist-packages (from mediapipe) (3.7.1)\n",
      "Requirement already satisfied: numpy in /usr/local/lib/python3.10/dist-packages (from mediapipe) (1.22.4)\n",
      "Requirement already satisfied: opencv-contrib-python in /usr/local/lib/python3.10/dist-packages (from mediapipe) (4.7.0.72)\n",
      "Requirement already satisfied: protobuf<4,>=3.11 in /usr/local/lib/python3.10/dist-packages (from mediapipe) (3.20.3)\n",
      "Requirement already satisfied: sounddevice>=0.4.4 in /home/jupyter/.local/lib/python3.10/site-packages (from mediapipe) (0.4.6)\n",
      "Requirement already satisfied: CFFI>=1.0 in /kernel/lib/python3.10/site-packages (from sounddevice>=0.4.4->mediapipe) (1.16.0)\n",
      "Requirement already satisfied: contourpy>=1.0.1 in /kernel/lib/python3.10/site-packages (from matplotlib->mediapipe) (1.2.0)\n",
      "Requirement already satisfied: cycler>=0.10 in /kernel/lib/python3.10/site-packages (from matplotlib->mediapipe) (0.12.1)\n",
      "Requirement already satisfied: fonttools>=4.22.0 in /kernel/lib/python3.10/site-packages (from matplotlib->mediapipe) (4.46.0)\n",
      "Requirement already satisfied: kiwisolver>=1.0.1 in /kernel/lib/python3.10/site-packages (from matplotlib->mediapipe) (1.4.5)\n",
      "Requirement already satisfied: packaging>=20.0 in /kernel/lib/python3.10/site-packages (from matplotlib->mediapipe) (23.2)\n",
      "Requirement already satisfied: pillow>=6.2.0 in /kernel/lib/python3.10/site-packages (from matplotlib->mediapipe) (10.1.0)\n",
      "Requirement already satisfied: pyparsing>=2.3.1 in /kernel/lib/python3.10/site-packages (from matplotlib->mediapipe) (2.4.7)\n",
      "Requirement already satisfied: python-dateutil>=2.7 in /kernel/lib/python3.10/site-packages (from matplotlib->mediapipe) (2.8.2)\n",
      "Requirement already satisfied: pycparser in /kernel/lib/python3.10/site-packages (from CFFI>=1.0->sounddevice>=0.4.4->mediapipe) (2.21)\n",
      "Requirement already satisfied: six>=1.5 in /kernel/lib/python3.10/site-packages (from python-dateutil>=2.7->matplotlib->mediapipe) (1.16.0)\n",
      "Defaulting to user installation because normal site-packages is not writeable\n",
      "Collecting opencv-python==4.8.0.76\n",
      "  Downloading opencv_python-4.8.0.76-cp37-abi3-manylinux_2_17_x86_64.manylinux2014_x86_64.whl.metadata (19 kB)\n",
      "Requirement already satisfied: numpy>=1.21.2 in /usr/local/lib/python3.10/dist-packages (from opencv-python==4.8.0.76) (1.22.4)\n",
      "Downloading opencv_python-4.8.0.76-cp37-abi3-manylinux_2_17_x86_64.manylinux2014_x86_64.whl (61.7 MB)\n",
      "\u001b[2K   \u001b[90m━━━━━━━━━━━━━━━━━━━━━━━━━━━━━━━━━━━━━━━━\u001b[0m \u001b[32m61.7/61.7 MB\u001b[0m \u001b[31m35.6 MB/s\u001b[0m eta \u001b[36m0:00:00\u001b[0m00:01\u001b[0m00:01\u001b[0m\n",
      "\u001b[?25hInstalling collected packages: opencv-python\n",
      "Successfully installed opencv-python-4.8.0.76\n"
     ]
    }
   ],
   "source": [
    "#%pip install tensorflow_docs --upgrade\n",
    "%pip install mediapipe=='0.10.9'\n",
    "%pip install opencv-python=='4.8.0.76'"
   ]
  },
  {
   "cell_type": "code",
   "execution_count": null,
   "metadata": {
    "colab": {
     "base_uri": "https://localhost:8080/"
    },
    "id": "ulomdOZBlA5L",
    "outputId": "0bd95d20-c8cf-4d6b-dd73-fa087f9885ec"
   },
   "outputs": [],
   "source": [
    "# from google.colab import drive\n",
    "# drive.mount('/content/drive')"
   ]
  },
  {
   "cell_type": "code",
   "execution_count": 1,
   "metadata": {
    "execution": {
     "iopub.execute_input": "2024-01-08T19:06:26.321557Z",
     "iopub.status.busy": "2024-01-08T19:06:26.320858Z",
     "iopub.status.idle": "2024-01-08T19:06:30.528257Z",
     "shell.execute_reply": "2024-01-08T19:06:30.527413Z",
     "shell.execute_reply.started": "2024-01-08T19:06:26.321520Z"
    },
    "id": "lpifKE69qnfz",
    "tags": []
   },
   "outputs": [
    {
     "name": "stderr",
     "output_type": "stream",
     "text": [
      "2024-01-08 19:06:26.717110: I tensorflow/core/util/port.cc:110] oneDNN custom operations are on. You may see slightly different numerical results due to floating-point round-off errors from different computation orders. To turn them off, set the environment variable `TF_ENABLE_ONEDNN_OPTS=0`.\n",
      "2024-01-08 19:06:26.766052: I tensorflow/core/platform/cpu_feature_guard.cc:182] This TensorFlow binary is optimized to use available CPU instructions in performance-critical operations.\n",
      "To enable the following instructions: AVX2 AVX512F AVX512_VNNI FMA, in other operations, rebuild TensorFlow with the appropriate compiler flags.\n",
      "2024-01-08 19:06:27.599019: W tensorflow/compiler/tf2tensorrt/utils/py_utils.cc:38] TF-TRT Warning: Could not find TensorRT\n"
     ]
    }
   ],
   "source": [
    "from utils import VideoDataset, validate_model, train_model, display_frames, display_learning_dynamic, classification_model_metrics"
   ]
  },
  {
   "cell_type": "code",
   "execution_count": 3,
   "metadata": {
    "execution": {
     "iopub.execute_input": "2024-01-08T19:07:06.010881Z",
     "iopub.status.busy": "2024-01-08T19:07:06.010221Z",
     "iopub.status.idle": "2024-01-08T19:07:06.037223Z",
     "shell.execute_reply": "2024-01-08T19:07:06.036405Z",
     "shell.execute_reply.started": "2024-01-08T19:07:06.010846Z"
    },
    "tags": []
   },
   "outputs": [
    {
     "data": {
      "text/plain": [
       "'4.8.0'"
      ]
     },
     "execution_count": 3,
     "metadata": {},
     "output_type": "execute_result"
    }
   ],
   "source": [
    "import cv2\n",
    "cv2.__version__"
   ]
  },
  {
   "cell_type": "code",
   "execution_count": 4,
   "metadata": {
    "execution": {
     "iopub.execute_input": "2024-01-08T19:07:11.489573Z",
     "iopub.status.busy": "2024-01-08T19:07:11.488692Z",
     "iopub.status.idle": "2024-01-08T19:07:11.500013Z",
     "shell.execute_reply": "2024-01-08T19:07:11.499383Z",
     "shell.execute_reply.started": "2024-01-08T19:07:11.489533Z"
    },
    "id": "xC1QowWE0dTi",
    "tags": []
   },
   "outputs": [],
   "source": [
    "import torch\n",
    "import numpy as np\n",
    "import pandas as pd\n",
    "from torch.utils.data import DataLoader\n",
    "import torchvision\n",
    "import torch.nn as nn\n",
    "import torch.optim as optim\n",
    "import torch.backends.cudnn as cudnn"
   ]
  },
  {
   "cell_type": "code",
   "execution_count": 5,
   "metadata": {
    "execution": {
     "iopub.execute_input": "2024-01-08T19:07:21.568034Z",
     "iopub.status.busy": "2024-01-08T19:07:21.567222Z",
     "iopub.status.idle": "2024-01-08T19:07:21.588266Z",
     "shell.execute_reply": "2024-01-08T19:07:21.587471Z",
     "shell.execute_reply.started": "2024-01-08T19:07:21.567995Z"
    },
    "id": "bfEDKVt1ffGk",
    "tags": []
   },
   "outputs": [],
   "source": [
    "use_cuda = True\n",
    "seed = 1\n",
    "\n",
    "train_batch_size = 1\n",
    "test_batch_size = 1\n",
    "val_batch_size = 1\n",
    "IMG_SIZE = 112\n",
    "\n",
    "limit_list = []\n",
    "\n",
    "min_frame_count = 25\n",
    "\n",
    "\n",
    "annotations_file = \"/home/jupyter/mnt/s3/rsl-videos/slovo/slovo_annotations/SLOVO_DATAFRAME.tsv\" # \"/content/drive/MyDrive/slovo/SLOVO_DATAFRAME.tsv\" #\n",
    "video_dir = \"/home/jupyter/mnt/s3/rsl-videos/slovo/slovo\" #\"/content/drive/MyDrive/slovo/slovo\" #\n",
    "\n",
    "face_detection_model = 'face_detection_yunet_2023mar.onnx'\n"
   ]
  },
  {
   "cell_type": "code",
   "execution_count": 6,
   "metadata": {
    "colab": {
     "base_uri": "https://localhost:8080/",
     "height": 206
    },
    "execution": {
     "iopub.execute_input": "2024-01-08T19:07:24.284569Z",
     "iopub.status.busy": "2024-01-08T19:07:24.283735Z",
     "iopub.status.idle": "2024-01-08T19:07:24.540419Z",
     "shell.execute_reply": "2024-01-08T19:07:24.539591Z",
     "shell.execute_reply.started": "2024-01-08T19:07:24.284528Z"
    },
    "id": "-oTkPre0vh9k",
    "outputId": "b7fb8077-9143-4ecc-d70b-1079fb479aab",
    "tags": []
   },
   "outputs": [
    {
     "data": {
      "text/html": [
       "<div>\n",
       "<style scoped>\n",
       "    .dataframe tbody tr th:only-of-type {\n",
       "        vertical-align: middle;\n",
       "    }\n",
       "\n",
       "    .dataframe tbody tr th {\n",
       "        vertical-align: top;\n",
       "    }\n",
       "\n",
       "    .dataframe thead th {\n",
       "        text-align: right;\n",
       "    }\n",
       "</style>\n",
       "<table border=\"1\" class=\"dataframe\">\n",
       "  <thead>\n",
       "    <tr style=\"text-align: right;\">\n",
       "      <th></th>\n",
       "      <th>attachment_id</th>\n",
       "      <th>text</th>\n",
       "      <th>user_id</th>\n",
       "      <th>height</th>\n",
       "      <th>width</th>\n",
       "      <th>length</th>\n",
       "      <th>begin</th>\n",
       "      <th>end</th>\n",
       "      <th>group_rank</th>\n",
       "      <th>dataset</th>\n",
       "    </tr>\n",
       "  </thead>\n",
       "  <tbody>\n",
       "    <tr>\n",
       "      <th>19995</th>\n",
       "      <td>81cab3c3-80be-4eb1-b3bf-fd1b69034a16</td>\n",
       "      <td>отложенный</td>\n",
       "      <td>4d26ad833542291c50de9ce88fb4f64a</td>\n",
       "      <td>640</td>\n",
       "      <td>360</td>\n",
       "      <td>131.0</td>\n",
       "      <td>12</td>\n",
       "      <td>73</td>\n",
       "      <td>20</td>\n",
       "      <td>test</td>\n",
       "    </tr>\n",
       "    <tr>\n",
       "      <th>19996</th>\n",
       "      <td>4eeeea02-df4c-4667-872e-8387ed31c32e</td>\n",
       "      <td>башенные часы</td>\n",
       "      <td>3018b64d2c938f5b6a0826dfdf486f2c</td>\n",
       "      <td>640</td>\n",
       "      <td>360</td>\n",
       "      <td>145.0</td>\n",
       "      <td>17</td>\n",
       "      <td>83</td>\n",
       "      <td>20</td>\n",
       "      <td>test</td>\n",
       "    </tr>\n",
       "    <tr>\n",
       "      <th>19997</th>\n",
       "      <td>d947ab2e-0b6e-4ea7-a5dd-b401c572d177</td>\n",
       "      <td>дважды</td>\n",
       "      <td>3018b64d2c938f5b6a0826dfdf486f2c</td>\n",
       "      <td>640</td>\n",
       "      <td>360</td>\n",
       "      <td>127.0</td>\n",
       "      <td>13</td>\n",
       "      <td>63</td>\n",
       "      <td>20</td>\n",
       "      <td>test</td>\n",
       "    </tr>\n",
       "    <tr>\n",
       "      <th>19998</th>\n",
       "      <td>03edb6f1-1c91-46ce-8394-b74bca3b3cd7</td>\n",
       "      <td>время от 0 ночи до 12 дня</td>\n",
       "      <td>472fb939766ece63eb06e2d0e10eb679</td>\n",
       "      <td>840</td>\n",
       "      <td>358</td>\n",
       "      <td>178.0</td>\n",
       "      <td>16</td>\n",
       "      <td>138</td>\n",
       "      <td>19</td>\n",
       "      <td>test</td>\n",
       "    </tr>\n",
       "    <tr>\n",
       "      <th>19999</th>\n",
       "      <td>5393ec0c-85a4-4980-a2da-e84259050d83</td>\n",
       "      <td>время от 0 ночи до 12 дня</td>\n",
       "      <td>30eae85220a3d47b79b9955a08d31d63</td>\n",
       "      <td>640</td>\n",
       "      <td>360</td>\n",
       "      <td>205.0</td>\n",
       "      <td>32</td>\n",
       "      <td>172</td>\n",
       "      <td>20</td>\n",
       "      <td>test</td>\n",
       "    </tr>\n",
       "  </tbody>\n",
       "</table>\n",
       "</div>"
      ],
      "text/plain": [
       "                              attachment_id  ... dataset\n",
       "19995  81cab3c3-80be-4eb1-b3bf-fd1b69034a16  ...    test\n",
       "19996  4eeeea02-df4c-4667-872e-8387ed31c32e  ...    test\n",
       "19997  d947ab2e-0b6e-4ea7-a5dd-b401c572d177  ...    test\n",
       "19998  03edb6f1-1c91-46ce-8394-b74bca3b3cd7  ...    test\n",
       "19999  5393ec0c-85a4-4980-a2da-e84259050d83  ...    test\n",
       "\n",
       "[5 rows x 10 columns]"
      ]
     },
     "execution_count": 6,
     "metadata": {},
     "output_type": "execute_result"
    }
   ],
   "source": [
    "video_labels = pd.read_csv(annotations_file, sep='\\t')\n",
    "video_labels['group_rank'] = video_labels.groupby(['text']).cumcount()+1;\n",
    "video_labels['dataset'] = np.where(video_labels['group_rank']<17,'train', np.where(video_labels['group_rank']<19,'val', 'test'))\n",
    "if len(limit_list)>0:\n",
    "  video_labels = video_labels[video_labels.text.isin(limit_list)]\n",
    "video_labels.tail(5)"
   ]
  },
  {
   "cell_type": "code",
   "execution_count": 7,
   "metadata": {
    "colab": {
     "base_uri": "https://localhost:8080/"
    },
    "execution": {
     "iopub.execute_input": "2024-01-08T19:07:27.318501Z",
     "iopub.status.busy": "2024-01-08T19:07:27.317826Z",
     "iopub.status.idle": "2024-01-08T19:07:27.383573Z",
     "shell.execute_reply": "2024-01-08T19:07:27.382847Z",
     "shell.execute_reply.started": "2024-01-08T19:07:27.318463Z"
    },
    "id": "OQc78Q_StZUb",
    "outputId": "055269e5-a2ac-4eea-a010-665e2c2034a6",
    "tags": []
   },
   "outputs": [
    {
     "name": "stdout",
     "output_type": "stream",
     "text": [
      "Total number of classes: 1000. Example classes: ('Ё', 'А', 'Р', 'Е', 'Ч')\n"
     ]
    }
   ],
   "source": [
    "classes = tuple(video_labels.text.unique())\n",
    "n_class = len(classes)\n",
    "print(f\"Total number of classes: {n_class}. Example classes: {classes[:5]}\")"
   ]
  },
  {
   "cell_type": "code",
   "execution_count": 8,
   "metadata": {
    "colab": {
     "base_uri": "https://localhost:8080/"
    },
    "execution": {
     "iopub.execute_input": "2024-01-08T19:07:31.305647Z",
     "iopub.status.busy": "2024-01-08T19:07:31.304914Z",
     "iopub.status.idle": "2024-01-08T19:07:31.328671Z",
     "shell.execute_reply": "2024-01-08T19:07:31.328005Z",
     "shell.execute_reply.started": "2024-01-08T19:07:31.305607Z"
    },
    "id": "eDF-8mptt0a0",
    "outputId": "7255e631-9d2a-4a31-da83-cfb3c6aa5d4a",
    "tags": []
   },
   "outputs": [
    {
     "data": {
      "text/plain": [
       "104"
      ]
     },
     "execution_count": 8,
     "metadata": {},
     "output_type": "execute_result"
    }
   ],
   "source": [
    "classes.index('слон')"
   ]
  },
  {
   "cell_type": "code",
   "execution_count": null,
   "metadata": {
    "colab": {
     "background_save": true
    },
    "execution": {
     "iopub.execute_input": "2024-01-08T19:07:35.594895Z",
     "iopub.status.busy": "2024-01-08T19:07:35.594062Z"
    },
    "id": "15n9xcoiv9bm",
    "tags": []
   },
   "outputs": [
    {
     "name": "stderr",
     "output_type": "stream",
     "text": [
      "INFO: Created TensorFlow Lite XNNPACK delegate for CPU.\n"
     ]
    }
   ],
   "source": [
    "train_kwargs = {'num_workers': 0, 'pin_memory': True} if use_cuda else {}\n",
    "test_kwargs = {'num_workers': 0, 'pin_memory': True} if use_cuda else {}\n",
    "val_kwargs = {'num_workers': 0, 'pin_memory': True} if use_cuda else {}\n",
    "\n",
    "train_dataloader = DataLoader(VideoDataset(video_labels, video_dir, IMG_SIZE, min_frame_count, classes, face_detection_model, ds_type = \"train\"), batch_size=train_batch_size, shuffle=True, **train_kwargs)\n",
    "val_dataloader = DataLoader(VideoDataset(video_labels, video_dir, IMG_SIZE, min_frame_count, classes, face_detection_model, ds_type = \"val\"), batch_size=val_batch_size, shuffle=True, **val_kwargs)\n",
    "test_dataloader = DataLoader(VideoDataset(video_labels, video_dir, IMG_SIZE, min_frame_count, classes, face_detection_model, ds_type = \"test\"), batch_size=test_batch_size, shuffle=True, **test_kwargs)"
   ]
  },
  {
   "cell_type": "code",
   "execution_count": null,
   "metadata": {
    "colab": {
     "background_save": true
    },
    "id": "aY5ltVCU0s9A",
    "outputId": "9c607579-a0cd-4854-9a80-6302c6f2d84d",
    "tags": []
   },
   "outputs": [],
   "source": [
    "display_frames(n_frames=3, dataloader=train_dataloader, classes=classes)"
   ]
  },
  {
   "cell_type": "code",
   "execution_count": null,
   "metadata": {
    "colab": {
     "background_save": true
    },
    "id": "wMf5dmqBgJs7",
    "outputId": "34d38621-797a-48dd-dcf4-f8815e078ac1",
    "tags": []
   },
   "outputs": [],
   "source": [
    "use_cuda = use_cuda and torch.cuda.is_available()\n",
    "\n",
    "if use_cuda:\n",
    "  torch.cuda.manual_seed(seed)  # Set the random seed for the current GPU\n",
    "else:\n",
    "  torch.manual_seed(seed)\n",
    "\n",
    "device = torch.device(\"cuda\" if use_cuda else \"cpu\")\n",
    "\n",
    "print(f\"Device: {device}\")"
   ]
  },
  {
   "cell_type": "code",
   "execution_count": null,
   "metadata": {},
   "outputs": [],
   "source": [
    "torch.save(train_dataloader, '/home/jupyter/mnt/s3/rsl-videos/slovo/color_frames_train_dataloader.pth')\n",
    "torch.save(test_dataloader, '/home/jupyter/mnt/s3/rsl-videos/slovo/color_frames_test_dataloader.pth')\n",
    "torch.save(val_dataloader, '/home/jupyter/mnt/s3/rsl-videos/slovo/color_frames_val_dataloader.pth')"
   ]
  }
 ],
 "metadata": {
  "accelerator": "GPU",
  "colab": {
   "provenance": []
  },
  "kernelspec": {
   "display_name": "DataSphere Kernel",
   "language": "python",
   "name": "python3"
  },
  "language_info": {
   "codemirror_mode": {
    "name": "ipython",
    "version": 3
   },
   "file_extension": ".py",
   "mimetype": "text/x-python",
   "name": "python",
   "nbconvert_exporter": "python",
   "pygments_lexer": "ipython3",
   "version": "3.7.7"
  },
  "toc-autonumbering": true
 },
 "nbformat": 4,
 "nbformat_minor": 4
}

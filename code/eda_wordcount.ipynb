{
 "cells": [
  {
   "cell_type": "code",
   "execution_count": 102,
   "metadata": {},
   "outputs": [],
   "source": [
    "import os\n",
    "import json\n",
    "annotations_path = ''"
   ]
  },
  {
   "cell_type": "code",
   "execution_count": 103,
   "metadata": {},
   "outputs": [],
   "source": [
    "annotations = [f for f in os.listdir(annotations_path) if f != 'description.csv' and 'bad' not in f]"
   ]
  },
  {
   "cell_type": "code",
   "execution_count": 104,
   "metadata": {},
   "outputs": [],
   "source": [
    " # Посчитаем списки глосс для каждой руки и кол-во фраз разной\n",
    "glosses_1 = list()\n",
    "glosses_2 = list()\n",
    "translations = list()\n",
    "for filename in annotations:\n",
    "    with open(annotations_path+'/'+filename, 'r') as f:\n",
    "        data = json.load(f)\n",
    "        start_time = 0\n",
    "        i = 0\n",
    "        for r in data:\n",
    "            try: r[1] >= start_time\n",
    "            except: print(1)\n",
    "            if r[1] >= start_time:\n",
    "                start_time = r[1]\n",
    "                if i == 0:\n",
    "                    glosses_1.append(r)\n",
    "                elif i==1:\n",
    "                    glosses_2.append(r)\n",
    "            else:\n",
    "                i+=1\n",
    "                if i == 1:\n",
    "                    glosses_2.append(r)\n",
    "                    start_time = r[1]\n",
    "                translations.append(r)"
   ]
  },
  {
   "cell_type": "code",
   "execution_count": 107,
   "metadata": {},
   "outputs": [
    {
     "name": "stdout",
     "output_type": "stream",
     "text": [
      "Общее кол-во видеофайлов: 173\n",
      "Количество отдельных фраз во всех видео (включая односложные, междометия и т.п.): 13142\n",
      "Кол-во глосс для правой руки: 32835\n",
      "Кол-во глосс для левой руки: 23159\n",
      "Аугметация отзеркаливанием => глосс для каждой руки: 55994\n"
     ]
    }
   ],
   "source": [
    "print(f\"Общее кол-во видеофайлов: {len(annotations)}\")\n",
    "print(f\"Количество отдельных фраз во всех видео (включая односложные, междометия и т.п.): {len(translations)}\")\n",
    "print(f\"Кол-во глосс для правой руки: {len(glosses_1)}\")\n",
    "print(f\"Кол-во глосс для левой руки: {len(glosses_2)}\")\n",
    "print(f\"Аугментация отзеркаливанием => глосс для каждой руки: {len(glosses_1)+len(glosses_2)}\")"
   ]
  },
  {
   "cell_type": "code",
   "execution_count": 106,
   "metadata": {},
   "outputs": [],
   "source": [
    "# for filename in ['RSLN-n1-s19.txt', 'RSLN-n4-s2.txt']:\n",
    "#     with open('/annotations_manual/'+filename, 'r', encoding='utf-8') as f:\n",
    "#         data = json.load(f)\n",
    "#     with open(annotations_path+'/'+filename+'.txt', 'w') as new_file:\n",
    "#         new_file.write(json.dumps(data, ensure_ascii=False).encode(\"utf-8\").decode())"
   ]
  }
 ],
 "metadata": {
  "kernelspec": {
   "display_name": "Python 3",
   "language": "python",
   "name": "python3"
  },
  "language_info": {
   "codemirror_mode": {
    "name": "ipython",
    "version": 3
   },
   "file_extension": ".py",
   "mimetype": "text/x-python",
   "name": "python",
   "nbconvert_exporter": "python",
   "pygments_lexer": "ipython3",
   "version": "3.10.5"
  },
  "orig_nbformat": 4
 },
 "nbformat": 4,
 "nbformat_minor": 2
}

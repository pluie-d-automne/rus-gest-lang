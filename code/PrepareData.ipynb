{
 "cells": [
  {
   "cell_type": "markdown",
   "metadata": {
    "cellId": "iai10q4myd9stdf64vone",
    "id": "1G3-oihH2rI-"
   },
   "source": [
    "https://pytorch.org/tutorials/beginner/basics/data_tutorial.html\n",
    "\n",
    "A custom Dataset class must implement three functions: __init__, __len__, and __getitem__.\n",
    "\n",
    "https://github.com/bomri/SlowFast/blob/master/slowfast/datasets/loader.py\n",
    "\n",
    "https://github.com/bomri/SlowFast/blob/master/slowfast/datasets/ava_dataset.py\n",
    "\n",
    "https://github.com/HHTseng/video-classification/blob/master/ResNetCRNN_varylength/UCF101_ResNetCRNN_varlen.py\n",
    "https://www.ai-contentlab.com/2023/01/video-classification-is-important-task.html\n",
    "\n",
    "https://discuss.pytorch.org/t/how-upload-sequence-of-image-on-video-classification/24865/13\n",
    "\n",
    "Оптический поток\n",
    "https://docs.opencv.org/2.4/modules/video/doc/motion_analysis_and_object_tracking.html\n",
    "\n",
    "Skeleton\n",
    "https://www.fireblazeaischool.in/blogs/human-pose-estimation-using-opencv/"
   ]
  },
  {
   "cell_type": "markdown",
   "metadata": {
    "cellId": "ebk7qk8okz6rlk4hp7jrbb",
    "id": "sL0Mup8ev7iQ"
   },
   "source": [
    "# Data Loader\n",
    "\n",
    "Добавить нормализацию!!!"
   ]
  },
  {
   "cell_type": "code",
   "execution_count": 5,
   "metadata": {
    "cellId": "6tzf9wizsb54btlyb4undo",
    "execution": {
     "iopub.execute_input": "2023-11-21T16:43:09.860847Z",
     "iopub.status.busy": "2023-11-21T16:43:09.860138Z",
     "iopub.status.idle": "2023-11-21T16:43:09.889339Z",
     "shell.execute_reply": "2023-11-21T16:43:09.888623Z",
     "shell.execute_reply.started": "2023-11-21T16:43:09.860811Z"
    },
    "id": "_a8oa_eOWDoS"
   },
   "outputs": [],
   "source": [
    "labels_list = ['пингвин',\n",
    " 'жираф',\n",
    " 'лягушка',\n",
    " 'бегемот',\n",
    " 'козел',\n",
    " 'лиса',\n",
    " 'динозавр',\n",
    " 'кролик',\n",
    " 'собака',\n",
    " 'обезьяна',\n",
    " 'корова',\n",
    " 'свинья',\n",
    " 'медуза',\n",
    " 'курица',\n",
    " 'павлин',\n",
    " 'дельфин',\n",
    " 'слон',\n",
    " 'медведь',\n",
    " 'лебедь',\n",
    " 'орел',\n",
    " 'бык',\n",
    " 'змея',\n",
    " 'птица',\n",
    " 'лось',\n",
    " 'пчела',\n",
    " 'лев',\n",
    " 'тигр',\n",
    " 'мышь',\n",
    " 'паук',\n",
    " 'бабочка']\n",
    "\n",
    " # Курс Седжвика по алгоритмам"
   ]
  },
  {
   "cell_type": "code",
   "execution_count": 1,
   "metadata": {
    "cellId": "8paurz5im5rjiljc9duqhp",
    "execution": {
     "iopub.execute_input": "2023-11-21T16:42:30.907473Z",
     "iopub.status.busy": "2023-11-21T16:42:30.906698Z",
     "iopub.status.idle": "2023-11-21T16:42:39.202741Z",
     "shell.execute_reply": "2023-11-21T16:42:39.202040Z",
     "shell.execute_reply.started": "2023-11-21T16:42:30.907432Z"
    },
    "id": "RcSpbHhEf-XV",
    "tags": []
   },
   "outputs": [],
   "source": [
    "import os\n",
    "import cv2\n",
    "import torch\n",
    "torch.cuda.empty_cache()\n",
    "from torch import nn\n",
    "from torch.utils.data import DataLoader\n",
    "import numpy as np\n",
    "import pandas as pd\n",
    "from torch.utils.data import Dataset"
   ]
  },
  {
   "cell_type": "code",
   "execution_count": 2,
   "metadata": {
    "cellId": "gzf0os2eohpvg5ebxi867",
    "execution": {
     "iopub.execute_input": "2023-11-21T16:42:39.204693Z",
     "iopub.status.busy": "2023-11-21T16:42:39.204082Z",
     "iopub.status.idle": "2023-11-21T16:42:39.249478Z",
     "shell.execute_reply": "2023-11-21T16:42:39.248808Z",
     "shell.execute_reply.started": "2023-11-21T16:42:39.204660Z"
    },
    "id": "AG_BoaIqf-6V"
   },
   "outputs": [],
   "source": [
    "def crop_center_square(frame):\n",
    "    y, x = frame.shape[0:2]\n",
    "    min_dim = min(y, x)\n",
    "    start_x = (x // 2) - (min_dim // 2)\n",
    "    start_y = (y // 2) - (min_dim // 2)\n",
    "    return frame[start_y : start_y + min_dim, start_x : start_x + min_dim]\n",
    "\n",
    "def load_video(path, begin, end, base_name, resize=(10, 10)):\n",
    "    cap = cv2.VideoCapture(path)\n",
    "    frame_index=begin\n",
    "    i = 0\n",
    "    try:\n",
    "        while True and frame_index <= end:\n",
    "            cap.set(cv2.CAP_PROP_POS_FRAMES, frame_index)\n",
    "            ret, frame = cap.read()\n",
    "            if not ret:\n",
    "                break\n",
    "            frame = crop_center_square(frame)\n",
    "            frame = cv2.resize(frame, resize)\n",
    "            frame = cv2.cvtColor(frame, cv2.COLOR_BGR2GRAY) # convert to grayscale\n",
    "            frame_name = f'{base_name}_{i}.png'\n",
    "            cv2.imwrite(frame_name, frame)\n",
    "            frame_index+=1\n",
    "            i+=1\n",
    "    finally:\n",
    "        cap.release()\n"
   ]
  },
  {
   "cell_type": "code",
   "execution_count": 3,
   "metadata": {
    "cellId": "w9p753byrgldi94y8utr",
    "execution": {
     "iopub.execute_input": "2023-11-21T16:42:43.986694Z",
     "iopub.status.busy": "2023-11-21T16:42:43.986064Z",
     "iopub.status.idle": "2023-11-21T16:42:44.014543Z",
     "shell.execute_reply": "2023-11-21T16:42:44.013864Z",
     "shell.execute_reply.started": "2023-11-21T16:42:43.986656Z"
    },
    "id": "YV2k0jav3Ygd"
   },
   "outputs": [],
   "source": [
    "annotations_file = \"/home/jupyter/mnt/s3/rsl-videos/slovo/slovo_annotations/SLOVO_DATAFRAME.tsv\"\n",
    "video_dir = \"/home/jupyter/mnt/s3/rsl-videos/slovo/slovo\"\n",
    "dataset_dir = \"/home/jupyter/mnt/s3/rsl-videos/slovo/dataset\"\n",
    "IMG_SIZE = 224\n",
    "BATCH_SIZE = 6\n",
    "LEARNING_RATE = 0.001\n",
    "NUM_EPOCHS = 10"
   ]
  },
  {
   "cell_type": "code",
   "execution_count": 4,
   "metadata": {
    "cellId": "451pcawjko8t9vly7emlcs",
    "colab": {
     "base_uri": "https://localhost:8080/",
     "height": 206
    },
    "execution": {
     "iopub.execute_input": "2023-11-21T16:42:47.041905Z",
     "iopub.status.busy": "2023-11-21T16:42:47.041143Z",
     "iopub.status.idle": "2023-11-21T16:42:47.410120Z",
     "shell.execute_reply": "2023-11-21T16:42:47.409443Z",
     "shell.execute_reply.started": "2023-11-21T16:42:47.041866Z"
    },
    "id": "FvlrwcpQgBTA",
    "outputId": "d88de4d5-5483-4fb8-a53f-29cd419fc8ce"
   },
   "outputs": [
    {
     "data": {
      "text/html": [
       "<div>\n",
       "<style scoped>\n",
       "    .dataframe tbody tr th:only-of-type {\n",
       "        vertical-align: middle;\n",
       "    }\n",
       "\n",
       "    .dataframe tbody tr th {\n",
       "        vertical-align: top;\n",
       "    }\n",
       "\n",
       "    .dataframe thead th {\n",
       "        text-align: right;\n",
       "    }\n",
       "</style>\n",
       "<table border=\"1\" class=\"dataframe\">\n",
       "  <thead>\n",
       "    <tr style=\"text-align: right;\">\n",
       "      <th></th>\n",
       "      <th>attachment_id</th>\n",
       "      <th>text</th>\n",
       "      <th>user_id</th>\n",
       "      <th>height</th>\n",
       "      <th>width</th>\n",
       "      <th>length</th>\n",
       "      <th>begin</th>\n",
       "      <th>end</th>\n",
       "    </tr>\n",
       "  </thead>\n",
       "  <tbody>\n",
       "    <tr>\n",
       "      <th>0</th>\n",
       "      <td>44e8d2a0-7e01-450b-90b0-beb7400d2c1e</td>\n",
       "      <td>Ё</td>\n",
       "      <td>185bd3a81d9d618518d10abebf0d17a8</td>\n",
       "      <td>640</td>\n",
       "      <td>360</td>\n",
       "      <td>156.0</td>\n",
       "      <td>36</td>\n",
       "      <td>112</td>\n",
       "    </tr>\n",
       "    <tr>\n",
       "      <th>1</th>\n",
       "      <td>df5b08f0-41d1-4572-889c-8b893e71069b</td>\n",
       "      <td>А</td>\n",
       "      <td>185bd3a81d9d618518d10abebf0d17a8</td>\n",
       "      <td>640</td>\n",
       "      <td>360</td>\n",
       "      <td>150.0</td>\n",
       "      <td>36</td>\n",
       "      <td>76</td>\n",
       "    </tr>\n",
       "    <tr>\n",
       "      <th>2</th>\n",
       "      <td>17f53df4-c467-4aff-9f48-20687b63d49a</td>\n",
       "      <td>Р</td>\n",
       "      <td>185bd3a81d9d618518d10abebf0d17a8</td>\n",
       "      <td>640</td>\n",
       "      <td>360</td>\n",
       "      <td>133.0</td>\n",
       "      <td>40</td>\n",
       "      <td>97</td>\n",
       "    </tr>\n",
       "    <tr>\n",
       "      <th>3</th>\n",
       "      <td>e3add916-c708-4339-ad98-7e2740be29e9</td>\n",
       "      <td>Е</td>\n",
       "      <td>185bd3a81d9d618518d10abebf0d17a8</td>\n",
       "      <td>640</td>\n",
       "      <td>360</td>\n",
       "      <td>144.0</td>\n",
       "      <td>43</td>\n",
       "      <td>107</td>\n",
       "    </tr>\n",
       "    <tr>\n",
       "      <th>4</th>\n",
       "      <td>bd7272ed-1850-48f1-a2a8-c8fed523dc37</td>\n",
       "      <td>Ч</td>\n",
       "      <td>185bd3a81d9d618518d10abebf0d17a8</td>\n",
       "      <td>640</td>\n",
       "      <td>360</td>\n",
       "      <td>96.0</td>\n",
       "      <td>20</td>\n",
       "      <td>70</td>\n",
       "    </tr>\n",
       "  </tbody>\n",
       "</table>\n",
       "</div>"
      ],
      "text/plain": [
       "                          attachment_id text  ... begin  end\n",
       "0  44e8d2a0-7e01-450b-90b0-beb7400d2c1e    Ё  ...    36  112\n",
       "1  df5b08f0-41d1-4572-889c-8b893e71069b    А  ...    36   76\n",
       "2  17f53df4-c467-4aff-9f48-20687b63d49a    Р  ...    40   97\n",
       "3  e3add916-c708-4339-ad98-7e2740be29e9    Е  ...    43  107\n",
       "4  bd7272ed-1850-48f1-a2a8-c8fed523dc37    Ч  ...    20   70\n",
       "\n",
       "[5 rows x 8 columns]"
      ]
     },
     "execution_count": 4,
     "metadata": {},
     "output_type": "execute_result"
    }
   ],
   "source": [
    "video_labels = pd.read_csv(annotations_file, sep='\\t')\n",
    "video_labels.head(5)"
   ]
  },
  {
   "cell_type": "code",
   "execution_count": 12,
   "metadata": {
    "execution": {
     "iopub.execute_input": "2023-11-21T16:45:06.894245Z",
     "iopub.status.busy": "2023-11-21T16:45:06.893544Z",
     "iopub.status.idle": "2023-11-21T16:45:06.906524Z",
     "shell.execute_reply": "2023-11-21T16:45:06.905693Z",
     "shell.execute_reply.started": "2023-11-21T16:45:06.894205Z"
    },
    "tags": []
   },
   "outputs": [],
   "source": [
    "# оставляем только животных\n",
    "video_labels = video_labels[video_labels['text'].isin(labels_list)].head()"
   ]
  },
  {
   "cell_type": "code",
   "execution_count": 21,
   "metadata": {
    "execution": {
     "iopub.execute_input": "2023-11-21T16:48:42.422037Z",
     "iopub.status.busy": "2023-11-21T16:48:42.421294Z",
     "iopub.status.idle": "2023-11-21T16:48:42.452135Z",
     "shell.execute_reply": "2023-11-21T16:48:42.451394Z",
     "shell.execute_reply.started": "2023-11-21T16:48:42.421997Z"
    },
    "tags": []
   },
   "outputs": [
    {
     "data": {
      "text/html": [
       "<div>\n",
       "<style scoped>\n",
       "    .dataframe tbody tr th:only-of-type {\n",
       "        vertical-align: middle;\n",
       "    }\n",
       "\n",
       "    .dataframe tbody tr th {\n",
       "        vertical-align: top;\n",
       "    }\n",
       "\n",
       "    .dataframe thead th {\n",
       "        text-align: right;\n",
       "    }\n",
       "</style>\n",
       "<table border=\"1\" class=\"dataframe\">\n",
       "  <thead>\n",
       "    <tr style=\"text-align: right;\">\n",
       "      <th></th>\n",
       "      <th>attachment_id</th>\n",
       "      <th>text</th>\n",
       "      <th>user_id</th>\n",
       "      <th>height</th>\n",
       "      <th>width</th>\n",
       "      <th>length</th>\n",
       "      <th>begin</th>\n",
       "      <th>end</th>\n",
       "    </tr>\n",
       "  </thead>\n",
       "  <tbody>\n",
       "    <tr>\n",
       "      <th>453</th>\n",
       "      <td>b402fe3d-8d74-4ad6-9c8f-e7ee8cc35d25</td>\n",
       "      <td>козел</td>\n",
       "      <td>db573f94204e56e0cf3fc2ea000e5bdc</td>\n",
       "      <td>640</td>\n",
       "      <td>360</td>\n",
       "      <td>150.0</td>\n",
       "      <td>35</td>\n",
       "      <td>82</td>\n",
       "    </tr>\n",
       "  </tbody>\n",
       "</table>\n",
       "</div>"
      ],
      "text/plain": [
       "                            attachment_id   text  ... begin  end\n",
       "453  b402fe3d-8d74-4ad6-9c8f-e7ee8cc35d25  козел  ...    35   82\n",
       "\n",
       "[1 rows x 8 columns]"
      ]
     },
     "execution_count": 21,
     "metadata": {},
     "output_type": "execute_result"
    }
   ],
   "source": [
    "video_labels[video_labels['attachment_id']=='b402fe3d-8d74-4ad6-9c8f-e7ee8cc35d25']"
   ]
  },
  {
   "cell_type": "code",
   "execution_count": 6,
   "metadata": {
    "cellId": "v8gq9z24vm7330idafkxf",
    "colab": {
     "base_uri": "https://localhost:8080/"
    },
    "id": "z8Dou_DHiTHW",
    "outputId": "557e9f00-9c40-481a-84b3-3a667c085250"
   },
   "outputs": [],
   "source": [
    "labels_cnt = video_labels.groupby('text').size().to_dict()\n",
    "print(labels_cnt)\n",
    "# 75 - train, 15 - val, 10 - test"
   ]
  },
  {
   "cell_type": "code",
   "execution_count": 31,
   "metadata": {
    "cellId": "5fy66l48g69ya525pthcn",
    "execution": {
     "iopub.execute_input": "2023-11-21T16:57:38.789690Z",
     "iopub.status.busy": "2023-11-21T16:57:38.788960Z",
     "iopub.status.idle": "2023-11-21T16:57:47.325250Z",
     "shell.execute_reply": "2023-11-21T16:57:47.324599Z",
     "shell.execute_reply.started": "2023-11-21T16:57:38.789654Z"
    },
    "id": "OTXYLF_8ijzG",
    "tags": []
   },
   "outputs": [
    {
     "name": "stdout",
     "output_type": "stream",
     "text": [
      "453 attachment_id    b402fe3d-8d74-4ad6-9c8f-e7ee8cc35d25\n",
      "text                                            козел\n",
      "user_id              db573f94204e56e0cf3fc2ea000e5bdc\n",
      "height                                            640\n",
      "width                                             360\n",
      "length                                          150.0\n",
      "begin                                              35\n",
      "end                                                82\n",
      "Name: 453, dtype: object\n"
     ]
    }
   ],
   "source": [
    "test_counter = dict()\n",
    "val_counter = dict()\n",
    "train_counter = dict()\n",
    "\n",
    "#i=0\n",
    "for idx, row in video_labels.iterrows():\n",
    "    print(idx, row)\n",
    "    attachment_id = row['attachment_id']\n",
    "    filename = os.path.join(video_dir, attachment_id+\".mp4\")\n",
    "    label = row['text']\n",
    "    begin = row['begin']\n",
    "    end = row['end']\n",
    "    if label not in train_counter:\n",
    "        dataset_type = 'train'\n",
    "        train_counter[label] = 1\n",
    "    elif train_counter[label] < labels_cnt[label]*0.75:\n",
    "        dataset_type = 'train'\n",
    "        train_counter[label] += 1\n",
    "    elif label not in val_counter:\n",
    "        dataset_type = 'val'\n",
    "        val_counter[label] = 1\n",
    "    elif val_counter[label] < val_counter[label]*0.25:\n",
    "        dataset_type = 'val'\n",
    "        val_counter[label] += 1\n",
    "    elif label not in test_counter:\n",
    "        dataset_type = 'test'\n",
    "        test_counter[label] = 1\n",
    "    else:\n",
    "        dataset_type = 'test'\n",
    "        test_counter[label] += 1\n",
    "    dirname = os.path.join(dataset_dir , dataset_type, label, attachment_id)\n",
    "    if not os.path.exists(dirname):\n",
    "        os.makedirs(dirname)\n",
    "    base_name = os.path.join(dataset_dir , dataset_type, label, attachment_id, attachment_id)\n",
    "    load_video(path=filename,\n",
    "             begin=begin,\n",
    "             end=end,\n",
    "             base_name=base_name,\n",
    "             resize=(10, 10)\n",
    "             )\n",
    "    # i+=1\n",
    "    # if i==1:\n",
    "    #     break\n"
   ]
  },
  {
   "cell_type": "code",
   "execution_count": 35,
   "metadata": {
    "execution": {
     "iopub.execute_input": "2023-11-21T16:58:28.469904Z",
     "iopub.status.busy": "2023-11-21T16:58:28.469210Z",
     "iopub.status.idle": "2023-11-21T16:58:29.281096Z",
     "shell.execute_reply": "2023-11-21T16:58:29.280512Z",
     "shell.execute_reply.started": "2023-11-21T16:58:28.469863Z"
    },
    "tags": []
   },
   "outputs": [
    {
     "data": {
      "text/plain": [
       "['b402fe3d-8d74-4ad6-9c8f-e7ee8cc35d25_0.png',\n",
       " 'b402fe3d-8d74-4ad6-9c8f-e7ee8cc35d25_1.png',\n",
       " 'b402fe3d-8d74-4ad6-9c8f-e7ee8cc35d25_10.png',\n",
       " 'b402fe3d-8d74-4ad6-9c8f-e7ee8cc35d25_11.png',\n",
       " 'b402fe3d-8d74-4ad6-9c8f-e7ee8cc35d25_12.png',\n",
       " 'b402fe3d-8d74-4ad6-9c8f-e7ee8cc35d25_13.png',\n",
       " 'b402fe3d-8d74-4ad6-9c8f-e7ee8cc35d25_14.png',\n",
       " 'b402fe3d-8d74-4ad6-9c8f-e7ee8cc35d25_15.png',\n",
       " 'b402fe3d-8d74-4ad6-9c8f-e7ee8cc35d25_16.png',\n",
       " 'b402fe3d-8d74-4ad6-9c8f-e7ee8cc35d25_17.png',\n",
       " 'b402fe3d-8d74-4ad6-9c8f-e7ee8cc35d25_18.png',\n",
       " 'b402fe3d-8d74-4ad6-9c8f-e7ee8cc35d25_19.png',\n",
       " 'b402fe3d-8d74-4ad6-9c8f-e7ee8cc35d25_2.png',\n",
       " 'b402fe3d-8d74-4ad6-9c8f-e7ee8cc35d25_20.png',\n",
       " 'b402fe3d-8d74-4ad6-9c8f-e7ee8cc35d25_21.png',\n",
       " 'b402fe3d-8d74-4ad6-9c8f-e7ee8cc35d25_22.png',\n",
       " 'b402fe3d-8d74-4ad6-9c8f-e7ee8cc35d25_23.png',\n",
       " 'b402fe3d-8d74-4ad6-9c8f-e7ee8cc35d25_24.png',\n",
       " 'b402fe3d-8d74-4ad6-9c8f-e7ee8cc35d25_25.png',\n",
       " 'b402fe3d-8d74-4ad6-9c8f-e7ee8cc35d25_26.png',\n",
       " 'b402fe3d-8d74-4ad6-9c8f-e7ee8cc35d25_27.png',\n",
       " 'b402fe3d-8d74-4ad6-9c8f-e7ee8cc35d25_28.png',\n",
       " 'b402fe3d-8d74-4ad6-9c8f-e7ee8cc35d25_29.png',\n",
       " 'b402fe3d-8d74-4ad6-9c8f-e7ee8cc35d25_3.png',\n",
       " 'b402fe3d-8d74-4ad6-9c8f-e7ee8cc35d25_30.png',\n",
       " 'b402fe3d-8d74-4ad6-9c8f-e7ee8cc35d25_31.png',\n",
       " 'b402fe3d-8d74-4ad6-9c8f-e7ee8cc35d25_32.png',\n",
       " 'b402fe3d-8d74-4ad6-9c8f-e7ee8cc35d25_33.png',\n",
       " 'b402fe3d-8d74-4ad6-9c8f-e7ee8cc35d25_34.png',\n",
       " 'b402fe3d-8d74-4ad6-9c8f-e7ee8cc35d25_35.png',\n",
       " 'b402fe3d-8d74-4ad6-9c8f-e7ee8cc35d25_36.png',\n",
       " 'b402fe3d-8d74-4ad6-9c8f-e7ee8cc35d25_37.png',\n",
       " 'b402fe3d-8d74-4ad6-9c8f-e7ee8cc35d25_38.png',\n",
       " 'b402fe3d-8d74-4ad6-9c8f-e7ee8cc35d25_39.png',\n",
       " 'b402fe3d-8d74-4ad6-9c8f-e7ee8cc35d25_4.png',\n",
       " 'b402fe3d-8d74-4ad6-9c8f-e7ee8cc35d25_40.png',\n",
       " 'b402fe3d-8d74-4ad6-9c8f-e7ee8cc35d25_41.png',\n",
       " 'b402fe3d-8d74-4ad6-9c8f-e7ee8cc35d25_42.png',\n",
       " 'b402fe3d-8d74-4ad6-9c8f-e7ee8cc35d25_43.png',\n",
       " 'b402fe3d-8d74-4ad6-9c8f-e7ee8cc35d25_44.png',\n",
       " 'b402fe3d-8d74-4ad6-9c8f-e7ee8cc35d25_45.png',\n",
       " 'b402fe3d-8d74-4ad6-9c8f-e7ee8cc35d25_46.png',\n",
       " 'b402fe3d-8d74-4ad6-9c8f-e7ee8cc35d25_47.png',\n",
       " 'b402fe3d-8d74-4ad6-9c8f-e7ee8cc35d25_5.png',\n",
       " 'b402fe3d-8d74-4ad6-9c8f-e7ee8cc35d25_6.png',\n",
       " 'b402fe3d-8d74-4ad6-9c8f-e7ee8cc35d25_7.png',\n",
       " 'b402fe3d-8d74-4ad6-9c8f-e7ee8cc35d25_8.png',\n",
       " 'b402fe3d-8d74-4ad6-9c8f-e7ee8cc35d25_9.png']"
      ]
     },
     "execution_count": 35,
     "metadata": {},
     "output_type": "execute_result"
    }
   ],
   "source": [
    "os.listdir(dataset_dir+'/train/козел')"
   ]
  }
 ],
 "metadata": {
  "colab": {
   "provenance": []
  },
  "kernelspec": {
   "display_name": "DataSphere Kernel",
   "language": "python",
   "name": "python3"
  },
  "language_info": {
   "codemirror_mode": {
    "name": "ipython",
    "version": 3
   },
   "file_extension": ".py",
   "mimetype": "text/x-python",
   "name": "python",
   "nbconvert_exporter": "python",
   "pygments_lexer": "ipython3",
   "version": "3.7.7"
  },
  "notebookId": "d2660728-ac1e-42d4-aa13-348af46a070f",
  "notebookPath": "rus-gest-lang/code/PrepareData.ipynb"
 },
 "nbformat": 4,
 "nbformat_minor": 4
}

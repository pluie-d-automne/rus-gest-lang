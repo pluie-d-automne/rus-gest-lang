{
  "nbformat": 4,
  "nbformat_minor": 0,
  "metadata": {
    "colab": {
      "provenance": []
    },
    "kernelspec": {
      "name": "python3",
      "display_name": "Python 3"
    },
    "language_info": {
      "name": "python"
    }
  },
  "cells": [
    {
      "cell_type": "markdown",
      "source": [
        "# LSTM tutorial\n",
        "\n",
        "Pytorch’s LSTM expects all of its inputs to be 3D tensors.\n",
        "The semantics of the axes of these tensors is important:\n",
        "\n",
        "* The first axis is the sequence itself,\n",
        "* the second indexes instances in the mini-batch,\n",
        "* and the third indexes elements of the input."
      ],
      "metadata": {
        "id": "zgFGuBhd3bC3"
      }
    },
    {
      "cell_type": "code",
      "execution_count": 1,
      "metadata": {
        "colab": {
          "base_uri": "https://localhost:8080/"
        },
        "id": "LHH4fX4a0A-H",
        "outputId": "c49cab7c-45f3-4335-f2e4-9f858d0992f1"
      },
      "outputs": [
        {
          "output_type": "execute_result",
          "data": {
            "text/plain": [
              "<torch._C.Generator at 0x7c0a041a9390>"
            ]
          },
          "metadata": {},
          "execution_count": 1
        }
      ],
      "source": [
        "# Author: Robert Guthrie\n",
        "\n",
        "import torch\n",
        "import torch.nn as nn\n",
        "import torch.nn.functional as F\n",
        "import torch.optim as optim\n",
        "\n",
        "torch.manual_seed(1)"
      ]
    },
    {
      "cell_type": "code",
      "source": [
        "inputs = [torch.randn(1, 3) for _ in range(5)]  # make a sequence of length 5\n",
        "inputs"
      ],
      "metadata": {
        "colab": {
          "base_uri": "https://localhost:8080/"
        },
        "id": "FKEvfulg4FsW",
        "outputId": "eb29e834-9930-45d9-ca1c-30813f4dfa69"
      },
      "execution_count": 54,
      "outputs": [
        {
          "output_type": "execute_result",
          "data": {
            "text/plain": [
              "[tensor([[ 0.8123,  0.4575, -0.9634]]),\n",
              " tensor([[ 0.3268, -0.0092,  0.8424]]),\n",
              " tensor([[-0.2896, -0.2440, -0.5013]]),\n",
              " tensor([[-0.4043,  0.1324,  0.2618]]),\n",
              " tensor([[ 0.7479, -0.7517, -0.0047]])]"
            ]
          },
          "metadata": {},
          "execution_count": 54
        }
      ]
    },
    {
      "cell_type": "code",
      "source": [
        "lstm = nn.LSTM(3, 3)  # Input dim is 3, output dim is 3"
      ],
      "metadata": {
        "id": "lp5tAH3G4Tb5"
      },
      "execution_count": 3,
      "outputs": []
    },
    {
      "cell_type": "code",
      "source": [
        "hidden = (torch.randn(1, 1, 3),\n",
        "          torch.randn(1, 1, 3))\n",
        "hidden"
      ],
      "metadata": {
        "colab": {
          "base_uri": "https://localhost:8080/"
        },
        "id": "aIBRfvDr4U4A",
        "outputId": "e1d465e3-302e-40fa-eb8b-354cdfa0e36d"
      },
      "execution_count": 5,
      "outputs": [
        {
          "output_type": "execute_result",
          "data": {
            "text/plain": [
              "(tensor([[[-0.1473,  0.6272,  1.0935]]]),\n",
              " tensor([[[ 0.0939,  1.2381, -1.3459]]]))"
            ]
          },
          "metadata": {},
          "execution_count": 5
        }
      ]
    },
    {
      "cell_type": "code",
      "source": [
        "for i in inputs:\n",
        "    # Step through the sequence one element at a time.\n",
        "    # after each step, hidden contains the hidden state.\n",
        "    out, hidden = lstm(i.view(1, 1, -1), hidden)\n",
        "    print(f\"Out: {out}\")\n",
        "    print(f\"Hidden: {hidden}\")\n",
        "    print(\"\")"
      ],
      "metadata": {
        "colab": {
          "base_uri": "https://localhost:8080/"
        },
        "id": "ishrm_OR4ca8",
        "outputId": "38f8799f-785c-4f8b-c7f8-5603cedf4b20"
      },
      "execution_count": 6,
      "outputs": [
        {
          "output_type": "stream",
          "name": "stdout",
          "text": [
            "Out: tensor([[[ 0.1308,  0.2317, -0.2969]]], grad_fn=<MkldnnRnnLayerBackward0>)\n",
            "Hidden: (tensor([[[ 0.1308,  0.2317, -0.2969]]], grad_fn=<StackBackward0>), tensor([[[ 0.3348,  0.4114, -0.4703]]], grad_fn=<StackBackward0>))\n",
            "\n",
            "Out: tensor([[[0.1394, 0.0379, 0.0920]]], grad_fn=<MkldnnRnnLayerBackward0>)\n",
            "Hidden: (tensor([[[0.1394, 0.0379, 0.0920]]], grad_fn=<StackBackward0>), tensor([[[0.3892, 0.1117, 0.1668]]], grad_fn=<StackBackward0>))\n",
            "\n",
            "Out: tensor([[[0.0924, 0.0392, 0.1085]]], grad_fn=<MkldnnRnnLayerBackward0>)\n",
            "Hidden: (tensor([[[0.0924, 0.0392, 0.1085]]], grad_fn=<StackBackward0>), tensor([[[0.5721, 0.1021, 0.1846]]], grad_fn=<StackBackward0>))\n",
            "\n",
            "Out: tensor([[[ 0.2269, -0.0261,  0.3060]]], grad_fn=<MkldnnRnnLayerBackward0>)\n",
            "Hidden: (tensor([[[ 0.2269, -0.0261,  0.3060]]], grad_fn=<StackBackward0>), tensor([[[ 0.6940, -0.1030,  0.5651]]], grad_fn=<StackBackward0>))\n",
            "\n",
            "Out: tensor([[[ 0.2645, -0.0388,  0.4247]]], grad_fn=<MkldnnRnnLayerBackward0>)\n",
            "Hidden: (tensor([[[ 0.2645, -0.0388,  0.4247]]], grad_fn=<StackBackward0>), tensor([[[ 0.7019, -0.1519,  0.8765]]], grad_fn=<StackBackward0>))\n",
            "\n"
          ]
        }
      ]
    },
    {
      "cell_type": "code",
      "source": [
        "# alternatively, we can do the entire sequence all at once.\n",
        "# the first value returned by LSTM is all of the hidden states throughout\n",
        "# the sequence. the second is just the most recent hidden state\n",
        "# (compare the last slice of \"out\" with \"hidden\" below, they are the same)\n",
        "# The reason for this is that:\n",
        "# \"out\" will give you access to all hidden states in the sequence\n",
        "# \"hidden\" will allow you to continue the sequence and backpropagate,\n",
        "# by passing it as an argument  to the lstm at a later time\n",
        "# Add the extra 2nd dimension\n",
        "\n",
        "inputs = torch.cat(inputs).view(len(inputs), 1, -1)\n",
        "hidden = (torch.randn(1, 1, 3), torch.randn(1, 1, 3))  # clean out hidden state\n",
        "out, hidden = lstm(inputs, hidden)\n",
        "print(out)\n",
        "print(hidden)"
      ],
      "metadata": {
        "colab": {
          "base_uri": "https://localhost:8080/"
        },
        "id": "3_P3oSwZ5irK",
        "outputId": "378c2b55-2fa6-4f12-e009-e87c6f840f91"
      },
      "execution_count": 7,
      "outputs": [
        {
          "output_type": "stream",
          "name": "stdout",
          "text": [
            "tensor([[[-0.1521, -0.2757,  0.3132]],\n",
            "\n",
            "        [[ 0.0221, -0.2270,  0.3737]],\n",
            "\n",
            "        [[ 0.0728, -0.2071,  0.2309]],\n",
            "\n",
            "        [[ 0.2170, -0.1141,  0.3391]],\n",
            "\n",
            "        [[ 0.2636, -0.0775,  0.4328]]], grad_fn=<MkldnnRnnLayerBackward0>)\n",
            "(tensor([[[ 0.2636, -0.0775,  0.4328]]], grad_fn=<StackBackward0>), tensor([[[ 0.7047, -0.3022,  0.9152]]], grad_fn=<StackBackward0>))\n"
          ]
        }
      ]
    },
    {
      "cell_type": "code",
      "source": [
        "torch.cat(inputs)"
      ],
      "metadata": {
        "colab": {
          "base_uri": "https://localhost:8080/"
        },
        "id": "-S4se5IwXVVf",
        "outputId": "484e0cc0-9844-49c0-bd39-72ff020021c3"
      },
      "execution_count": 55,
      "outputs": [
        {
          "output_type": "execute_result",
          "data": {
            "text/plain": [
              "tensor([[ 0.8123,  0.4575, -0.9634],\n",
              "        [ 0.3268, -0.0092,  0.8424],\n",
              "        [-0.2896, -0.2440, -0.5013],\n",
              "        [-0.4043,  0.1324,  0.2618],\n",
              "        [ 0.7479, -0.7517, -0.0047]])"
            ]
          },
          "metadata": {},
          "execution_count": 55
        }
      ]
    },
    {
      "cell_type": "code",
      "source": [
        "torch.cat(inputs).view(len(inputs), 1, -1)"
      ],
      "metadata": {
        "colab": {
          "base_uri": "https://localhost:8080/"
        },
        "id": "FJcRbY-bXbJ8",
        "outputId": "4a915b83-7d3d-4413-aa61-f4a06c9db9c7"
      },
      "execution_count": 56,
      "outputs": [
        {
          "output_type": "execute_result",
          "data": {
            "text/plain": [
              "tensor([[[ 0.8123,  0.4575, -0.9634]],\n",
              "\n",
              "        [[ 0.3268, -0.0092,  0.8424]],\n",
              "\n",
              "        [[-0.2896, -0.2440, -0.5013]],\n",
              "\n",
              "        [[-0.4043,  0.1324,  0.2618]],\n",
              "\n",
              "        [[ 0.7479, -0.7517, -0.0047]]])"
            ]
          },
          "metadata": {},
          "execution_count": 56
        }
      ]
    },
    {
      "cell_type": "code",
      "source": [
        "torch.cat(inputs).view(1, 1, -1)"
      ],
      "metadata": {
        "colab": {
          "base_uri": "https://localhost:8080/"
        },
        "id": "PcfHeJnKXfuM",
        "outputId": "6c47cf5d-07f2-47b6-9913-80b380903e44"
      },
      "execution_count": 58,
      "outputs": [
        {
          "output_type": "execute_result",
          "data": {
            "text/plain": [
              "tensor([[[ 0.8123,  0.4575, -0.9634,  0.3268, -0.0092,  0.8424, -0.2896,\n",
              "          -0.2440, -0.5013, -0.4043,  0.1324,  0.2618,  0.7479, -0.7517,\n",
              "          -0.0047]]])"
            ]
          },
          "metadata": {},
          "execution_count": 58
        }
      ]
    },
    {
      "cell_type": "markdown",
      "source": [
        "# Example: An LSTM for Part-of-Speech Tagging"
      ],
      "metadata": {
        "id": "xxM71pRV6SDe"
      }
    },
    {
      "cell_type": "code",
      "source": [
        "def prepare_sequence(seq, to_ix):\n",
        "    idxs = [to_ix[w] for w in seq]\n",
        "    return torch.tensor(idxs, dtype=torch.long)\n",
        "\n",
        "\n",
        "training_data = [\n",
        "    # Tags are: DET - determiner; NN - noun; V - verb\n",
        "    # For example, the word \"The\" is a determiner\n",
        "    (\"The dog ate the apple\".split(), [\"DET\", \"NN\", \"V\", \"DET\", \"NN\"]),\n",
        "    (\"Everybody read that book\".split(), [\"NN\", \"V\", \"DET\", \"NN\"])\n",
        "]\n",
        "\n",
        "word_to_ix = {}"
      ],
      "metadata": {
        "id": "uKiFB_Nn6xKR"
      },
      "execution_count": 8,
      "outputs": []
    },
    {
      "cell_type": "code",
      "source": [
        "# For each words-list (sentence) and tags-list in each tuple of training_data\n",
        "for sent, tags in training_data:\n",
        "    for word in sent:\n",
        "        if word not in word_to_ix:  # word has not been assigned an index yet\n",
        "            word_to_ix[word] = len(word_to_ix)  # Assign each word with a unique index\n",
        "print(word_to_ix)\n",
        "tag_to_ix = {\"DET\": 0, \"NN\": 1, \"V\": 2}  # Assign each tag with a unique index\n",
        "\n",
        "# These will usually be more like 32 or 64 dimensional.\n",
        "# We will keep them small, so we can see how the weights change as we train.\n",
        "EMBEDDING_DIM = 6\n",
        "HIDDEN_DIM = 6"
      ],
      "metadata": {
        "colab": {
          "base_uri": "https://localhost:8080/"
        },
        "id": "cOac0_9H60-c",
        "outputId": "c3e1d06e-9d14-45db-e719-f74fa2e262e0"
      },
      "execution_count": 9,
      "outputs": [
        {
          "output_type": "stream",
          "name": "stdout",
          "text": [
            "{'The': 0, 'dog': 1, 'ate': 2, 'the': 3, 'apple': 4, 'Everybody': 5, 'read': 6, 'that': 7, 'book': 8}\n"
          ]
        }
      ]
    },
    {
      "cell_type": "code",
      "source": [
        "# Create the model:\n",
        "class LSTMTagger(nn.Module):\n",
        "\n",
        "    def __init__(self, embedding_dim, hidden_dim, vocab_size, tagset_size):\n",
        "        super(LSTMTagger, self).__init__()\n",
        "        self.hidden_dim = hidden_dim\n",
        "\n",
        "        self.word_embeddings = nn.Embedding(vocab_size, embedding_dim)\n",
        "\n",
        "        # The LSTM takes word embeddings as inputs, and outputs hidden states\n",
        "        # with dimensionality hidden_dim.\n",
        "        self.lstm = nn.LSTM(embedding_dim, hidden_dim)\n",
        "\n",
        "        # The linear layer that maps from hidden state space to tag space\n",
        "        self.hidden2tag = nn.Linear(hidden_dim, tagset_size)\n",
        "\n",
        "    def forward(self, sentence):\n",
        "        embeds = self.word_embeddings(sentence)\n",
        "        lstm_out, _ = self.lstm(embeds.view(len(sentence), 1, -1))\n",
        "        tag_space = self.hidden2tag(lstm_out.view(len(sentence), -1))\n",
        "        tag_scores = F.log_softmax(tag_space, dim=1)\n",
        "        return tag_scores"
      ],
      "metadata": {
        "id": "qve6G-il7Ikx"
      },
      "execution_count": 10,
      "outputs": []
    },
    {
      "cell_type": "code",
      "source": [
        "# Train the model\n",
        "model = LSTMTagger(EMBEDDING_DIM, HIDDEN_DIM, len(word_to_ix), len(tag_to_ix))\n",
        "loss_function = nn.NLLLoss()\n",
        "optimizer = optim.SGD(model.parameters(), lr=0.1)\n",
        "\n",
        "# See what the scores are before training\n",
        "# Note that element i,j of the output is the score for tag j for word i.\n",
        "# Here we don't need to train, so the code is wrapped in torch.no_grad()\n",
        "with torch.no_grad():\n",
        "    inputs = prepare_sequence(training_data[0][0], word_to_ix)\n",
        "    tag_scores = model(inputs)\n",
        "    print(tag_scores)\n",
        "\n",
        "for epoch in range(300):  # again, normally you would NOT do 300 epochs, it is toy data\n",
        "    for sentence, tags in training_data:\n",
        "        # Step 1. Remember that Pytorch accumulates gradients.\n",
        "        # We need to clear them out before each instance\n",
        "        model.zero_grad()\n",
        "\n",
        "        # Step 2. Get our inputs ready for the network, that is, turn them into\n",
        "        # Tensors of word indices.\n",
        "        sentence_in = prepare_sequence(sentence, word_to_ix)\n",
        "        targets = prepare_sequence(tags, tag_to_ix)\n",
        "\n",
        "        # Step 3. Run our forward pass.\n",
        "        tag_scores = model(sentence_in)\n",
        "\n",
        "        # Step 4. Compute the loss, gradients, and update the parameters by\n",
        "        #  calling optimizer.step()\n",
        "        loss = loss_function(tag_scores, targets)\n",
        "        loss.backward()\n",
        "        optimizer.step()\n",
        "\n",
        "# See what the scores are after training\n",
        "with torch.no_grad():\n",
        "    inputs = prepare_sequence(training_data[0][0], word_to_ix)\n",
        "    tag_scores = model(inputs)\n",
        "\n",
        "    # The sentence is \"the dog ate the apple\".  i,j corresponds to score for tag j\n",
        "    # for word i. The predicted tag is the maximum scoring tag.\n",
        "    # Here, we can see the predicted sequence below is 0 1 2 0 1\n",
        "    # since 0 is index of the maximum value of row 1,\n",
        "    # 1 is the index of maximum value of row 2, etc.\n",
        "    # Which is DET NOUN VERB DET NOUN, the correct sequence!\n",
        "    print(tag_scores)"
      ],
      "metadata": {
        "colab": {
          "base_uri": "https://localhost:8080/"
        },
        "id": "NtrDDLyR8FSb",
        "outputId": "8df73d98-70cb-45df-8c57-884b1d0273d7"
      },
      "execution_count": 11,
      "outputs": [
        {
          "output_type": "stream",
          "name": "stdout",
          "text": [
            "tensor([[-1.0477, -0.9759, -1.3004],\n",
            "        [-1.0864, -0.9507, -1.2870],\n",
            "        [-1.1187, -0.9845, -1.2051],\n",
            "        [-1.1188, -0.9834, -1.2064],\n",
            "        [-1.0595, -0.9589, -1.3091]])\n",
            "tensor([[-0.0317, -3.8281, -4.6566],\n",
            "        [-3.7377, -0.0485, -3.7476],\n",
            "        [-3.1539, -3.4553, -0.0772],\n",
            "        [-0.0592, -3.7359, -3.3930],\n",
            "        [-4.4938, -0.0199, -4.7633]])\n"
          ]
        }
      ]
    },
    {
      "cell_type": "code",
      "source": [
        "training_data[0][0]"
      ],
      "metadata": {
        "colab": {
          "base_uri": "https://localhost:8080/"
        },
        "id": "2B_K5wUT9f9R",
        "outputId": "1383ed10-62f1-4900-96fc-6c38fe1ba8d4"
      },
      "execution_count": 12,
      "outputs": [
        {
          "output_type": "execute_result",
          "data": {
            "text/plain": [
              "['The', 'dog', 'ate', 'the', 'apple']"
            ]
          },
          "metadata": {},
          "execution_count": 12
        }
      ]
    },
    {
      "cell_type": "code",
      "source": [
        "results = [(tag_scores == max(i)).nonzero(as_tuple=False)[0][1].item() for i in tag_scores]\n",
        "results"
      ],
      "metadata": {
        "colab": {
          "base_uri": "https://localhost:8080/"
        },
        "id": "eGdidX6F9rGy",
        "outputId": "f9861952-65b3-4865-f2e2-d3552a60f9b0"
      },
      "execution_count": 35,
      "outputs": [
        {
          "output_type": "execute_result",
          "data": {
            "text/plain": [
              "[0, 1, 2, 0, 1]"
            ]
          },
          "metadata": {},
          "execution_count": 35
        }
      ]
    },
    {
      "cell_type": "code",
      "source": [
        "ix_to_tag = {v:k for k,v in tag_to_ix.items()}\n",
        "[ix_to_tag[i] for i in results]"
      ],
      "metadata": {
        "colab": {
          "base_uri": "https://localhost:8080/"
        },
        "id": "VVhaIqsp_iPk",
        "outputId": "51337f92-4995-4fbb-8674-1b6627adb667"
      },
      "execution_count": 37,
      "outputs": [
        {
          "output_type": "execute_result",
          "data": {
            "text/plain": [
              "['DET', 'NN', 'V', 'DET', 'NN']"
            ]
          },
          "metadata": {},
          "execution_count": 37
        }
      ]
    },
    {
      "cell_type": "markdown",
      "source": [
        "# Word Embeddings in Pytorch\n",
        "The module that allows you to use embeddings is torch.nn.Embedding, which takes two arguments: the vocabulary size, and the dimensionality of the embeddings.\n",
        "\n",
        "To index into this table, you must use torch.LongTensor (since the indices are integers, not floats).\n",
        "\n"
      ],
      "metadata": {
        "id": "_IuaTOr8T3oO"
      }
    },
    {
      "cell_type": "code",
      "source": [
        "# Author: Robert Guthrie\n",
        "\n",
        "import torch\n",
        "import torch.nn as nn\n",
        "import torch.nn.functional as F\n",
        "import torch.optim as optim\n",
        "\n",
        "torch.manual_seed(1)"
      ],
      "metadata": {
        "colab": {
          "base_uri": "https://localhost:8080/"
        },
        "id": "gAfDAYPJT-eY",
        "outputId": "6ed5c5ca-c751-445f-852a-2997e996cb5f"
      },
      "execution_count": 38,
      "outputs": [
        {
          "output_type": "execute_result",
          "data": {
            "text/plain": [
              "<torch._C.Generator at 0x7c0a041a9390>"
            ]
          },
          "metadata": {},
          "execution_count": 38
        }
      ]
    },
    {
      "cell_type": "code",
      "source": [
        "word_to_ix = {\"hello\": 0, \"world\": 1}\n",
        "embeds = nn.Embedding(2, 5)  # 2 words in vocab, 5 dimensional embeddings\n",
        "lookup_tensor = torch.tensor([word_to_ix[\"hello\"]], dtype=torch.long)\n",
        "print(lookup_tensor)\n",
        "hello_embed = embeds(lookup_tensor)\n",
        "print(hello_embed)"
      ],
      "metadata": {
        "colab": {
          "base_uri": "https://localhost:8080/"
        },
        "id": "eWKvEF-CUBIP",
        "outputId": "edc89fee-a9b0-45d5-c3bb-630cf4fa7b16"
      },
      "execution_count": 39,
      "outputs": [
        {
          "output_type": "stream",
          "name": "stdout",
          "text": [
            "tensor([0])\n",
            "tensor([[ 0.6614,  0.2669,  0.0617,  0.6213, -0.4519]],\n",
            "       grad_fn=<EmbeddingBackward0>)\n"
          ]
        }
      ]
    },
    {
      "cell_type": "code",
      "source": [
        "hello_embed.view((1, -1))"
      ],
      "metadata": {
        "colab": {
          "base_uri": "https://localhost:8080/"
        },
        "id": "yBP0s2HFVR4D",
        "outputId": "82f21998-cc12-4aba-e643-615cd71e12dd"
      },
      "execution_count": 50,
      "outputs": [
        {
          "output_type": "execute_result",
          "data": {
            "text/plain": [
              "tensor([[ 0.6614,  0.2669,  0.0617,  0.6213, -0.4519]],\n",
              "       grad_fn=<ViewBackward0>)"
            ]
          },
          "metadata": {},
          "execution_count": 50
        }
      ]
    },
    {
      "cell_type": "markdown",
      "source": [
        "# An Example: N-Gram Language Modeling"
      ],
      "metadata": {
        "id": "PqQAXUwbUOT4"
      }
    },
    {
      "cell_type": "code",
      "source": [
        "CONTEXT_SIZE = 2\n",
        "EMBEDDING_DIM = 10\n",
        "\n",
        "# We will use Shakespeare Sonnet 2\n",
        "test_sentence = \"\"\"When forty winters shall besiege thy brow,\n",
        "And dig deep trenches in thy beauty's field,\n",
        "Thy youth's proud livery so gazed on now,\n",
        "Will be a totter'd weed of small worth held:\n",
        "Then being asked, where all thy beauty lies,\n",
        "Where all the treasure of thy lusty days;\n",
        "To say, within thine own deep sunken eyes,\n",
        "Were an all-eating shame, and thriftless praise.\n",
        "How much more praise deserv'd thy beauty's use,\n",
        "If thou couldst answer 'This fair child of mine\n",
        "Shall sum my count, and make my old excuse,'\n",
        "Proving his beauty by succession thine!\n",
        "This were to be new made when thou art old,\n",
        "And see thy blood warm when thou feel'st it cold.\"\"\".split()\n",
        "# we should tokenize the input, but we will ignore that for now\n",
        "# build a list of tuples.\n",
        "# Each tuple is ([ word_i-CONTEXT_SIZE, ..., word_i-1 ], target word)\n",
        "ngrams = [\n",
        "    (\n",
        "        [test_sentence[i - j - 1] for j in range(CONTEXT_SIZE)],\n",
        "        test_sentence[i]\n",
        "    )\n",
        "    for i in range(CONTEXT_SIZE, len(test_sentence))\n",
        "]\n",
        "# Print the first 3, just so you can see what they look like.\n",
        "print(ngrams[:3])\n"
      ],
      "metadata": {
        "colab": {
          "base_uri": "https://localhost:8080/"
        },
        "id": "HRJzMuwnUr1u",
        "outputId": "8be67277-69a4-4fae-9c15-c34ff5a62d1d"
      },
      "execution_count": 40,
      "outputs": [
        {
          "output_type": "stream",
          "name": "stdout",
          "text": [
            "[(['forty', 'When'], 'winters'), (['winters', 'forty'], 'shall'), (['shall', 'winters'], 'besiege')]\n"
          ]
        }
      ]
    },
    {
      "cell_type": "code",
      "source": [
        "vocab = set(test_sentence)\n",
        "word_to_ix = {word: i for i, word in enumerate(vocab)}\n",
        "print(word_to_ix)"
      ],
      "metadata": {
        "colab": {
          "base_uri": "https://localhost:8080/"
        },
        "id": "Dlv0WqdTU4GP",
        "outputId": "effbba8b-a795-4a5a-d5da-1a669471b6fa"
      },
      "execution_count": 45,
      "outputs": [
        {
          "output_type": "stream",
          "name": "stdout",
          "text": [
            "{'Then': 0, \"deserv'd\": 1, 'field,': 2, 'couldst': 3, 'answer': 4, 'see': 5, 'being': 6, 'warm': 7, 'so': 8, 'beauty': 9, 'of': 10, \"youth's\": 11, 'cold.': 12, 'child': 13, 'shame,': 14, \"'This\": 15, 'old': 16, 'thou': 17, 'winters': 18, 'forty': 19, 'treasure': 20, 'his': 21, \"beauty's\": 22, 'deep': 23, 'livery': 24, 'If': 25, 'days;': 26, 'an': 27, 'thy': 28, 'and': 29, 'more': 30, 'say,': 31, 'in': 32, 'the': 33, 'it': 34, 'praise.': 35, 'make': 36, 'fair': 37, \"feel'st\": 38, 'When': 39, 'dig': 40, 'proud': 41, 'my': 42, 'succession': 43, \"totter'd\": 44, 'now,': 45, 'on': 46, 'weed': 47, 'where': 48, 'worth': 49, 'lies,': 50, 'brow,': 51, 'trenches': 52, 'gazed': 53, 'praise': 54, 'art': 55, 'be': 56, 'much': 57, 'own': 58, 'thriftless': 59, 'when': 60, 'mine': 61, 'Shall': 62, 'shall': 63, 'besiege': 64, 'within': 65, 'sum': 66, 'all-eating': 67, 'Proving': 68, 'Were': 69, 'made': 70, 'new': 71, 'were': 72, 'count,': 73, 'thine': 74, 'blood': 75, 'a': 76, 'small': 77, 'thine!': 78, 'Where': 79, 'by': 80, 'asked,': 81, 'How': 82, 'eyes,': 83, 'sunken': 84, 'To': 85, 'Thy': 86, 'old,': 87, 'all': 88, 'This': 89, \"excuse,'\": 90, 'held:': 91, 'to': 92, 'use,': 93, 'lusty': 94, 'And': 95, 'Will': 96}\n"
          ]
        }
      ]
    },
    {
      "cell_type": "code",
      "source": [
        "class NGramLanguageModeler(nn.Module):\n",
        "\n",
        "    def __init__(self, vocab_size, embedding_dim, context_size):\n",
        "        super(NGramLanguageModeler, self).__init__()\n",
        "        self.embeddings = nn.Embedding(vocab_size, embedding_dim)\n",
        "        self.linear1 = nn.Linear(context_size * embedding_dim, 128)\n",
        "        self.linear2 = nn.Linear(128, vocab_size)\n",
        "\n",
        "    def forward(self, inputs):\n",
        "        embeds = self.embeddings(inputs).view((1, -1))\n",
        "        out = F.relu(self.linear1(embeds))\n",
        "        out = self.linear2(out)\n",
        "        log_probs = F.log_softmax(out, dim=1)\n",
        "        return log_probs\n",
        "\n",
        "\n",
        "losses = []\n",
        "loss_function = nn.NLLLoss()\n",
        "model = NGramLanguageModeler(len(vocab), EMBEDDING_DIM, CONTEXT_SIZE)\n",
        "optimizer = optim.SGD(model.parameters(), lr=0.001)\n",
        "\n",
        "for epoch in range(10):\n",
        "    total_loss = 0\n",
        "    for context, target in ngrams:\n",
        "\n",
        "        # Step 1. Prepare the inputs to be passed to the model (i.e, turn the words\n",
        "        # into integer indices and wrap them in tensors)\n",
        "        context_idxs = torch.tensor([word_to_ix[w] for w in context], dtype=torch.long)\n",
        "\n",
        "        # Step 2. Recall that torch *accumulates* gradients. Before passing in a\n",
        "        # new instance, you need to zero out the gradients from the old\n",
        "        # instance\n",
        "        model.zero_grad()\n",
        "\n",
        "        # Step 3. Run the forward pass, getting log probabilities over next\n",
        "        # words\n",
        "        log_probs = model(context_idxs)\n",
        "\n",
        "        # Step 4. Compute your loss function. (Again, Torch wants the target\n",
        "        # word wrapped in a tensor)\n",
        "        loss = loss_function(log_probs, torch.tensor([word_to_ix[target]], dtype=torch.long))\n",
        "\n",
        "        # Step 5. Do the backward pass and update the gradient\n",
        "        loss.backward()\n",
        "        optimizer.step()\n",
        "\n",
        "        # Get the Python number from a 1-element Tensor by calling tensor.item()\n",
        "        total_loss += loss.item()\n",
        "    losses.append(total_loss)\n",
        "print(losses)  # The loss decreased every iteration over the training data!"
      ],
      "metadata": {
        "colab": {
          "base_uri": "https://localhost:8080/"
        },
        "id": "mYcVjvHfVEL6",
        "outputId": "ff3d84ed-53dc-4337-ebad-33b39dc49ff5"
      },
      "execution_count": 51,
      "outputs": [
        {
          "output_type": "stream",
          "name": "stdout",
          "text": [
            "[521.7581403255463, 519.2174344062805, 516.6933262348175, 514.1854174137115, 511.6928012371063, 509.2154755592346, 506.7507917881012, 504.2979989051819, 501.85662150382996, 499.4271500110626]\n"
          ]
        }
      ]
    },
    {
      "cell_type": "code",
      "source": [
        "# To get the embedding of a particular word, e.g. \"beauty\"\n",
        "print(model.embeddings.weight[word_to_ix[\"beauty\"]])"
      ],
      "metadata": {
        "colab": {
          "base_uri": "https://localhost:8080/"
        },
        "id": "wbuvdk4RWad3",
        "outputId": "65cff828-cd3b-4adc-e7c6-cea947277d0d"
      },
      "execution_count": 52,
      "outputs": [
        {
          "output_type": "stream",
          "name": "stdout",
          "text": [
            "tensor([-1.4779, -1.1335, -0.1012,  0.3425, -1.0703, -0.8744,  0.2047,  0.3053,\n",
            "         0.5360, -0.4311], grad_fn=<SelectBackward0>)\n"
          ]
        }
      ]
    },
    {
      "cell_type": "markdown",
      "source": [],
      "metadata": {
        "id": "nIrtefiSUqzd"
      }
    }
  ]
}